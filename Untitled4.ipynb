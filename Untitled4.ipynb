{
 "cells": [
  {
   "cell_type": "code",
   "execution_count": 1,
   "metadata": {},
   "outputs": [],
   "source": [
    "# !pip install torch==2.2.2 torchtext==0.17.2 nltk\n",
    "# !pip install torchdata==0.7.1\n",
    "# !pip install pyarrow"
   ]
  },
  {
   "cell_type": "code",
   "execution_count": 2,
   "metadata": {},
   "outputs": [],
   "source": [
    "import torch\n",
    "import os\n",
    "import pickle\n",
    "from model import ClassificationNet, train_epoch, evaluate_epoch, save_list_to_file, load_list_from_file\n",
    "from torch.optim.lr_scheduler import CosineAnnealingLR"
   ]
  },
  {
   "cell_type": "code",
   "execution_count": 3,
   "metadata": {},
   "outputs": [
    {
     "name": "stdout",
     "output_type": "stream",
     "text": [
      "Imported successfully!\n",
      "Running on device: cuda\n",
      "Loading data from Parquet files...\n",
      "Vocabulary Size: 95811\n",
      "\n",
      "Verifying by fetching one batch from train_dataloader...\n",
      "Labels batch shape: torch.Size([64])\n",
      "Texts batch shape: torch.Size([64, 72])\n"
     ]
    }
   ],
   "source": [
    "from dataloader import get_dataloaders, DEVICE\n",
    "\n",
    "print(\"Imported successfully!\")\n",
    "print(f\"Running on device: {DEVICE}\")\n",
    "\n",
    "BATCH_SIZE = 64\n",
    "train_dataloader, valid_dataloader, test_dataloader, vocab = get_dataloaders(batch_size=BATCH_SIZE)\n",
    "\n",
    "# --- Verification Step ---\n",
    "print(\"\\nVerifying by fetching one batch from train_dataloader...\")\n",
    "labels, texts = next(iter(train_dataloader))\n",
    "\n",
    "print(f\"Labels batch shape: {labels.shape}\")\n",
    "print(f\"Texts batch shape: {texts.shape}\")"
   ]
  },
  {
   "cell_type": "code",
   "execution_count": 4,
   "metadata": {},
   "outputs": [],
   "source": [
    "vocab_size = len(vocab)\n",
    "num_classes = 4"
   ]
  },
  {
   "cell_type": "code",
   "execution_count": 5,
   "metadata": {},
   "outputs": [
    {
     "name": "stdout",
     "output_type": "stream",
     "text": [
      "Experiment artifacts will be saved in: runs/adam_from_epoch121\n",
      "Metrics will be saved in: runs/adam_from_epoch121/metrics\n"
     ]
    }
   ],
   "source": [
    "EXPERIMENT_DIR = \"runs/adam_from_epoch121\"\n",
    "METRICS_DIR = os.path.join(EXPERIMENT_DIR, \"metrics\") \n",
    "os.makedirs(EXPERIMENT_DIR, exist_ok=True)\n",
    "os.makedirs(METRICS_DIR, exist_ok=True) \n",
    "\n",
    "print(f\"Experiment artifacts will be saved in: {EXPERIMENT_DIR}\")\n",
    "print(f\"Metrics will be saved in: {METRICS_DIR}\")"
   ]
  },
  {
   "cell_type": "code",
   "execution_count": null,
   "metadata": {},
   "outputs": [],
   "source": []
  },
  {
   "cell_type": "code",
   "execution_count": 6,
   "metadata": {},
   "outputs": [],
   "source": [
    "model = ClassificationNet(vocab_size=vocab_size, num_class=num_classes).to(DEVICE)\n",
    "optimizer = torch.optim.Adam(model.parameters(), lr=0.0002)\n",
    "criterion = torch.nn.CrossEntropyLoss()"
   ]
  },
  {
   "cell_type": "code",
   "execution_count": 7,
   "metadata": {},
   "outputs": [],
   "source": [
    "# # define tits parameters after loading the checkpoint\n",
    "# scheduler = None"
   ]
  },
  {
   "cell_type": "code",
   "execution_count": 8,
   "metadata": {},
   "outputs": [],
   "source": [
    "start_epoch = 1\n",
    "best_val_accuracy = 0.0\n",
    "history = {'train_loss': [], 'train_acc': [], 'val_loss': [], 'val_acc': []}"
   ]
  },
  {
   "cell_type": "code",
   "execution_count": 11,
   "metadata": {},
   "outputs": [],
   "source": [
    "BASE_CHECKPOINT_PATH = 'runs/adam_from_epoch101/checkpoint.pth'"
   ]
  },
  {
   "cell_type": "code",
   "execution_count": 13,
   "metadata": {},
   "outputs": [
    {
     "name": "stdout",
     "output_type": "stream",
     "text": [
      "Found base checkpoint. Initializing model with weights from 'runs/adam_from_epoch101/checkpoint.pth'...\n"
     ]
    }
   ],
   "source": [
    "if os.path.exists(BASE_CHECKPOINT_PATH):\n",
    "    print(f\"Found base checkpoint. Initializing model with weights from '{BASE_CHECKPOINT_PATH}'...\")\n",
    "    checkpoint = torch.load(BASE_CHECKPOINT_PATH)\n",
    "    \n",
    "    model.load_state_dict(torch.load('runs/adam_from_epoch101/best_model.pth'))\n",
    "    optimizer.load_state_dict(checkpoint['optimizer_state_dict'])\n",
    "    \n",
    "    for param_group in optimizer.param_groups:\n",
    "        param_group['lr'] = 0.0002\n",
    "        \n",
    "    start_epoch = checkpoint['epoch'] + 1\n",
    "    history = checkpoint['history']                       # Continue history\n",
    "    best_val_accuracy = checkpoint['best_val_accuracy']\n",
    "    \n",
    "else:\n",
    "    print(\"No checkpoints found. Starting a completely new training run.\")"
   ]
  },
  {
   "cell_type": "code",
   "execution_count": 14,
   "metadata": {},
   "outputs": [
    {
     "data": {
      "text/plain": [
       "121"
      ]
     },
     "execution_count": 14,
     "metadata": {},
     "output_type": "execute_result"
    }
   ],
   "source": [
    "start_epoch"
   ]
  },
  {
   "cell_type": "code",
   "execution_count": 15,
   "metadata": {},
   "outputs": [],
   "source": [
    "EPOCHS = 140"
   ]
  },
  {
   "cell_type": "code",
   "execution_count": 16,
   "metadata": {},
   "outputs": [
    {
     "data": {
      "text/plain": [
       "0.0002"
      ]
     },
     "execution_count": 16,
     "metadata": {},
     "output_type": "execute_result"
    }
   ],
   "source": [
    "optimizer.param_groups[0]['lr']"
   ]
  },
  {
   "cell_type": "code",
   "execution_count": 18,
   "metadata": {
    "scrolled": true
   },
   "outputs": [
    {
     "name": "stderr",
     "output_type": "stream",
     "text": [
      "Training:   0%|          | 2/1725 [00:00<01:37, 17.66it/s, loss=0.1856]"
     ]
    },
    {
     "name": "stdout",
     "output_type": "stream",
     "text": [
      "Starting training from epoch 121...\n",
      "--------------------------------------------------\n",
      "Epoch 121/140\n"
     ]
    },
    {
     "name": "stderr",
     "output_type": "stream",
     "text": [
      "Training: 100%|██████████| 1725/1725 [01:10<00:00, 24.44it/s, loss=0.2691]\n",
      "Evaluating: 100%|██████████| 150/150 [00:01<00:00, 133.60it/s, loss=0.2634]\n"
     ]
    },
    {
     "name": "stdout",
     "output_type": "stream",
     "text": [
      "\n",
      "Epoch Summary:\n",
      "\tTrain Loss: 0.2691 | Train Acc: 90.92%\n",
      "\tValid Loss: 0.2634 | Valid Acc: 92.18%\n"
     ]
    },
    {
     "name": "stderr",
     "output_type": "stream",
     "text": [
      "Training:   0%|          | 3/1725 [00:00<01:10, 24.31it/s, loss=0.3481]"
     ]
    },
    {
     "name": "stdout",
     "output_type": "stream",
     "text": [
      "New best model saved to 'runs/adam_from_epoch121/best_model.pth'\n",
      "--------------------------------------------------\n",
      "Epoch 122/140\n"
     ]
    },
    {
     "name": "stderr",
     "output_type": "stream",
     "text": [
      "Training: 100%|██████████| 1725/1725 [00:41<00:00, 41.16it/s, loss=0.2673]\n",
      "Evaluating: 100%|██████████| 150/150 [00:01<00:00, 130.77it/s, loss=0.2591]\n"
     ]
    },
    {
     "name": "stdout",
     "output_type": "stream",
     "text": [
      "\n",
      "Epoch Summary:\n",
      "\tTrain Loss: 0.2673 | Train Acc: 91.12%\n",
      "\tValid Loss: 0.2591 | Valid Acc: 92.25%\n"
     ]
    },
    {
     "name": "stderr",
     "output_type": "stream",
     "text": [
      "Training:   0%|          | 5/1725 [00:00<00:42, 40.01it/s, loss=0.2450]"
     ]
    },
    {
     "name": "stdout",
     "output_type": "stream",
     "text": [
      "New best model saved to 'runs/adam_from_epoch121/best_model.pth'\n",
      "--------------------------------------------------\n",
      "Epoch 123/140\n"
     ]
    },
    {
     "name": "stderr",
     "output_type": "stream",
     "text": [
      "Training: 100%|██████████| 1725/1725 [00:41<00:00, 41.20it/s, loss=0.2662]\n",
      "Evaluating: 100%|██████████| 150/150 [00:01<00:00, 129.48it/s, loss=0.2640]\n",
      "Training:   0%|          | 3/1725 [00:00<01:07, 25.52it/s, loss=0.2367]"
     ]
    },
    {
     "name": "stdout",
     "output_type": "stream",
     "text": [
      "\n",
      "Epoch Summary:\n",
      "\tTrain Loss: 0.2662 | Train Acc: 91.07%\n",
      "\tValid Loss: 0.2640 | Valid Acc: 91.99%\n",
      "--------------------------------------------------\n",
      "Epoch 124/140\n"
     ]
    },
    {
     "name": "stderr",
     "output_type": "stream",
     "text": [
      "Training: 100%|██████████| 1725/1725 [00:41<00:00, 41.14it/s, loss=0.2660]\n",
      "Evaluating: 100%|██████████| 150/150 [00:01<00:00, 129.48it/s, loss=0.2649]\n",
      "Training:   0%|          | 4/1725 [00:00<00:43, 39.90it/s, loss=0.2525]"
     ]
    },
    {
     "name": "stdout",
     "output_type": "stream",
     "text": [
      "\n",
      "Epoch Summary:\n",
      "\tTrain Loss: 0.2660 | Train Acc: 91.09%\n",
      "\tValid Loss: 0.2649 | Valid Acc: 92.01%\n",
      "--------------------------------------------------\n",
      "Epoch 125/140\n"
     ]
    },
    {
     "name": "stderr",
     "output_type": "stream",
     "text": [
      "Training: 100%|██████████| 1725/1725 [00:41<00:00, 41.34it/s, loss=0.2635]\n",
      "Evaluating: 100%|██████████| 150/150 [00:01<00:00, 128.62it/s, loss=0.2598]\n",
      "Training:   0%|          | 4/1725 [00:00<00:46, 37.18it/s, loss=0.2286]"
     ]
    },
    {
     "name": "stdout",
     "output_type": "stream",
     "text": [
      "\n",
      "Epoch Summary:\n",
      "\tTrain Loss: 0.2635 | Train Acc: 91.24%\n",
      "\tValid Loss: 0.2598 | Valid Acc: 92.03%\n",
      "--------------------------------------------------\n",
      "Epoch 126/140\n"
     ]
    },
    {
     "name": "stderr",
     "output_type": "stream",
     "text": [
      "Training: 100%|██████████| 1725/1725 [00:41<00:00, 41.22it/s, loss=0.2625]\n",
      "Evaluating: 100%|██████████| 150/150 [00:01<00:00, 129.65it/s, loss=0.2571]\n",
      "Training:   0%|          | 3/1725 [00:00<01:07, 25.34it/s, loss=0.2621]"
     ]
    },
    {
     "name": "stdout",
     "output_type": "stream",
     "text": [
      "\n",
      "Epoch Summary:\n",
      "\tTrain Loss: 0.2625 | Train Acc: 91.30%\n",
      "\tValid Loss: 0.2571 | Valid Acc: 92.24%\n",
      "--------------------------------------------------\n",
      "Epoch 127/140\n"
     ]
    },
    {
     "name": "stderr",
     "output_type": "stream",
     "text": [
      "Training: 100%|██████████| 1725/1725 [00:41<00:00, 41.44it/s, loss=0.2588]\n",
      "Evaluating: 100%|██████████| 150/150 [00:01<00:00, 133.86it/s, loss=0.2585]\n",
      "Training:   0%|          | 2/1725 [00:00<01:26, 19.93it/s, loss=0.2113]"
     ]
    },
    {
     "name": "stdout",
     "output_type": "stream",
     "text": [
      "\n",
      "Epoch Summary:\n",
      "\tTrain Loss: 0.2588 | Train Acc: 91.37%\n",
      "\tValid Loss: 0.2585 | Valid Acc: 92.00%\n",
      "--------------------------------------------------\n",
      "Epoch 128/140\n"
     ]
    },
    {
     "name": "stderr",
     "output_type": "stream",
     "text": [
      "Training: 100%|██████████| 1725/1725 [00:41<00:00, 41.51it/s, loss=0.2569]\n",
      "Evaluating: 100%|██████████| 150/150 [00:01<00:00, 133.63it/s, loss=0.2660]\n",
      "Training:   0%|          | 3/1725 [00:00<01:00, 28.50it/s, loss=0.2587]"
     ]
    },
    {
     "name": "stdout",
     "output_type": "stream",
     "text": [
      "\n",
      "Epoch Summary:\n",
      "\tTrain Loss: 0.2569 | Train Acc: 91.45%\n",
      "\tValid Loss: 0.2660 | Valid Acc: 92.01%\n",
      "--------------------------------------------------\n",
      "Epoch 129/140\n"
     ]
    },
    {
     "name": "stderr",
     "output_type": "stream",
     "text": [
      "Training: 100%|██████████| 1725/1725 [00:41<00:00, 41.50it/s, loss=0.2571]\n",
      "Evaluating: 100%|██████████| 150/150 [00:01<00:00, 127.01it/s, loss=0.2540]\n"
     ]
    },
    {
     "name": "stdout",
     "output_type": "stream",
     "text": [
      "\n",
      "Epoch Summary:\n",
      "\tTrain Loss: 0.2571 | Train Acc: 91.37%\n",
      "\tValid Loss: 0.2540 | Valid Acc: 92.29%\n"
     ]
    },
    {
     "name": "stderr",
     "output_type": "stream",
     "text": [
      "Training:   0%|          | 4/1725 [00:00<00:49, 34.57it/s, loss=0.1819]"
     ]
    },
    {
     "name": "stdout",
     "output_type": "stream",
     "text": [
      "New best model saved to 'runs/adam_from_epoch121/best_model.pth'\n",
      "--------------------------------------------------\n",
      "Epoch 130/140\n"
     ]
    },
    {
     "name": "stderr",
     "output_type": "stream",
     "text": [
      "Training: 100%|██████████| 1725/1725 [00:41<00:00, 41.17it/s, loss=0.2560]\n",
      "Evaluating: 100%|██████████| 150/150 [00:01<00:00, 130.43it/s, loss=0.2538]\n",
      "Training:   0%|          | 4/1725 [00:00<00:43, 39.75it/s, loss=0.2789]"
     ]
    },
    {
     "name": "stdout",
     "output_type": "stream",
     "text": [
      "\n",
      "Epoch Summary:\n",
      "\tTrain Loss: 0.2560 | Train Acc: 91.44%\n",
      "\tValid Loss: 0.2538 | Valid Acc: 92.06%\n",
      "--------------------------------------------------\n",
      "Epoch 131/140\n"
     ]
    },
    {
     "name": "stderr",
     "output_type": "stream",
     "text": [
      "Training: 100%|██████████| 1725/1725 [00:41<00:00, 41.42it/s, loss=0.2556]\n",
      "Evaluating: 100%|██████████| 150/150 [00:01<00:00, 132.64it/s, loss=0.2586]\n",
      "Training:   0%|          | 4/1725 [00:00<00:51, 33.68it/s, loss=0.2673]"
     ]
    },
    {
     "name": "stdout",
     "output_type": "stream",
     "text": [
      "\n",
      "Epoch Summary:\n",
      "\tTrain Loss: 0.2556 | Train Acc: 91.50%\n",
      "\tValid Loss: 0.2586 | Valid Acc: 92.04%\n",
      "--------------------------------------------------\n",
      "Epoch 132/140\n"
     ]
    },
    {
     "name": "stderr",
     "output_type": "stream",
     "text": [
      "Training: 100%|██████████| 1725/1725 [00:41<00:00, 41.33it/s, loss=0.2539]\n",
      "Evaluating: 100%|██████████| 150/150 [00:01<00:00, 139.48it/s, loss=0.2602]\n",
      "Training:   0%|          | 4/1725 [00:00<00:46, 36.68it/s, loss=0.2018]"
     ]
    },
    {
     "name": "stdout",
     "output_type": "stream",
     "text": [
      "\n",
      "Epoch Summary:\n",
      "\tTrain Loss: 0.2539 | Train Acc: 91.51%\n",
      "\tValid Loss: 0.2602 | Valid Acc: 92.20%\n",
      "--------------------------------------------------\n",
      "Epoch 133/140\n"
     ]
    },
    {
     "name": "stderr",
     "output_type": "stream",
     "text": [
      "Training: 100%|██████████| 1725/1725 [00:41<00:00, 41.44it/s, loss=0.2535]\n",
      "Evaluating: 100%|██████████| 150/150 [00:01<00:00, 139.55it/s, loss=0.2614]\n",
      "Training:   0%|          | 4/1725 [00:00<00:49, 34.70it/s, loss=0.2622]"
     ]
    },
    {
     "name": "stdout",
     "output_type": "stream",
     "text": [
      "\n",
      "Epoch Summary:\n",
      "\tTrain Loss: 0.2535 | Train Acc: 91.52%\n",
      "\tValid Loss: 0.2614 | Valid Acc: 92.19%\n",
      "--------------------------------------------------\n",
      "Epoch 134/140\n"
     ]
    },
    {
     "name": "stderr",
     "output_type": "stream",
     "text": [
      "Training: 100%|██████████| 1725/1725 [00:41<00:00, 41.45it/s, loss=0.2521]\n",
      "Evaluating: 100%|██████████| 150/150 [00:01<00:00, 140.03it/s, loss=0.2599]\n",
      "Training:   0%|          | 4/1725 [00:00<00:46, 37.33it/s, loss=0.2290]"
     ]
    },
    {
     "name": "stdout",
     "output_type": "stream",
     "text": [
      "\n",
      "Epoch Summary:\n",
      "\tTrain Loss: 0.2521 | Train Acc: 91.60%\n",
      "\tValid Loss: 0.2599 | Valid Acc: 92.24%\n",
      "--------------------------------------------------\n",
      "Epoch 135/140\n"
     ]
    },
    {
     "name": "stderr",
     "output_type": "stream",
     "text": [
      "Training: 100%|██████████| 1725/1725 [00:41<00:00, 41.45it/s, loss=0.2499]\n",
      "Evaluating: 100%|██████████| 150/150 [00:01<00:00, 137.62it/s, loss=0.2608]\n",
      "Training:   0%|          | 5/1725 [00:00<00:38, 44.12it/s, loss=0.2555]"
     ]
    },
    {
     "name": "stdout",
     "output_type": "stream",
     "text": [
      "\n",
      "Epoch Summary:\n",
      "\tTrain Loss: 0.2499 | Train Acc: 91.58%\n",
      "\tValid Loss: 0.2608 | Valid Acc: 92.18%\n",
      "--------------------------------------------------\n",
      "Epoch 136/140\n"
     ]
    },
    {
     "name": "stderr",
     "output_type": "stream",
     "text": [
      "Training: 100%|██████████| 1725/1725 [00:41<00:00, 41.47it/s, loss=0.2498]\n",
      "Evaluating: 100%|██████████| 150/150 [00:01<00:00, 137.44it/s, loss=0.2529]\n"
     ]
    },
    {
     "name": "stdout",
     "output_type": "stream",
     "text": [
      "\n",
      "Epoch Summary:\n",
      "\tTrain Loss: 0.2498 | Train Acc: 91.56%\n",
      "\tValid Loss: 0.2529 | Valid Acc: 92.42%\n"
     ]
    },
    {
     "name": "stderr",
     "output_type": "stream",
     "text": [
      "Training:   0%|          | 5/1725 [00:00<00:41, 41.09it/s, loss=0.2397]"
     ]
    },
    {
     "name": "stdout",
     "output_type": "stream",
     "text": [
      "New best model saved to 'runs/adam_from_epoch121/best_model.pth'\n",
      "--------------------------------------------------\n",
      "Epoch 137/140\n"
     ]
    },
    {
     "name": "stderr",
     "output_type": "stream",
     "text": [
      "Training: 100%|██████████| 1725/1725 [00:41<00:00, 41.61it/s, loss=0.2489]\n",
      "Evaluating: 100%|██████████| 150/150 [00:01<00:00, 131.93it/s, loss=0.2574]\n",
      "Training:   0%|          | 4/1725 [00:00<00:43, 39.71it/s, loss=0.1677]"
     ]
    },
    {
     "name": "stdout",
     "output_type": "stream",
     "text": [
      "\n",
      "Epoch Summary:\n",
      "\tTrain Loss: 0.2489 | Train Acc: 91.65%\n",
      "\tValid Loss: 0.2574 | Valid Acc: 92.26%\n",
      "--------------------------------------------------\n",
      "Epoch 138/140\n"
     ]
    },
    {
     "name": "stderr",
     "output_type": "stream",
     "text": [
      "Training: 100%|██████████| 1725/1725 [00:41<00:00, 41.42it/s, loss=0.2476]\n",
      "Evaluating: 100%|██████████| 150/150 [00:01<00:00, 134.47it/s, loss=0.2596]\n",
      "Training:   0%|          | 3/1725 [00:00<01:05, 26.46it/s, loss=0.2453]"
     ]
    },
    {
     "name": "stdout",
     "output_type": "stream",
     "text": [
      "\n",
      "Epoch Summary:\n",
      "\tTrain Loss: 0.2476 | Train Acc: 91.74%\n",
      "\tValid Loss: 0.2596 | Valid Acc: 92.18%\n",
      "--------------------------------------------------\n",
      "Epoch 139/140\n"
     ]
    },
    {
     "name": "stderr",
     "output_type": "stream",
     "text": [
      "Training: 100%|██████████| 1725/1725 [00:41<00:00, 41.37it/s, loss=0.2453]\n",
      "Evaluating: 100%|██████████| 150/150 [00:01<00:00, 132.11it/s, loss=0.2560]\n",
      "Training:   0%|          | 4/1725 [00:00<00:51, 33.67it/s, loss=0.2402]"
     ]
    },
    {
     "name": "stdout",
     "output_type": "stream",
     "text": [
      "\n",
      "Epoch Summary:\n",
      "\tTrain Loss: 0.2453 | Train Acc: 91.79%\n",
      "\tValid Loss: 0.2560 | Valid Acc: 92.32%\n",
      "--------------------------------------------------\n",
      "Epoch 140/140\n"
     ]
    },
    {
     "name": "stderr",
     "output_type": "stream",
     "text": [
      "Training: 100%|██████████| 1725/1725 [00:41<00:00, 41.41it/s, loss=0.2451]\n",
      "Evaluating: 100%|██████████| 150/150 [00:01<00:00, 136.16it/s, loss=0.2579]\n"
     ]
    },
    {
     "name": "stdout",
     "output_type": "stream",
     "text": [
      "\n",
      "Epoch Summary:\n",
      "\tTrain Loss: 0.2451 | Train Acc: 91.73%\n",
      "\tValid Loss: 0.2579 | Valid Acc: 92.16%\n",
      "--------------------------------------------------\n",
      "Training Finished!\n"
     ]
    }
   ],
   "source": [
    "print(f\"Starting training from epoch {start_epoch}...\")\n",
    "\n",
    "for epoch in range(start_epoch, EPOCHS + 1):\n",
    "    print(\"-\" * 50)\n",
    "    print(f\"Epoch {epoch}/{EPOCHS}\")\n",
    "    \n",
    "    # Run training and validation\n",
    "    train_loss, train_acc = train_epoch(model, train_dataloader, criterion, optimizer, DEVICE)\n",
    "    history['train_loss'].append(train_loss)\n",
    "    history['train_acc'].append(train_acc)\n",
    "    \n",
    "    val_loss, val_acc = evaluate_epoch(model, valid_dataloader, criterion, DEVICE)\n",
    "    history['val_loss'].append(val_loss)\n",
    "    history['val_acc'].append(val_acc)\n",
    "    \n",
    "    # summary\n",
    "    print(f\"\\nEpoch Summary:\")\n",
    "    print(f\"\\tTrain Loss: {train_loss:.4f} | Train Acc: {train_acc*100:.2f}%\")\n",
    "    print(f\"\\tValid Loss: {val_loss:.4f} | Valid Acc: {val_acc*100:.2f}%\")\n",
    "\n",
    "    # Save best model to the experiment folder\n",
    "    if val_acc > best_val_accuracy:\n",
    "        best_val_accuracy = val_acc\n",
    "        best_model_path = os.path.join(EXPERIMENT_DIR, 'best_model.pth')\n",
    "        torch.save(model.state_dict(), best_model_path)\n",
    "        print(f\"New best model saved to '{best_model_path}'\")\n",
    "\n",
    "print(\"-\" * 50)\n",
    "print(\"Training Finished!\")\n",
    "        \n",
    "        \n",
    "# Save final history to the experiment folder\n",
    "for key, value in history.items():\n",
    "    file_path = os.path.join(METRICS_DIR, f\"{key}.pkl\")\n",
    "    save_list_to_file(value, file_path)"
   ]
  },
  {
   "cell_type": "code",
   "execution_count": null,
   "metadata": {},
   "outputs": [],
   "source": []
  },
  {
   "cell_type": "code",
   "execution_count": 20,
   "metadata": {},
   "outputs": [],
   "source": [
    "current_checkpoint = {\n",
    "    'epoch': epoch,\n",
    "    'model_state_dict': model.state_dict(),\n",
    "    'optimizer_state_dict': optimizer.state_dict(),\n",
    "    'history': history,\n",
    "    'best_val_accuracy': best_val_accuracy\n",
    "}\n",
    "\n",
    "torch.save(current_checkpoint, os.path.join(EXPERIMENT_DIR, 'checkpoint.pth'))"
   ]
  },
  {
   "cell_type": "code",
   "execution_count": null,
   "metadata": {},
   "outputs": [],
   "source": []
  },
  {
   "cell_type": "code",
   "execution_count": 21,
   "metadata": {},
   "outputs": [
    {
     "data": {
      "image/png": "[encoded data removed]",
      "text/plain": [
       "<Figure size 1500x500 with 2 Axes>"
      ]
     },
     "metadata": {},
     "output_type": "display_data"
    }
   ],
   "source": [
    "import matplotlib.pyplot as plt\n",
    "\n",
    "train_losses = history['train_loss']\n",
    "train_accuracies = history['train_acc']\n",
    "val_losses = history['val_loss']\n",
    "val_accuracies = history['val_acc']\n",
    "    \n",
    "\n",
    "fig, (ax1, ax2) = plt.subplots(1, 2, figsize=(15, 5))\n",
    "\n",
    "# Plotting Accuracy\n",
    "ax1.plot(train_accuracies, label='Train Accuracy', color='blue')\n",
    "ax1.plot(val_accuracies, label='Validation Accuracy', color='orange')\n",
    "ax1.set_title('Model Accuracy')\n",
    "ax1.set_xlabel('Epochs')\n",
    "ax1.set_ylabel('Accuracy')\n",
    "ax1.legend()\n",
    "ax1.grid(True)\n",
    "\n",
    "# Plotting Loss\n",
    "ax2.plot(train_losses, label='Train Loss', color='blue')\n",
    "ax2.plot(val_losses, label='Validation Loss', color='orange')\n",
    "ax2.set_title('Model Loss')\n",
    "ax2.set_xlabel('Epochs')\n",
    "ax2.set_ylabel('Loss')\n",
    "ax2.legend()\n",
    "ax2.grid(True)\n",
    "\n",
    "plt.show()"
   ]
  },
  {
   "cell_type": "code",
   "execution_count": 22,
   "metadata": {},
   "outputs": [
    {
     "name": "stdout",
     "output_type": "stream",
     "text": [
      "Best model loaded and ready for testing.\n"
     ]
    }
   ],
   "source": [
    "best_model = ClassificationNet(vocab_size=vocab_size, num_class=num_classes).to(DEVICE)\n",
    "best_model.load_state_dict(torch.load('runs/adam_from_epoch121/best_model.pth'))\n",
    "print(\"Best model loaded and ready for testing.\")"
   ]
  },
  {
   "cell_type": "code",
   "execution_count": 23,
   "metadata": {},
   "outputs": [
    {
     "name": "stderr",
     "output_type": "stream",
     "text": [
      "Evaluating: 100%|██████████| 119/119 [00:00<00:00, 168.46it/s, loss=0.3439]\n"
     ]
    }
   ],
   "source": [
    "test_loss, test_acc = evaluate_epoch(best_model, test_dataloader, criterion, DEVICE)"
   ]
  },
  {
   "cell_type": "code",
   "execution_count": 24,
   "metadata": {},
   "outputs": [
    {
     "name": "stdout",
     "output_type": "stream",
     "text": [
      "--------------------------------------------------\n",
      "Final Test Results:\n",
      "\tTest Loss: 0.3439\n",
      "\tTest Accuracy: 90.14%\n",
      "--------------------------------------------------\n"
     ]
    }
   ],
   "source": [
    "print(\"-\" * 50)\n",
    "print(\"Final Test Results:\")\n",
    "print(f\"\\tTest Loss: {test_loss:.4f}\")\n",
    "print(f\"\\tTest Accuracy: {test_acc*100:.2f}%\")\n",
    "print(\"-\" * 50)"
   ]
  },
  {
   "cell_type": "code",
   "execution_count": null,
   "metadata": {},
   "outputs": [],
   "source": []
  }
 ],
 "metadata": {
  "kernelspec": {
   "display_name": "Python 3",
   "language": "python",
   "name": "python3"
  },
  "language_info": {
   "codemirror_mode": {
    "name": "ipython",
    "version": 3
   },
   "file_extension": ".py",
   "mimetype": "text/x-python",
   "name": "python",
   "nbconvert_exporter": "python",
   "pygments_lexer": "ipython3",
   "version": "3.8.10"
  }
 },
 "nbformat": 4,
 "nbformat_minor": 2
}
