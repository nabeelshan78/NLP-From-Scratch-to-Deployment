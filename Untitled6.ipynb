{
 "cells": [
  {
   "cell_type": "code",
   "execution_count": 3,
   "metadata": {},
   "outputs": [],
   "source": [
    "import os\n",
    "import pickle\n",
    "import matplotlib.pyplot as plt\n",
    "import seaborn as sns\n",
    "import numpy as np\n",
    "import pandas as pd"
   ]
  },
  {
   "cell_type": "code",
   "execution_count": 4,
   "metadata": {},
   "outputs": [],
   "source": [
    "def load_history_from_folder(folder_path):\n",
    "    \"\"\"Loads all .pkl metric files from a given folder into a dictionary.\"\"\"\n",
    "    history = {}\n",
    "    metrics_dir = os.path.join(folder_path, 'metrics')\n",
    "\n",
    "    for file_name in os.listdir(metrics_dir):\n",
    "        if file_name.endswith('.pkl'):\n",
    "            metric_name = file_name.replace('.pkl', '')\n",
    "            file_path = os.path.join(metrics_dir, file_name)\n",
    "            with open(file_path, 'rb') as f:\n",
    "                history[metric_name] = pickle.load(f)\n",
    "    return history"
   ]
  },
  {
   "cell_type": "code",
   "execution_count": 5,
   "metadata": {},
   "outputs": [],
   "source": [
    "def get_experiment_order(folder_name):\n",
    "    \"\"\"Helper function to sort experiment folders chronologically.\"\"\"\n",
    "    if folder_name == 'initial':\n",
    "        return 0\n",
    "    try:\n",
    "        # Extracts the number from folders like 'adam_from_epoch51'\n",
    "        return int(folder_name.split('epoch')[-1])\n",
    "    except (ValueError, IndexError):\n",
    "        return 999 # Put unrecognized folders at the end"
   ]
  },
  {
   "cell_type": "code",
   "execution_count": 6,
   "metadata": {},
   "outputs": [],
   "source": [
    "def combine_histories(base_dir='runs'):\n",
    "    \"\"\"Finds all experiment folders, loads their histories, and combines them.\"\"\"\n",
    "    experiment_folders = [d for d in os.listdir(base_dir) if os.path.isdir(os.path.join(base_dir, d))]\n",
    "    \n",
    "    # Sort folders chronologically based on their name\n",
    "    experiment_folders.sort(key=get_experiment_order)\n",
    "    \n",
    "    print(f\"Found and ordered experiments: {experiment_folders}\")\n",
    "    \n",
    "    full_history = {'train_loss': [], 'train_acc': [], 'val_loss': [], 'val_acc': []}\n",
    "    phase_boundaries = []\n",
    "    \n",
    "    for folder in experiment_folders:\n",
    "        folder_path = os.path.join(base_dir, folder)\n",
    "        history = load_history_from_folder(folder_path)\n",
    "        \n",
    "        if history:\n",
    "            # Mark the end of the previous phase / start of the new one\n",
    "            if full_history['train_loss']: # Don't add a boundary before the first phase\n",
    "                phase_boundaries.append(len(full_history['train_loss']))\n",
    "            \n",
    "            # Append new data\n",
    "            for key in full_history.keys():\n",
    "                if key in history:\n",
    "                    full_history[key].extend(history[key])\n",
    "\n",
    "    return full_history, phase_boundaries, experiment_folders"
   ]
  },
  {
   "cell_type": "code",
   "execution_count": 7,
   "metadata": {},
   "outputs": [],
   "source": [
    "def plot_learning_curves(history, boundaries, save_path='learning_curves.png'):\n",
    "    \"\"\"Plots and saves the training and validation learning curves.\"\"\"\n",
    "    sns.set_style(\"whitegrid\")\n",
    "    fig, (ax1, ax2) = plt.subplots(2, 1, figsize=(15, 12), sharex=True)\n",
    "    \n",
    "    epochs = range(1, len(history['train_loss']) + 1)\n",
    "    \n",
    "    # Plotting Loss\n",
    "    ax1.plot(epochs, history['train_loss'], 'b-', label='Training Loss')\n",
    "    ax1.plot(epochs, history['val_loss'], 'r-', label='Validation Loss')\n",
    "    ax1.set_ylabel('Loss', fontsize=14)\n",
    "    ax1.set_title('Training and Validation Loss Over Time', fontsize=16)\n",
    "    ax1.legend(fontsize=12)\n",
    "    \n",
    "    # Plotting Accuracy\n",
    "    ax2.plot(epochs, history['train_acc'], 'b-', label='Training Accuracy')\n",
    "    ax2.plot(epochs, history['val_acc'], 'r-', label='Validation Accuracy')\n",
    "    ax2.set_xlabel('Epochs', fontsize=14)\n",
    "    ax2.set_ylabel('Accuracy', fontsize=14)\n",
    "    ax2.set_title('Training and Validation Accuracy Over Time', fontsize=16)\n",
    "    ax2.legend(fontsize=12)\n",
    "    \n",
    "    # Add vertical lines and text for phase transitions\n",
    "    for boundary in boundaries:\n",
    "        ax1.axvline(x=boundary, color='gray', linestyle='--', linewidth=2)\n",
    "        ax2.axvline(x=boundary, color='gray', linestyle='--', linewidth=2)\n",
    "        ax2.text(boundary + 1, 0.5, f'Phase Change', rotation=90, verticalalignment='center', color='gray')\n",
    "\n",
    "    plt.tight_layout()\n",
    "    plt.savefig(save_path, dpi=300)\n",
    "    print(f\"Learning curves saved to {save_path}\")\n",
    "    plt.show()"
   ]
  },
  {
   "cell_type": "code",
   "execution_count": 12,
   "metadata": {},
   "outputs": [],
   "source": [
    "def plot_final_accuracies(base_dir='runs', save_path='final_accuracies.png'):\n",
    "    \"\"\"Creates a bar plot comparing the best validation accuracy from each run.\"\"\"\n",
    "    experiment_folders = [d for d in os.listdir(base_dir) if os.path.isdir(os.path.join(base_dir, d)) and not d.startswith('.')]\n",
    "    experiment_folders.sort(key=get_experiment_order)\n",
    "    \n",
    "    results = []\n",
    "    for folder in experiment_folders:\n",
    "        checkpoint_path = os.path.join(base_dir, folder, 'checkpoint.pth')\n",
    "        # Handle the initial run's different checkpoint name\n",
    "        if folder == 'initial' and not os.path.exists(checkpoint_path):\n",
    "             checkpoint_path = os.path.join(base_dir, folder, 'checkpoint_epoch_50.pth')\n",
    "\n",
    "        if os.path.exists(checkpoint_path):\n",
    "            checkpoint = torch.load(checkpoint_path, map_location=torch.device('cpu'))\n",
    "            best_acc = checkpoint.get('best_val_accuracy', 0)\n",
    "            results.append({'Experiment': folder, 'Best Validation Accuracy': best_acc * 100})\n",
    "            \n",
    "    if not results:\n",
    "        print(\"Could not find any checkpoint files to generate final accuracy plot.\")\n",
    "        return\n",
    "\n",
    "    df = pd.DataFrame(results)\n",
    "    \n",
    "    plt.figure(figsize=(12, 7))\n",
    "    sns.set_style(\"whitegrid\")\n",
    "    bar_plot = sns.barplot(x='Best Validation Accuracy', y='Experiment', data=df, palette='viridis', orient='h')\n",
    "    \n",
    "    plt.title('Best Validation Accuracy per Experiment Phase', fontsize=16)\n",
    "    plt.xlabel('Accuracy (%)', fontsize=14)\n",
    "    plt.ylabel('Experiment Phase', fontsize=14)\n",
    "    plt.xlim(80, 95) # Focus on the relevant accuracy range\n",
    "    \n",
    "    # Add labels to the bars\n",
    "    for index, value in enumerate(df['Best Validation Accuracy']):\n",
    "        bar_plot.text(value, index, f' {value:.2f}%', color='black', ha=\"left\", va='center')\n",
    "\n",
    "    plt.tight_layout()\n",
    "    plt.savefig(save_path, dpi=300)\n",
    "    print(f\"✅ Final accuracies bar chart saved to {save_path}\")\n",
    "    plt.show()\n"
   ]
  },
  {
   "cell_type": "code",
   "execution_count": 13,
   "metadata": {},
   "outputs": [
    {
     "name": "stdout",
     "output_type": "stream",
     "text": [
      "Found and ordered experiments: ['initial', 'adam_from_epoch51', 'adam_from_epoch71', 'adam_from_epoch101', 'adam_from_epoch121', 'adam_from_epoch141', '.ipynb_checkpoints']\n"
     ]
    },
    {
     "ename": "FileNotFoundError",
     "evalue": "[Errno 2] No such file or directory: 'runs/.ipynb_checkpoints/metrics'",
     "output_type": "error",
     "traceback": [
      "\u001b[0;31m---------------------------------------------------------------------------\u001b[0m",
      "\u001b[0;31mFileNotFoundError\u001b[0m                         Traceback (most recent call last)",
      "Input \u001b[0;32mIn [13]\u001b[0m, in \u001b[0;36m<cell line: 2>\u001b[0;34m()\u001b[0m\n\u001b[1;32m      1\u001b[0m BASE_RUN_DIR \u001b[38;5;241m=\u001b[39m \u001b[38;5;124m'\u001b[39m\u001b[38;5;124mruns\u001b[39m\u001b[38;5;124m'\u001b[39m\n\u001b[0;32m----> 2\u001b[0m full_history, boundaries, folder_names \u001b[38;5;241m=\u001b[39m \u001b[43mcombine_histories\u001b[49m\u001b[43m(\u001b[49m\u001b[43mBASE_RUN_DIR\u001b[49m\u001b[43m)\u001b[49m\n\u001b[1;32m      4\u001b[0m \u001b[38;5;28;01mif\u001b[39;00m full_history[\u001b[38;5;124m'\u001b[39m\u001b[38;5;124mtrain_loss\u001b[39m\u001b[38;5;124m'\u001b[39m]:\n\u001b[1;32m      5\u001b[0m     \u001b[38;5;66;03m# 2. Plot the continuous learning curves\u001b[39;00m\n\u001b[1;32m      6\u001b[0m     plot_learning_curves(full_history, boundaries)\n",
      "Input \u001b[0;32mIn [6]\u001b[0m, in \u001b[0;36mcombine_histories\u001b[0;34m(base_dir)\u001b[0m\n\u001b[1;32m     13\u001b[0m \u001b[38;5;28;01mfor\u001b[39;00m folder \u001b[38;5;129;01min\u001b[39;00m experiment_folders:\n\u001b[1;32m     14\u001b[0m     folder_path \u001b[38;5;241m=\u001b[39m os\u001b[38;5;241m.\u001b[39mpath\u001b[38;5;241m.\u001b[39mjoin(base_dir, folder)\n\u001b[0;32m---> 15\u001b[0m     history \u001b[38;5;241m=\u001b[39m \u001b[43mload_history_from_folder\u001b[49m\u001b[43m(\u001b[49m\u001b[43mfolder_path\u001b[49m\u001b[43m)\u001b[49m\n\u001b[1;32m     17\u001b[0m     \u001b[38;5;28;01mif\u001b[39;00m history:\n\u001b[1;32m     18\u001b[0m         \u001b[38;5;66;03m# Mark the end of the previous phase / start of the new one\u001b[39;00m\n\u001b[1;32m     19\u001b[0m         \u001b[38;5;28;01mif\u001b[39;00m full_history[\u001b[38;5;124m'\u001b[39m\u001b[38;5;124mtrain_loss\u001b[39m\u001b[38;5;124m'\u001b[39m]: \u001b[38;5;66;03m# Don't add a boundary before the first phase\u001b[39;00m\n",
      "Input \u001b[0;32mIn [4]\u001b[0m, in \u001b[0;36mload_history_from_folder\u001b[0;34m(folder_path)\u001b[0m\n\u001b[1;32m      3\u001b[0m history \u001b[38;5;241m=\u001b[39m {}\n\u001b[1;32m      4\u001b[0m metrics_dir \u001b[38;5;241m=\u001b[39m os\u001b[38;5;241m.\u001b[39mpath\u001b[38;5;241m.\u001b[39mjoin(folder_path, \u001b[38;5;124m'\u001b[39m\u001b[38;5;124mmetrics\u001b[39m\u001b[38;5;124m'\u001b[39m)\n\u001b[0;32m----> 6\u001b[0m \u001b[38;5;28;01mfor\u001b[39;00m file_name \u001b[38;5;129;01min\u001b[39;00m \u001b[43mos\u001b[49m\u001b[38;5;241;43m.\u001b[39;49m\u001b[43mlistdir\u001b[49m\u001b[43m(\u001b[49m\u001b[43mmetrics_dir\u001b[49m\u001b[43m)\u001b[49m:\n\u001b[1;32m      7\u001b[0m     \u001b[38;5;28;01mif\u001b[39;00m file_name\u001b[38;5;241m.\u001b[39mendswith(\u001b[38;5;124m'\u001b[39m\u001b[38;5;124m.pkl\u001b[39m\u001b[38;5;124m'\u001b[39m):\n\u001b[1;32m      8\u001b[0m         metric_name \u001b[38;5;241m=\u001b[39m file_name\u001b[38;5;241m.\u001b[39mreplace(\u001b[38;5;124m'\u001b[39m\u001b[38;5;124m.pkl\u001b[39m\u001b[38;5;124m'\u001b[39m, \u001b[38;5;124m'\u001b[39m\u001b[38;5;124m'\u001b[39m)\n",
      "\u001b[0;31mFileNotFoundError\u001b[0m: [Errno 2] No such file or directory: 'runs/.ipynb_checkpoints/metrics'"
     ]
    }
   ],
   "source": [
    "\n",
    "BASE_RUN_DIR = 'runs'\n",
    "full_history, boundaries, folder_names = combine_histories(BASE_RUN_DIR)\n",
    "\n",
    "if full_history['train_loss']:\n",
    "    # 2. Plot the continuous learning curves\n",
    "    plot_learning_curves(full_history, boundaries)\n",
    "        \n",
    "    # 3. Plot a bar chart comparing the best performance of each phase\n",
    "    plot_final_accuracies(BASE_RUN_DIR)\n",
    "else:\n",
    "    print(\"No data found to plot.\")"
   ]
  },
  {
   "cell_type": "code",
   "execution_count": null,
   "metadata": {},
   "outputs": [],
   "source": []
  }
 ],
 "metadata": {
  "kernelspec": {
   "display_name": "Python 3",
   "language": "python",
   "name": "python3"
  },
  "language_info": {
   "codemirror_mode": {
    "name": "ipython",
    "version": 3
   },
   "file_extension": ".py",
   "mimetype": "text/x-python",
   "name": "python",
   "nbconvert_exporter": "python",
   "pygments_lexer": "ipython3",
   "version": "3.8.10"
  }
 },
 "nbformat": 4,
 "nbformat_minor": 2
}
