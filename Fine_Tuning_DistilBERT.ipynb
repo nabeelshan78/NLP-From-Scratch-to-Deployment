{
 "cells": [
  {
   "cell_type": "markdown",
   "metadata": {},
   "source": [
    "# Fine-Tuning DistilBERT for AG News Classification\n",
    "\n",
    "### Objective\n",
    "This notebook fine-tunes a pre-trained `distilbert-base-uncased` model for the task of text classification on the AG News dataset. The goal is to leverage transfer learning to achieve state-of-the-art performance.\n",
    "\n",
    "### Key Steps:\n",
    "1.  **Load Data:** Load the AG News dataset from local `.parquet` files.\n",
    "2.  **Prepare Data:** Create a custom PyTorch `Dataset` using the DistilBERT tokenizer to format the data correctly.\n",
    "3.  **Load Model:** Load the pre-trained `DistilBertForSequenceClassification` model from Hugging Face.\n",
    "4.  **Fine-Tune:** Train the model for 3 epochs using the `AdamW` optimizer and a linear learning rate scheduler.\n",
    "5.  **Evaluate:** Measure the final performance of the fine-tuned model on the held-out test set."
   ]
  },
  {
   "cell_type": "code",
   "execution_count": null,
   "metadata": {},
   "outputs": [],
   "source": []
  },
  {
   "cell_type": "code",
   "execution_count": 71,
   "metadata": {
    "scrolled": true
   },
   "outputs": [],
   "source": [
    "# !pip install torch==2.2.2 torchtext==0.17.2 nltk\n",
    "# !pip install torchdata==0.7.1\n",
    "# !pip install pyarrow\n",
    "# !pip install transformers\n",
    "# !pip install seaborn"
   ]
  },
  {
   "cell_type": "code",
   "execution_count": 103,
   "metadata": {},
   "outputs": [],
   "source": [
    "import torch\n",
    "import os\n",
    "import pandas as pd\n",
    "from torch.utils.data import Dataset, DataLoader, random_split\n",
    "from transformers import AutoTokenizer, DistilBertForSequenceClassification, AdamW, get_scheduler, AutoModelForSequenceClassification\n",
    "from tqdm.auto import tqdm\n",
    "import matplotlib.pyplot as plt\n",
    "import seaborn as sns"
   ]
  },
  {
   "cell_type": "code",
   "execution_count": 100,
   "metadata": {},
   "outputs": [
    {
     "name": "stdout",
     "output_type": "stream",
     "text": [
      "Using device: cuda\n"
     ]
    }
   ],
   "source": [
    "MODEL_PATH = \"distilbert_for_finetuning\"\n",
    "DEVICE = torch.device(\"cuda\" if torch.cuda.is_available() else \"cpu\")\n",
    "BATCH_SIZE = 16\n",
    "LEARNING_RATE = 5e-5\n",
    "EPOCHS = 3\n",
    "NUM_CLASSES = 4\n",
    "\n",
    "print(f\"Using device: {DEVICE}\")"
   ]
  },
  {
   "cell_type": "markdown",
   "metadata": {},
   "source": [
    "## Tokenizer"
   ]
  },
  {
   "cell_type": "code",
   "execution_count": 101,
   "metadata": {},
   "outputs": [],
   "source": [
    "tokenizer = AutoTokenizer.from_pretrained(MODEL_PATH, local_files_only=True)"
   ]
  },
  {
   "cell_type": "code",
   "execution_count": 35,
   "metadata": {},
   "outputs": [
    {
     "name": "stdout",
     "output_type": "stream",
     "text": [
      "Special tokens:\n",
      "  [PAD]: [PAD]\n",
      "  [CLS]: [CLS]\n",
      "  [SEP]: [SEP]\n",
      "  [UNK]: [UNK]\n",
      "  [MASK]: [MASK]\n"
     ]
    }
   ],
   "source": [
    "print(\"Special tokens:\")\n",
    "print(f\"  [PAD]: {tokenizer.pad_token}\")\n",
    "print(f\"  [CLS]: {tokenizer.cls_token}\")\n",
    "print(f\"  [SEP]: {tokenizer.sep_token}\")\n",
    "print(f\"  [UNK]: {tokenizer.unk_token}\")\n",
    "print(f\"  [MASK]: {tokenizer.mask_token}\")"
   ]
  },
  {
   "cell_type": "code",
   "execution_count": 36,
   "metadata": {},
   "outputs": [
    {
     "name": "stdout",
     "output_type": "stream",
     "text": [
      "Vocabulary size: 30522\n",
      "First 20 vocab items: [('meng', 27955), ('hostility', 18258), ('nunez', 28454), ('preacher', 14512), ('folding', 12745), ('unemployment', 12163), ('extensive', 4866), ('improve', 5335), ('seahawks', 21390), ('typed', 21189), ('museo', 19713), ('lids', 26122), ('knowles', 22815), ('favourite', 8837), ('##re', 2890), ('##boarding', 21172), ('fortified', 13313), ('2011', 2249), ('##龍', 30508), ('ants', 16111)]\n"
     ]
    }
   ],
   "source": [
    "print(\"Vocabulary size:\", tokenizer.vocab_size)\n",
    "\n",
    "vocab_items = list(tokenizer.get_vocab().items())\n",
    "print(\"First 20 vocab items:\", vocab_items[:20])"
   ]
  },
  {
   "cell_type": "code",
   "execution_count": 40,
   "metadata": {},
   "outputs": [
    {
     "name": "stdout",
     "output_type": "stream",
     "text": [
      "Encoded input IDs: [101, 7592, 2088, 999, 2023, 2003, 1037, 3231, 1012, 102, 0, 0, 0, 0, 0, 0, 0, 0, 0, 0]\n",
      "Attention mask: [1, 1, 1, 1, 1, 1, 1, 1, 1, 1, 0, 0, 0, 0, 0, 0, 0, 0, 0, 0]\n"
     ]
    }
   ],
   "source": [
    "sample_text = \"Hello world! This is a test.\"\n",
    "encoding = tokenizer(sample_text, max_length=20, padding='max_length')\n",
    "print(\"Encoded input IDs:\", encoding['input_ids'])\n",
    "print(\"Attention mask:\", encoding['attention_mask'])"
   ]
  },
  {
   "cell_type": "code",
   "execution_count": 39,
   "metadata": {},
   "outputs": [
    {
     "name": "stdout",
     "output_type": "stream",
     "text": [
      "Decoded text: [CLS] hello world! this is a test. [SEP]\n"
     ]
    }
   ],
   "source": [
    "decoded_text = tokenizer.decode(encoding['input_ids'])\n",
    "print(\"Decoded text:\", decoded_text)"
   ]
  },
  {
   "cell_type": "code",
   "execution_count": null,
   "metadata": {},
   "outputs": [],
   "source": []
  },
  {
   "cell_type": "markdown",
   "metadata": {},
   "source": [
    "## DataLoaders"
   ]
  },
  {
   "cell_type": "code",
   "execution_count": 41,
   "metadata": {},
   "outputs": [],
   "source": [
    "class AGNewsHuggingFaceDataset(Dataset):\n",
    "    \"\"\"\n",
    "    A custom Dataset class to prepare AG News data for a Hugging Face model.\n",
    "    \"\"\"\n",
    "    def __init__(self, df: pd.DataFrame, tokenizer, max_length=128):\n",
    "        self.labels = df.iloc[:, 1].tolist()\n",
    "        self.texts = df.iloc[:, 0].tolist()\n",
    "        self.tokenizer = tokenizer\n",
    "        self.max_length = max_length\n",
    "\n",
    "    def __len__(self):\n",
    "        return len(self.labels)\n",
    "\n",
    "    def __getitem__(self, idx):\n",
    "        text = self.texts[idx]\n",
    "        label = self.labels[idx]\n",
    "\n",
    "        # Tokenize the text. This returns a dictionary containing:\n",
    "        # - input_ids: The numerical IDs for each token.\n",
    "        # - attention_mask: A mask to tell the model which tokens to pay attention to.\n",
    "        encoding = self.tokenizer(\n",
    "            text,\n",
    "            add_special_tokens=True,\n",
    "            max_length=self.max_length,\n",
    "            return_token_type_ids=False,\n",
    "            padding='max_length',\n",
    "            truncation=True,\n",
    "            return_attention_mask=True,\n",
    "            return_tensors='pt'\n",
    "        )\n",
    "\n",
    "        return {\n",
    "            'input_ids': encoding['input_ids'].flatten(),\n",
    "            'attention_mask': encoding['attention_mask'].flatten(),\n",
    "            'labels': torch.tensor(label, dtype=torch.long)\n",
    "        }"
   ]
  },
  {
   "cell_type": "code",
   "execution_count": 42,
   "metadata": {},
   "outputs": [],
   "source": [
    "def train_epoch_hf(model, dataloader, optimizer, scheduler, device):\n",
    "    model.train()\n",
    "    total_loss = 0\n",
    "    progress_bar = tqdm(dataloader, desc=\"Training\")\n",
    "\n",
    "    for batch in progress_bar:\n",
    "        # Move the entire batch dictionary to the device\n",
    "        batch = {k: v.to(device) for k, v in batch.items()}\n",
    "        \n",
    "        # The model takes the batch dictionary directly\n",
    "        outputs = model(**batch)\n",
    "        loss = outputs.loss\n",
    "        \n",
    "        total_loss += loss.item()\n",
    "        \n",
    "        loss.backward()\n",
    "        optimizer.step()\n",
    "        scheduler.step()\n",
    "        optimizer.zero_grad()\n",
    "        \n",
    "        progress_bar.set_postfix(loss=f'{loss.item():.4f}')\n",
    "        \n",
    "    return total_loss / len(dataloader)"
   ]
  },
  {
   "cell_type": "code",
   "execution_count": null,
   "metadata": {},
   "outputs": [],
   "source": []
  },
  {
   "cell_type": "code",
   "execution_count": 43,
   "metadata": {},
   "outputs": [],
   "source": [
    "def evaluate_epoch_hf(model, dataloader, device):\n",
    "    model.eval()\n",
    "    total_loss = 0\n",
    "    correct_predictions = 0\n",
    "\n",
    "    with torch.no_grad():\n",
    "        for batch in tqdm(dataloader, desc=\"Evaluating\"):\n",
    "            batch = {k: v.to(device) for k, v in batch.items()}\n",
    "            outputs = model(**batch)\n",
    "            loss = outputs.loss\n",
    "            logits = outputs.logits\n",
    "\n",
    "            total_loss += loss.item()\n",
    "            \n",
    "            predictions = torch.argmax(logits, dim=-1)\n",
    "            correct_predictions += torch.sum(predictions == batch['labels'])\n",
    "\n",
    "    return correct_predictions.double() / len(dataloader.dataset), total_loss / len(dataloader)"
   ]
  },
  {
   "cell_type": "code",
   "execution_count": null,
   "metadata": {},
   "outputs": [],
   "source": []
  },
  {
   "cell_type": "code",
   "execution_count": 44,
   "metadata": {},
   "outputs": [],
   "source": [
    "train_df = pd.read_parquet(\"ag_news/train.parquet\")\n",
    "test_df = pd.read_parquet(\"ag_news/test.parquet\")\n",
    "\n",
    "train_dataset_full = AGNewsHuggingFaceDataset(train_df, tokenizer)\n",
    "test_dataset = AGNewsHuggingFaceDataset(test_df, tokenizer)"
   ]
  },
  {
   "cell_type": "code",
   "execution_count": null,
   "metadata": {},
   "outputs": [],
   "source": []
  },
  {
   "cell_type": "code",
   "execution_count": 45,
   "metadata": {},
   "outputs": [],
   "source": [
    "num_train = int(len(train_dataset_full) * 0.92)\n",
    "split_train, split_valid = random_split(\n",
    "    train_dataset_full, [num_train, len(train_dataset_full) - num_train]\n",
    ")"
   ]
  },
  {
   "cell_type": "code",
   "execution_count": 46,
   "metadata": {},
   "outputs": [],
   "source": [
    "# DataLoaders\n",
    "train_dataloader = DataLoader(split_train, batch_size=BATCH_SIZE, shuffle=True)\n",
    "valid_dataloader = DataLoader(split_valid, batch_size=BATCH_SIZE)\n",
    "test_dataloader = DataLoader(test_dataset, batch_size=BATCH_SIZE)"
   ]
  },
  {
   "cell_type": "code",
   "execution_count": null,
   "metadata": {},
   "outputs": [],
   "source": []
  },
  {
   "cell_type": "code",
   "execution_count": null,
   "metadata": {},
   "outputs": [],
   "source": []
  },
  {
   "cell_type": "markdown",
   "metadata": {},
   "source": [
    "## Fine Tuning"
   ]
  },
  {
   "cell_type": "code",
   "execution_count": 55,
   "metadata": {},
   "outputs": [],
   "source": [
    "model = DistilBertForSequenceClassification.from_pretrained(\n",
    "    MODEL_PATH,\n",
    "    num_labels=NUM_CLASSES,\n",
    "    local_files_only=True\n",
    ").to(DEVICE)"
   ]
  },
  {
   "cell_type": "code",
   "execution_count": 56,
   "metadata": {},
   "outputs": [
    {
     "name": "stdout",
     "output_type": "stream",
     "text": [
      "Logits: tensor([[-0.1165, -0.0059, -0.0244,  0.0833]], device='cuda:0')\n",
      "Predicted class: 3\n"
     ]
    }
   ],
   "source": [
    "sample_text = \"This is a test.\"\n",
    "encoding = tokenizer(sample_text, return_tensors=\"pt\", truncation=True, padding=True).to(DEVICE)\n",
    "\n",
    "with torch.no_grad():\n",
    "    outputs = model(**encoding)\n",
    "\n",
    "print(\"Logits:\", outputs.logits)\n",
    "print(\"Predicted class:\", torch.argmax(outputs.logits, dim=-1).item())"
   ]
  },
  {
   "cell_type": "code",
   "execution_count": 57,
   "metadata": {},
   "outputs": [
    {
     "name": "stdout",
     "output_type": "stream",
     "text": [
      "Total parameters: 66956548\n",
      "Trainable parameters: 66956548\n"
     ]
    }
   ],
   "source": [
    "total_params = sum(p.numel() for p in model.parameters())\n",
    "trainable_params = sum(p.numel() for p in model.parameters() if p.requires_grad)\n",
    "print(f\"Total parameters: {total_params}\")\n",
    "print(f\"Trainable parameters: {trainable_params}\")"
   ]
  },
  {
   "cell_type": "code",
   "execution_count": null,
   "metadata": {},
   "outputs": [],
   "source": []
  },
  {
   "cell_type": "code",
   "execution_count": 58,
   "metadata": {},
   "outputs": [],
   "source": [
    "optimizer = AdamW(model.parameters(), lr=LEARNING_RATE)\n",
    "num_training_steps = EPOCHS * len(train_dataloader)\n",
    "lr_scheduler = get_scheduler(\n",
    "    name=\"linear\", \n",
    "    optimizer=optimizer, \n",
    "    num_warmup_steps=0, \n",
    "    num_training_steps=num_training_steps\n",
    ")    "
   ]
  },
  {
   "cell_type": "markdown",
   "metadata": {},
   "source": [
    "# --- Fine-Tuning Loop ---"
   ]
  },
  {
   "cell_type": "code",
   "execution_count": 59,
   "metadata": {},
   "outputs": [],
   "source": [
    "best_accuracy = 0"
   ]
  },
  {
   "cell_type": "code",
   "execution_count": 61,
   "metadata": {},
   "outputs": [
    {
     "name": "stdout",
     "output_type": "stream",
     "text": [
      "\n",
      "--- Epoch 1/3 ---\n"
     ]
    },
    {
     "data": {
      "application/vnd.jupyter.widget-view+json": {
       "model_id": "5c5ad9f24dca4665a4b030d29af785da",
       "version_major": 2,
       "version_minor": 0
      },
      "text/plain": [
       "HBox(children=(FloatProgress(value=0.0, description='Training', max=6900.0, style=ProgressStyle(description_wi…"
      ]
     },
     "metadata": {},
     "output_type": "display_data"
    },
    {
     "name": "stdout",
     "output_type": "stream",
     "text": [
      "\n"
     ]
    },
    {
     "data": {
      "application/vnd.jupyter.widget-view+json": {
       "model_id": "6b22b7f53afa46cc8a26695fbcbfdeca",
       "version_major": 2,
       "version_minor": 0
      },
      "text/plain": [
       "HBox(children=(FloatProgress(value=0.0, description='Evaluating', max=600.0, style=ProgressStyle(description_w…"
      ]
     },
     "metadata": {},
     "output_type": "display_data"
    },
    {
     "name": "stdout",
     "output_type": "stream",
     "text": [
      "\n",
      "\n",
      "Epoch Summary:\n",
      "\tTrain Loss: 0.2214\n",
      "\tValid Loss: 0.1767 | Valid Acc: 93.92%\n",
      "New best model saved!\n",
      "\n",
      "--- Epoch 2/3 ---\n"
     ]
    },
    {
     "data": {
      "application/vnd.jupyter.widget-view+json": {
       "model_id": "5f12f8455e3c42ea8e01ec91dc2c01c9",
       "version_major": 2,
       "version_minor": 0
      },
      "text/plain": [
       "HBox(children=(FloatProgress(value=0.0, description='Training', max=6900.0, style=ProgressStyle(description_wi…"
      ]
     },
     "metadata": {},
     "output_type": "display_data"
    },
    {
     "name": "stdout",
     "output_type": "stream",
     "text": [
      "\n"
     ]
    },
    {
     "data": {
      "application/vnd.jupyter.widget-view+json": {
       "model_id": "afab3ee226bf48d18b8df2afb9e7ca38",
       "version_major": 2,
       "version_minor": 0
      },
      "text/plain": [
       "HBox(children=(FloatProgress(value=0.0, description='Evaluating', max=600.0, style=ProgressStyle(description_w…"
      ]
     },
     "metadata": {},
     "output_type": "display_data"
    },
    {
     "name": "stdout",
     "output_type": "stream",
     "text": [
      "\n",
      "\n",
      "Epoch Summary:\n",
      "\tTrain Loss: 0.1187\n",
      "\tValid Loss: 0.1706 | Valid Acc: 94.59%\n",
      "New best model saved!\n",
      "\n",
      "--- Epoch 3/3 ---\n"
     ]
    },
    {
     "data": {
      "application/vnd.jupyter.widget-view+json": {
       "model_id": "8e74614cd10b4d938e90f5ae344057c6",
       "version_major": 2,
       "version_minor": 0
      },
      "text/plain": [
       "HBox(children=(FloatProgress(value=0.0, description='Training', max=6900.0, style=ProgressStyle(description_wi…"
      ]
     },
     "metadata": {},
     "output_type": "display_data"
    },
    {
     "name": "stdout",
     "output_type": "stream",
     "text": [
      "\n"
     ]
    },
    {
     "data": {
      "application/vnd.jupyter.widget-view+json": {
       "model_id": "b8ec752a6c1c4fa9ac17f60ab185cac2",
       "version_major": 2,
       "version_minor": 0
      },
      "text/plain": [
       "HBox(children=(FloatProgress(value=0.0, description='Evaluating', max=600.0, style=ProgressStyle(description_w…"
      ]
     },
     "metadata": {},
     "output_type": "display_data"
    },
    {
     "name": "stdout",
     "output_type": "stream",
     "text": [
      "\n",
      "\n",
      "Epoch Summary:\n",
      "\tTrain Loss: 0.0623\n",
      "\tValid Loss: 0.1882 | Valid Acc: 94.54%\n"
     ]
    }
   ],
   "source": [
    "for epoch in range(EPOCHS):\n",
    "    print(f\"\\n--- Epoch {epoch + 1}/{EPOCHS} ---\")\n",
    "    \n",
    "    train_loss = train_epoch_hf(model, train_dataloader, optimizer, lr_scheduler, DEVICE)\n",
    "    val_acc, val_loss = evaluate_epoch_hf(model, valid_dataloader, DEVICE)    \n",
    "    print(f\"\\nEpoch Summary:\")\n",
    "    print(f\"\\tTrain Loss: {train_loss:.4f}\")\n",
    "    print(f\"\\tValid Loss: {val_loss:.4f} | Valid Acc: {val_acc*100:.2f}%\")    \n",
    "    if val_acc > best_accuracy:\n",
    "        best_accuracy = val_acc\n",
    "        model.save_pretrained(\"./distilbert_finetuned_agnews\")\n",
    "        tokenizer.save_pretrained(\"./distilbert_finetuned_agnews\")\n",
    "        print(\"New best model saved!\")"
   ]
  },
  {
   "cell_type": "code",
   "execution_count": null,
   "metadata": {},
   "outputs": [],
   "source": []
  },
  {
   "cell_type": "code",
   "execution_count": 63,
   "metadata": {},
   "outputs": [
    {
     "name": "stdout",
     "output_type": "stream",
     "text": [
      "\n",
      "--- Running Final Evaluation ---\n"
     ]
    },
    {
     "data": {
      "application/vnd.jupyter.widget-view+json": {
       "model_id": "a63d56f94baa46d489bf175fa8dd7a22",
       "version_major": 2,
       "version_minor": 0
      },
      "text/plain": [
       "HBox(children=(FloatProgress(value=0.0, description='Evaluating', max=600.0, style=ProgressStyle(description_w…"
      ]
     },
     "metadata": {},
     "output_type": "display_data"
    },
    {
     "name": "stdout",
     "output_type": "stream",
     "text": [
      "\n"
     ]
    },
    {
     "data": {
      "application/vnd.jupyter.widget-view+json": {
       "model_id": "5ee79f69ff1646ff95ac0a14573f2795",
       "version_major": 2,
       "version_minor": 0
      },
      "text/plain": [
       "HBox(children=(FloatProgress(value=0.0, description='Evaluating', max=475.0, style=ProgressStyle(description_w…"
      ]
     },
     "metadata": {},
     "output_type": "display_data"
    },
    {
     "name": "stdout",
     "output_type": "stream",
     "text": [
      "\n",
      "==================================================\n",
      "\n",
      "Final Validation Results:\n",
      "\\Validation Loss: 0.1706 | Validation Accuracy: 94.59%\n",
      "==================================================\n",
      "\n",
      "Final Test Results:\n",
      "\tTest Loss: 0.1669 | Test Accuracy: 94.79%\n"
     ]
    }
   ],
   "source": [
    "print(\"\\n--- Running Final Evaluation ---\")\n",
    "\n",
    "final_model = DistilBertForSequenceClassification.from_pretrained(\"./distilbert_finetuned_agnews\").to(DEVICE)\n",
    "val_acc, val_loss = evaluate_epoch_hf(final_model, valid_dataloader, DEVICE)\n",
    "test_acc, test_loss = evaluate_epoch_hf(final_model, test_dataloader, DEVICE)\n",
    "\n",
    "print('=' * 50)\n",
    "print(f\"\\nFinal Validation Results:\")\n",
    "print(f\"\\Validation Loss: {val_loss:.4f} | Validation Accuracy: {val_acc*100:.2f}%\")\n",
    "print('=' * 50)\n",
    "print(f\"\\nFinal Test Results:\")\n",
    "print(f\"\\tTest Loss: {test_loss:.4f} | Test Accuracy: {test_acc*100:.2f}%\")"
   ]
  },
  {
   "cell_type": "code",
   "execution_count": null,
   "metadata": {},
   "outputs": [],
   "source": []
  },
  {
   "cell_type": "code",
   "execution_count": null,
   "metadata": {},
   "outputs": [],
   "source": []
  },
  {
   "cell_type": "code",
   "execution_count": 90,
   "metadata": {},
   "outputs": [
    {
     "data": {
      "text/html": [
       "<div>\n",
       "<style scoped>\n",
       "    .dataframe tbody tr th:only-of-type {\n",
       "        vertical-align: middle;\n",
       "    }\n",
       "\n",
       "    .dataframe tbody tr th {\n",
       "        vertical-align: top;\n",
       "    }\n",
       "\n",
       "    .dataframe thead th {\n",
       "        text-align: right;\n",
       "    }\n",
       "</style>\n",
       "<table border=\"1\" class=\"dataframe\">\n",
       "  <thead>\n",
       "    <tr style=\"text-align: right;\">\n",
       "      <th></th>\n",
       "      <th>Experiment</th>\n",
       "      <th>Val Loss</th>\n",
       "      <th>Val Accuracy (%)</th>\n",
       "      <th>Test Loss</th>\n",
       "      <th>Test Accuracy (%)</th>\n",
       "    </tr>\n",
       "  </thead>\n",
       "  <tbody>\n",
       "    <tr>\n",
       "      <th>0</th>\n",
       "      <td>EXP_1_SGD</td>\n",
       "      <td>0.4418</td>\n",
       "      <td>86.15</td>\n",
       "      <td>0.6252</td>\n",
       "      <td>77.22</td>\n",
       "    </tr>\n",
       "    <tr>\n",
       "      <th>1</th>\n",
       "      <td>EXP_2_Adam_51_70</td>\n",
       "      <td>0.4237</td>\n",
       "      <td>86.31</td>\n",
       "      <td>0.4669</td>\n",
       "      <td>85.45</td>\n",
       "    </tr>\n",
       "    <tr>\n",
       "      <th>2</th>\n",
       "      <td>EXP_3_Adam_71_100</td>\n",
       "      <td>0.2817</td>\n",
       "      <td>91.32</td>\n",
       "      <td>0.3723</td>\n",
       "      <td>89.64</td>\n",
       "    </tr>\n",
       "    <tr>\n",
       "      <th>3</th>\n",
       "      <td>EXP_4_Adam_101_120</td>\n",
       "      <td>0.2537</td>\n",
       "      <td>91.92</td>\n",
       "      <td>0.3434</td>\n",
       "      <td>89.97</td>\n",
       "    </tr>\n",
       "    <tr>\n",
       "      <th>4</th>\n",
       "      <td>EXP_5_Adam_121_140</td>\n",
       "      <td>0.2352</td>\n",
       "      <td>92.62</td>\n",
       "      <td>0.3470</td>\n",
       "      <td>90.13</td>\n",
       "    </tr>\n",
       "    <tr>\n",
       "      <th>5</th>\n",
       "      <td>EXP_6_Adam_141_160</td>\n",
       "      <td>0.2152</td>\n",
       "      <td>93.09</td>\n",
       "      <td>0.3405</td>\n",
       "      <td>90.32</td>\n",
       "    </tr>\n",
       "  </tbody>\n",
       "</table>\n",
       "</div>"
      ],
      "text/plain": [
       "           Experiment  Val Loss  Val Accuracy (%)  Test Loss  \\\n",
       "0           EXP_1_SGD    0.4418             86.15     0.6252   \n",
       "1    EXP_2_Adam_51_70    0.4237             86.31     0.4669   \n",
       "2   EXP_3_Adam_71_100    0.2817             91.32     0.3723   \n",
       "3  EXP_4_Adam_101_120    0.2537             91.92     0.3434   \n",
       "4  EXP_5_Adam_121_140    0.2352             92.62     0.3470   \n",
       "5  EXP_6_Adam_141_160    0.2152             93.09     0.3405   \n",
       "\n",
       "   Test Accuracy (%)  \n",
       "0              77.22  \n",
       "1              85.45  \n",
       "2              89.64  \n",
       "3              89.97  \n",
       "4              90.13  \n",
       "5              90.32  "
      ]
     },
     "execution_count": 90,
     "metadata": {},
     "output_type": "execute_result"
    }
   ],
   "source": [
    "custom_model_results_df = pd.read_csv(\"final_evaluation_summary.csv\")\n",
    "custom_model_results_df"
   ]
  },
  {
   "cell_type": "code",
   "execution_count": 91,
   "metadata": {},
   "outputs": [
    {
     "data": {
      "text/plain": [
       "93.09"
      ]
     },
     "execution_count": 91,
     "metadata": {},
     "output_type": "execute_result"
    }
   ],
   "source": [
    "best_custom_model_val_acc = custom_model_results_df.iloc[-1]['Val Accuracy (%)']\n",
    "best_custom_model_val_acc"
   ]
  },
  {
   "cell_type": "code",
   "execution_count": 92,
   "metadata": {},
   "outputs": [
    {
     "data": {
      "text/plain": [
       "90.32"
      ]
     },
     "execution_count": 92,
     "metadata": {},
     "output_type": "execute_result"
    }
   ],
   "source": [
    "best_custom_model_test_acc = custom_model_results_df.iloc[-1]['Test Accuracy (%)']\n",
    "best_custom_model_test_acc"
   ]
  },
  {
   "cell_type": "code",
   "execution_count": null,
   "metadata": {},
   "outputs": [],
   "source": []
  },
  {
   "cell_type": "code",
   "execution_count": 93,
   "metadata": {},
   "outputs": [],
   "source": [
    "finetuned_distilbert_val_acc = 94.59\n",
    "finetuned_distilbert_test_acc = 94.79"
   ]
  },
  {
   "cell_type": "code",
   "execution_count": 94,
   "metadata": {},
   "outputs": [
    {
     "data": {
      "text/html": [
       "<div>\n",
       "<style scoped>\n",
       "    .dataframe tbody tr th:only-of-type {\n",
       "        vertical-align: middle;\n",
       "    }\n",
       "\n",
       "    .dataframe tbody tr th {\n",
       "        vertical-align: top;\n",
       "    }\n",
       "\n",
       "    .dataframe thead th {\n",
       "        text-align: right;\n",
       "    }\n",
       "</style>\n",
       "<table border=\"1\" class=\"dataframe\">\n",
       "  <thead>\n",
       "    <tr style=\"text-align: right;\">\n",
       "      <th></th>\n",
       "      <th>Model</th>\n",
       "      <th>Validation Accuracy (%)</th>\n",
       "      <th>Test Accuracy (%)</th>\n",
       "    </tr>\n",
       "  </thead>\n",
       "  <tbody>\n",
       "    <tr>\n",
       "      <th>0</th>\n",
       "      <td>Custom Transformer\\n(Trained from Scratch)</td>\n",
       "      <td>93.09</td>\n",
       "      <td>90.32</td>\n",
       "    </tr>\n",
       "    <tr>\n",
       "      <th>1</th>\n",
       "      <td>DistilBERT\\n(Fine-Tuned)</td>\n",
       "      <td>94.59</td>\n",
       "      <td>94.79</td>\n",
       "    </tr>\n",
       "  </tbody>\n",
       "</table>\n",
       "</div>"
      ],
      "text/plain": [
       "                                        Model  Validation Accuracy (%)  \\\n",
       "0  Custom Transformer\\n(Trained from Scratch)                    93.09   \n",
       "1                    DistilBERT\\n(Fine-Tuned)                    94.59   \n",
       "\n",
       "   Test Accuracy (%)  \n",
       "0              90.32  \n",
       "1              94.79  "
      ]
     },
     "execution_count": 94,
     "metadata": {},
     "output_type": "execute_result"
    }
   ],
   "source": [
    "comparison_data = [\n",
    "    {\n",
    "        'Model': 'Custom Transformer\\n(Trained from Scratch)',\n",
    "        'Validation Accuracy (%)': best_custom_model_val_acc,\n",
    "        'Test Accuracy (%)': best_custom_model_test_acc\n",
    "    },\n",
    "    {\n",
    "        'Model': 'DistilBERT\\n(Fine-Tuned)',\n",
    "        'Validation Accuracy (%)': finetuned_distilbert_val_acc,\n",
    "        'Test Accuracy (%)': finetuned_distilbert_test_acc\n",
    "    }\n",
    "]\n",
    "results_df = pd.DataFrame(comparison_data)\n",
    "results_df"
   ]
  },
  {
   "cell_type": "code",
   "execution_count": null,
   "metadata": {},
   "outputs": [],
   "source": []
  },
  {
   "cell_type": "code",
   "execution_count": 95,
   "metadata": {},
   "outputs": [],
   "source": [
    "plot_df = results_df.melt(\n",
    "    id_vars='Model', \n",
    "    value_vars=['Validation Accuracy (%)', 'Test Accuracy (%)'],\n",
    "    var_name='Metric', \n",
    "    value_name='Accuracy'\n",
    ")"
   ]
  },
  {
   "cell_type": "code",
   "execution_count": 96,
   "metadata": {},
   "outputs": [],
   "source": [
    "sns.set_theme(style=\"whitegrid\")\n",
    "\n",
    "plt.figure(figsize=(12, 8))\n",
    "\n",
    "bar_plot = sns.barplot(\n",
    "    x='Accuracy', \n",
    "    y='Model', \n",
    "    hue='Metric',\n",
    "    data=plot_df, \n",
    "    palette='viridis', \n",
    "    orient='h'\n",
    ")"
   ]
  },
  {
   "cell_type": "code",
   "execution_count": 97,
   "metadata": {},
   "outputs": [
    {
     "name": "stdout",
     "output_type": "stream",
     "text": [
      "Final comparison plot saved to 'final_model_comparison_detailed.png'\n"
     ]
    },
    {
     "data": {
      "image/png": "[encoded data removed]",
      "text/plain": [
       "<Figure size 1200x800 with 1 Axes>"
      ]
     },
     "metadata": {},
     "output_type": "display_data"
    }
   ],
   "source": [
    "for p in bar_plot.patches:\n",
    "    width = p.get_width()\n",
    "    if width > 0:\n",
    "        bar_plot.text(width + 0.1, p.get_y() + p.get_height() / 2,\n",
    "                      f'{width:.2f}%', ha='left', va='center', fontsize=11, weight='bold')\n",
    "\n",
    "plt.title('Final Model Performance Comparison: Validation vs. Test', fontsize=16, weight='bold', pad=20)\n",
    "plt.xlabel('Accuracy (%)', fontsize=14)\n",
    "plt.ylabel('Model Architecture', fontsize=14)\n",
    "plt.xticks(fontsize=12)\n",
    "plt.yticks(fontsize=12)\n",
    "plt.legend(\n",
    "    title='Metric Type',\n",
    "    fontsize=12,\n",
    "    loc='upper left'\n",
    ")\n",
    "\n",
    "plt.xlim(0, 100)\n",
    "\n",
    "output_path = 'final_model_comparison_detailed.png'\n",
    "plt.savefig(output_path, dpi=300, bbox_inches='tight')\n",
    "\n",
    "print(f\"Final comparison plot saved to '{output_path}'\")\n",
    "plt.show()"
   ]
  },
  {
   "cell_type": "code",
   "execution_count": null,
   "metadata": {},
   "outputs": [],
   "source": []
  },
  {
   "cell_type": "code",
   "execution_count": null,
   "metadata": {},
   "outputs": [],
   "source": []
  },
  {
   "cell_type": "code",
   "execution_count": null,
   "metadata": {},
   "outputs": [],
   "source": []
  },
  {
   "cell_type": "markdown",
   "metadata": {},
   "source": [
    "## Prediction"
   ]
  },
  {
   "cell_type": "code",
   "execution_count": 104,
   "metadata": {},
   "outputs": [
    {
     "name": "stdout",
     "output_type": "stream",
     "text": [
      "Using device: cuda\n",
      "Fine-tuned model and tokenizer loaded successfully.\n"
     ]
    }
   ],
   "source": [
    "import random\n",
    "\n",
    "MODEL_PATH = \"./distilbert_finetuned_agnews\" \n",
    "DEVICE = torch.device(\"cuda\" if torch.cuda.is_available() else \"cpu\")\n",
    "\n",
    "print(f\"Using device: {DEVICE}\")\n",
    "\n",
    "try:\n",
    "    tokenizer = AutoTokenizer.from_pretrained(MODEL_PATH, local_files_only=True)\n",
    "    model = AutoModelForSequenceClassification.from_pretrained(MODEL_PATH, local_files_only=True).to(DEVICE)\n",
    "    model.eval()\n",
    "    print(\"Fine-tuned model and tokenizer loaded successfully.\")\n",
    "except OSError:\n",
    "    print(f\"Error: Could not find model files at '{MODEL_PATH}'. Please check the path.\")\n",
    "    exit()\n",
    "\n",
    "test_df = pd.read_parquet(\"ag_news/test.parquet\")\n",
    "\n",
    "id_to_label = {0: \"World\", 1: \"Sports\", 2: \"Business\", 3: \"Sci/Tec\"}\n",
    "\n",
    "\n",
    "def predict(text: str, model, tokenizer, device, id_to_label_map):\n",
    "    \"\"\"\n",
    "    Takes a text string and returns the predicted class label.\n",
    "    \"\"\"\n",
    "    # Tokenize the input text\n",
    "    inputs = tokenizer(\n",
    "        text,\n",
    "        return_tensors=\"pt\", # Return PyTorch tensors\n",
    "        truncation=True,\n",
    "        padding=True,\n",
    "        max_length=128\n",
    "    )\n",
    "\n",
    "    # Move tokenized inputs to the correct device\n",
    "    inputs = {k: v.to(device) for k, v in inputs.items()}\n",
    "\n",
    "    # Perform inference\n",
    "    with torch.no_grad():     \n",
    "        outputs = model(**inputs)\n",
    "        logits = outputs.logits\n",
    "\n",
    "    predicted_class_id = torch.argmax(logits, dim=1).item()\n",
    "    \n",
    "    return id_to_label_map[predicted_class_id]"
   ]
  },
  {
   "cell_type": "code",
   "execution_count": null,
   "metadata": {},
   "outputs": [],
   "source": []
  },
  {
   "cell_type": "code",
   "execution_count": 106,
   "metadata": {},
   "outputs": [
    {
     "name": "stdout",
     "output_type": "stream",
     "text": [
      "\n",
      "---Running Predictions on 20 Random Samples ---\n",
      "\n",
      "TEXT: Melrose comes up short Melrose entered its Thanksgiving Day matchup with Wakefield as an undefeated ...\n",
      "   -> TRUE LABEL:     Sports\n",
      "   -> PREDICTED LABEL: Sports\n",
      "====================================================================================================\n",
      "\n",
      "TEXT: Study: Apple, Dell lead PC customer satisfaction index The PC industry is doing a better job this ye...\n",
      "   -> TRUE LABEL:     Sci/Tec\n",
      "   -> PREDICTED LABEL: Sci/Tec\n",
      "====================================================================================================\n",
      "\n",
      "TEXT: A So-So Debut For Microsoft #39;s Blog Service Microsoft Corp. made a belated entrance into the  quo...\n",
      "   -> TRUE LABEL:     Sci/Tec\n",
      "   -> PREDICTED LABEL: Sci/Tec\n",
      "====================================================================================================\n",
      "\n",
      "TEXT: Button decision delayed Jenson Button must wait until next month before discovering which Formula On...\n",
      "   -> TRUE LABEL:     Sports\n",
      "   -> PREDICTED LABEL: Sports\n",
      "====================================================================================================\n",
      "\n",
      "TEXT: King's Widow Turns Focus on Voting Rights (AP) AP - The widow of Martin Luther King Jr. said the rig...\n",
      "   -> TRUE LABEL:     World\n",
      "   -> PREDICTED LABEL: World\n",
      "====================================================================================================\n",
      "\n",
      "TEXT: Delta gets tentative deal with pilots After 15 months of negotiations, Delta Air Lines Inc. has secu...\n",
      "   -> TRUE LABEL:     Business\n",
      "   -> PREDICTED LABEL: Business\n",
      "====================================================================================================\n",
      "\n",
      "TEXT: Frozen Eggs Showing Promise Italian researchers have achieved 13 human births using previously froze...\n",
      "   -> TRUE LABEL:     Sci/Tec\n",
      "   -> PREDICTED LABEL: Sci/Tec\n",
      "====================================================================================================\n",
      "\n",
      "TEXT: Symbol Arms Mobile Professionals With New Handheld Symbol Technologies Tuesday launched a line of en...\n",
      "   -> TRUE LABEL:     Sci/Tec\n",
      "   -> PREDICTED LABEL: Sci/Tec\n",
      "====================================================================================================\n",
      "\n",
      "TEXT: The Playlist: What's Wrong With Digital Music Stores? (PC World) PC World - Though digital music has...\n",
      "   -> TRUE LABEL:     Sci/Tec\n",
      "   -> PREDICTED LABEL: Sci/Tec\n",
      "====================================================================================================\n",
      "\n",
      "TEXT: Iraq's Sadr Orders Fighters to Lay Down Weapons  NAJAF, Iraq (Reuters) - Rebel Iraqi cleric Moqtada ...\n",
      "   -> TRUE LABEL:     World\n",
      "   -> PREDICTED LABEL: World\n",
      "====================================================================================================\n",
      "\n",
      "TEXT: Group E: Arsenal mystery continues Arsenal wasted a golden opportunity to virtually guarantee themse...\n",
      "   -> TRUE LABEL:     Sports\n",
      "   -> PREDICTED LABEL: Sports\n",
      "====================================================================================================\n",
      "\n",
      "TEXT: Nintendo Returns to Profit (AP) AP - Nintendo Co. returned to profit in the first half of the fiscal...\n",
      "   -> TRUE LABEL:     Sci/Tec\n",
      "   -> PREDICTED LABEL: Sci/Tec\n",
      "====================================================================================================\n",
      "\n",
      "TEXT: J amp;J acquiring device maker Johnson  amp; Johnson, the pharmaceutical and health care giant, has ...\n",
      "   -> TRUE LABEL:     Business\n",
      "   -> PREDICTED LABEL: Business\n",
      "====================================================================================================\n",
      "\n",
      "TEXT: Raptors fall to Nuggets CBC SPORTS ONLINE - After starting the season with three straight wins, the ...\n",
      "   -> TRUE LABEL:     Sports\n",
      "   -> PREDICTED LABEL: Sports\n",
      "====================================================================================================\n",
      "\n",
      "TEXT: Sony NW-E95 and NW-E99 Network Walkman Sony Europe has launched two tiny 512MB and 1GB MP3 players, ...\n",
      "   -> TRUE LABEL:     Sci/Tec\n",
      "   -> PREDICTED LABEL: Sci/Tec\n",
      "====================================================================================================\n",
      "\n",
      "TEXT: Intel confirms dual-core desktop 'Smithfield' But is it two Prescotts in one package or a single-die...\n",
      "   -> TRUE LABEL:     Sci/Tec\n",
      "   -> PREDICTED LABEL: Sci/Tec\n",
      "====================================================================================================\n",
      "\n",
      "TEXT: Hubris, Caution in Boston as Red Sox Eye Victory (Reuters) Reuters - Giddiness. Paranoia. Arrogance....\n",
      "   -> TRUE LABEL:     Sports\n",
      "   -> PREDICTED LABEL: Sports\n",
      "====================================================================================================\n",
      "\n",
      "TEXT: Karp team won't buy Fan Pier For the second time in less than two months, a prospective buyer of the...\n",
      "   -> TRUE LABEL:     Business\n",
      "   -> PREDICTED LABEL: Business\n",
      "====================================================================================================\n",
      "\n",
      "TEXT: Crude Oil Falls as Purmono Says OPEC Can Boost Output Capacity Crude oil fell as OPEC President Purn...\n",
      "   -> TRUE LABEL:     Business\n",
      "   -> PREDICTED LABEL: Business\n",
      "====================================================================================================\n",
      "\n",
      "TEXT: Shanghai Readies for Rockets-Kings Game (AP) AP - Built in the days of Mao Zedong's 1966-76 Cultural...\n",
      "   -> TRUE LABEL:     Sports\n",
      "   -> PREDICTED LABEL: Sports\n",
      "====================================================================================================\n"
     ]
    }
   ],
   "source": [
    "random_samples = test_df.sample(n=20)\n",
    "    \n",
    "print(\"\\n---Running Predictions on 20 Random Samples ---\")\n",
    "    \n",
    "for index, row in random_samples.iterrows():\n",
    "    text_sample = row.iloc[0]\n",
    "    true_label_id = row.iloc[1]\n",
    "        \n",
    "    true_label_name = id_to_label[true_label_id]\n",
    "        \n",
    "    predicted_label = predict(text_sample, model, tokenizer, DEVICE, id_to_label)\n",
    "        \n",
    "    print(f\"\\nTEXT: {text_sample[:100]}...\")\n",
    "    print(f\"   -> TRUE LABEL:     {true_label_name}\")\n",
    "    print(f\"   -> PREDICTED LABEL: {predicted_label}\")\n",
    "    print(\"=\" * 100)"
   ]
  },
  {
   "cell_type": "code",
   "execution_count": null,
   "metadata": {},
   "outputs": [],
   "source": []
  }
 ],
 "metadata": {
  "kernelspec": {
   "display_name": "Python 3",
   "language": "python",
   "name": "python3"
  },
  "language_info": {
   "codemirror_mode": {
    "name": "ipython",
    "version": 3
   },
   "file_extension": ".py",
   "mimetype": "text/x-python",
   "name": "python",
   "nbconvert_exporter": "python",
   "pygments_lexer": "ipython3",
   "version": "3.8.10"
  }
 },
 "nbformat": 4,
 "nbformat_minor": 2
}
