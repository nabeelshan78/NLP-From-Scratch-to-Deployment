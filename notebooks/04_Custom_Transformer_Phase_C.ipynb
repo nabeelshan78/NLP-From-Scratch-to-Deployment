{
 "cells": [
  {
   "cell_type": "code",
   "execution_count": 1,
   "metadata": {},
   "outputs": [],
   "source": [
    "# !pip install torch==2.2.2 torchtext==0.17.2 nltk\n",
    "# !pip install torchdata==0.7.1\n",
    "# !pip install pyarrow"
   ]
  },
  {
   "cell_type": "code",
   "execution_count": 2,
   "metadata": {},
   "outputs": [],
   "source": [
    "import torch\n",
    "import os\n",
    "import pickle\n",
    "from model import ClassificationNet, train_epoch, evaluate_epoch, save_list_to_file, load_list_from_file\n",
    "from torch.optim.lr_scheduler import CosineAnnealingLR"
   ]
  },
  {
   "cell_type": "code",
   "execution_count": 3,
   "metadata": {},
   "outputs": [
    {
     "name": "stdout",
     "output_type": "stream",
     "text": [
      "Imported successfully!\n",
      "Running on device: cuda\n",
      "Loading data from Parquet files...\n",
      "Vocabulary Size: 95811\n",
      "\n",
      "Verifying by fetching one batch from train_dataloader...\n",
      "Labels batch shape: torch.Size([64])\n",
      "Texts batch shape: torch.Size([64, 78])\n"
     ]
    }
   ],
   "source": [
    "from dataloader import get_dataloaders, DEVICE\n",
    "\n",
    "print(\"Imported successfully!\")\n",
    "print(f\"Running on device: {DEVICE}\")\n",
    "\n",
    "BATCH_SIZE = 64\n",
    "train_dataloader, valid_dataloader, test_dataloader, vocab = get_dataloaders(batch_size=BATCH_SIZE)\n",
    "\n",
    "# --- Verification Step ---\n",
    "print(\"\\nVerifying by fetching one batch from train_dataloader...\")\n",
    "labels, texts = next(iter(train_dataloader))\n",
    "\n",
    "print(f\"Labels batch shape: {labels.shape}\")\n",
    "print(f\"Texts batch shape: {texts.shape}\")"
   ]
  },
  {
   "cell_type": "code",
   "execution_count": 4,
   "metadata": {},
   "outputs": [],
   "source": [
    "vocab_size = len(vocab)\n",
    "num_classes = 4"
   ]
  },
  {
   "cell_type": "code",
   "execution_count": 5,
   "metadata": {},
   "outputs": [
    {
     "name": "stdout",
     "output_type": "stream",
     "text": [
      "Experiment artifacts will be saved in: runs/adam_from_epoch71\n",
      "Metrics will be saved in: runs/adam_from_epoch71/metrics\n"
     ]
    }
   ],
   "source": [
    "EXPERIMENT_DIR = \"runs/adam_from_epoch71\"\n",
    "METRICS_DIR = os.path.join(EXPERIMENT_DIR, \"metrics\") \n",
    "os.makedirs(EXPERIMENT_DIR, exist_ok=True)\n",
    "os.makedirs(METRICS_DIR, exist_ok=True) \n",
    "\n",
    "print(f\"Experiment artifacts will be saved in: {EXPERIMENT_DIR}\")\n",
    "print(f\"Metrics will be saved in: {METRICS_DIR}\")"
   ]
  },
  {
   "cell_type": "code",
   "execution_count": null,
   "metadata": {},
   "outputs": [],
   "source": []
  },
  {
   "cell_type": "code",
   "execution_count": 6,
   "metadata": {},
   "outputs": [],
   "source": [
    "model = ClassificationNet(vocab_size=vocab_size, num_class=num_classes).to(DEVICE)\n",
    "optimizer = torch.optim.Adam(model.parameters(), lr=0.001)\n",
    "criterion = torch.nn.CrossEntropyLoss()"
   ]
  },
  {
   "cell_type": "code",
   "execution_count": 7,
   "metadata": {},
   "outputs": [],
   "source": [
    "# define tits parameters after loading the checkpoint\n",
    "scheduler = None"
   ]
  },
  {
   "cell_type": "code",
   "execution_count": 8,
   "metadata": {},
   "outputs": [],
   "source": [
    "start_epoch = 1\n",
    "best_val_accuracy = 0.0\n",
    "history = {'train_loss': [], 'train_acc': [], 'val_loss': [], 'val_acc': []}"
   ]
  },
  {
   "cell_type": "code",
   "execution_count": 9,
   "metadata": {},
   "outputs": [],
   "source": [
    "BASE_CHECKPOINT_PATH = 'runs/adam_from_epoch51/checkpoint.pth'"
   ]
  },
  {
   "cell_type": "code",
   "execution_count": 10,
   "metadata": {},
   "outputs": [
    {
     "name": "stdout",
     "output_type": "stream",
     "text": [
      "Found base checkpoint. Initializing model with weights from 'runs/adam_from_epoch51/checkpoint.pth'...\n"
     ]
    }
   ],
   "source": [
    "if os.path.exists(BASE_CHECKPOINT_PATH):\n",
    "    print(f\"Found base checkpoint. Initializing model with weights from '{BASE_CHECKPOINT_PATH}'...\")\n",
    "    checkpoint = torch.load(BASE_CHECKPOINT_PATH)\n",
    "    \n",
    "    model.load_state_dict(checkpoint['model_state_dict']) # Load weights only\n",
    "    optimizer.load_state_dict(checkpoint['optimizer_state_dict'])\n",
    "        \n",
    "    start_epoch = checkpoint['epoch'] + 1\n",
    "    history = checkpoint['history']                       # Continue history\n",
    "    best_val_accuracy = checkpoint['best_val_accuracy']\n",
    "    \n",
    "else:\n",
    "    print(\"No checkpoints found. Starting a completely new training run.\")"
   ]
  },
  {
   "cell_type": "code",
   "execution_count": 13,
   "metadata": {
    "scrolled": true
   },
   "outputs": [
    {
     "name": "stderr",
     "output_type": "stream",
     "text": [
      "\r",
      "Training:   0%|          | 0/1725 [00:00<?, ?it/s]"
     ]
    },
    {
     "name": "stdout",
     "output_type": "stream",
     "text": [
      "Starting training from epoch 71...\n",
      "--------------------------------------------------\n",
      "Epoch 71/100\n"
     ]
    },
    {
     "name": "stderr",
     "output_type": "stream",
     "text": [
      "Training: 100%|██████████| 1725/1725 [00:41<00:00, 41.38it/s, loss=0.4423]\n",
      "Evaluating: 100%|██████████| 150/150 [00:01<00:00, 130.79it/s, loss=0.4061]\n"
     ]
    },
    {
     "name": "stdout",
     "output_type": "stream",
     "text": [
      "\n",
      "Epoch Summary:\n",
      "\tTrain Loss: 0.4423 | Train Acc: 84.84%\n",
      "\tValid Loss: 0.4061 | Valid Acc: 86.61%\n",
      "\tLearning Rate: 0.000997\n"
     ]
    },
    {
     "name": "stderr",
     "output_type": "stream",
     "text": [
      "Training:   0%|          | 4/1725 [00:00<00:43, 39.27it/s, loss=0.3962]"
     ]
    },
    {
     "name": "stdout",
     "output_type": "stream",
     "text": [
      "New best model saved to 'runs/adam_from_epoch71/best_model.pth'\n",
      "--------------------------------------------------\n",
      "Epoch 72/100\n"
     ]
    },
    {
     "name": "stderr",
     "output_type": "stream",
     "text": [
      "Training: 100%|██████████| 1725/1725 [00:41<00:00, 41.55it/s, loss=0.4280]\n",
      "Evaluating: 100%|██████████| 150/150 [00:01<00:00, 133.36it/s, loss=0.4000]\n"
     ]
    },
    {
     "name": "stdout",
     "output_type": "stream",
     "text": [
      "\n",
      "Epoch Summary:\n",
      "\tTrain Loss: 0.4280 | Train Acc: 85.32%\n",
      "\tValid Loss: 0.4000 | Valid Acc: 87.24%\n",
      "\tLearning Rate: 0.000989\n"
     ]
    },
    {
     "name": "stderr",
     "output_type": "stream",
     "text": [
      "Training:   0%|          | 5/1725 [00:00<00:41, 41.34it/s, loss=0.4142]"
     ]
    },
    {
     "name": "stdout",
     "output_type": "stream",
     "text": [
      "New best model saved to 'runs/adam_from_epoch71/best_model.pth'\n",
      "--------------------------------------------------\n",
      "Epoch 73/100\n"
     ]
    },
    {
     "name": "stderr",
     "output_type": "stream",
     "text": [
      "Training: 100%|██████████| 1725/1725 [00:41<00:00, 41.61it/s, loss=0.4203]\n",
      "Evaluating: 100%|██████████| 150/150 [00:01<00:00, 127.00it/s, loss=0.3836]\n"
     ]
    },
    {
     "name": "stdout",
     "output_type": "stream",
     "text": [
      "\n",
      "Epoch Summary:\n",
      "\tTrain Loss: 0.4203 | Train Acc: 85.63%\n",
      "\tValid Loss: 0.3836 | Valid Acc: 87.64%\n",
      "\tLearning Rate: 0.000976\n"
     ]
    },
    {
     "name": "stderr",
     "output_type": "stream",
     "text": [
      "Training:   0%|          | 5/1725 [00:00<00:41, 41.27it/s, loss=0.4758]"
     ]
    },
    {
     "name": "stdout",
     "output_type": "stream",
     "text": [
      "New best model saved to 'runs/adam_from_epoch71/best_model.pth'\n",
      "--------------------------------------------------\n",
      "Epoch 74/100\n"
     ]
    },
    {
     "name": "stderr",
     "output_type": "stream",
     "text": [
      "Training: 100%|██████████| 1725/1725 [00:41<00:00, 41.41it/s, loss=0.4185]\n",
      "Evaluating: 100%|██████████| 150/150 [00:01<00:00, 126.90it/s, loss=0.4105]\n",
      "Training:   0%|          | 2/1725 [00:00<01:26, 19.90it/s, loss=0.4572]"
     ]
    },
    {
     "name": "stdout",
     "output_type": "stream",
     "text": [
      "\n",
      "Epoch Summary:\n",
      "\tTrain Loss: 0.4185 | Train Acc: 85.62%\n",
      "\tValid Loss: 0.4105 | Valid Acc: 86.25%\n",
      "\tLearning Rate: 0.000957\n",
      "--------------------------------------------------\n",
      "Epoch 75/100\n"
     ]
    },
    {
     "name": "stderr",
     "output_type": "stream",
     "text": [
      "Training: 100%|██████████| 1725/1725 [00:41<00:00, 41.49it/s, loss=0.4134]\n",
      "Evaluating: 100%|██████████| 150/150 [00:01<00:00, 132.49it/s, loss=0.3819]\n",
      "Training:   0%|          | 3/1725 [00:00<01:03, 26.99it/s, loss=0.4212]"
     ]
    },
    {
     "name": "stdout",
     "output_type": "stream",
     "text": [
      "\n",
      "Epoch Summary:\n",
      "\tTrain Loss: 0.4134 | Train Acc: 85.80%\n",
      "\tValid Loss: 0.3819 | Valid Acc: 87.63%\n",
      "\tLearning Rate: 0.000933\n",
      "--------------------------------------------------\n",
      "Epoch 76/100\n"
     ]
    },
    {
     "name": "stderr",
     "output_type": "stream",
     "text": [
      "Training: 100%|██████████| 1725/1725 [00:41<00:00, 41.60it/s, loss=0.3971]\n",
      "Evaluating: 100%|██████████| 150/150 [00:01<00:00, 135.45it/s, loss=0.3698]\n",
      "Training:   0%|          | 3/1725 [00:00<01:04, 26.80it/s, loss=0.3602]"
     ]
    },
    {
     "name": "stdout",
     "output_type": "stream",
     "text": [
      "\n",
      "Epoch Summary:\n",
      "\tTrain Loss: 0.3971 | Train Acc: 86.53%\n",
      "\tValid Loss: 0.3698 | Valid Acc: 87.64%\n",
      "\tLearning Rate: 0.000905\n",
      "--------------------------------------------------\n",
      "Epoch 77/100\n"
     ]
    },
    {
     "name": "stderr",
     "output_type": "stream",
     "text": [
      "Training: 100%|██████████| 1725/1725 [00:41<00:00, 41.28it/s, loss=0.3849]\n",
      "Evaluating: 100%|██████████| 150/150 [00:01<00:00, 132.81it/s, loss=0.3776]\n"
     ]
    },
    {
     "name": "stdout",
     "output_type": "stream",
     "text": [
      "\n",
      "Epoch Summary:\n",
      "\tTrain Loss: 0.3849 | Train Acc: 86.89%\n",
      "\tValid Loss: 0.3776 | Valid Acc: 88.20%\n",
      "\tLearning Rate: 0.000872\n"
     ]
    },
    {
     "name": "stderr",
     "output_type": "stream",
     "text": [
      "Training:   0%|          | 3/1725 [00:00<01:00, 28.26it/s, loss=0.4103]"
     ]
    },
    {
     "name": "stdout",
     "output_type": "stream",
     "text": [
      "New best model saved to 'runs/adam_from_epoch71/best_model.pth'\n",
      "--------------------------------------------------\n",
      "Epoch 78/100\n"
     ]
    },
    {
     "name": "stderr",
     "output_type": "stream",
     "text": [
      "Training: 100%|██████████| 1725/1725 [00:41<00:00, 41.41it/s, loss=0.3735]\n",
      "Evaluating: 100%|██████████| 150/150 [00:01<00:00, 135.61it/s, loss=0.3714]\n",
      "Training:   0%|          | 3/1725 [00:00<01:01, 27.85it/s, loss=0.3384]"
     ]
    },
    {
     "name": "stdout",
     "output_type": "stream",
     "text": [
      "\n",
      "Epoch Summary:\n",
      "\tTrain Loss: 0.3735 | Train Acc: 87.31%\n",
      "\tValid Loss: 0.3714 | Valid Acc: 88.16%\n",
      "\tLearning Rate: 0.000835\n",
      "--------------------------------------------------\n",
      "Epoch 79/100\n"
     ]
    },
    {
     "name": "stderr",
     "output_type": "stream",
     "text": [
      "Training: 100%|██████████| 1725/1725 [00:41<00:00, 41.66it/s, loss=0.3663]\n",
      "Evaluating: 100%|██████████| 150/150 [00:01<00:00, 124.98it/s, loss=0.3529]\n"
     ]
    },
    {
     "name": "stdout",
     "output_type": "stream",
     "text": [
      "\n",
      "Epoch Summary:\n",
      "\tTrain Loss: 0.3663 | Train Acc: 87.63%\n",
      "\tValid Loss: 0.3529 | Valid Acc: 88.86%\n",
      "\tLearning Rate: 0.000794\n"
     ]
    },
    {
     "name": "stderr",
     "output_type": "stream",
     "text": [
      "Training:   0%|          | 5/1725 [00:00<00:39, 43.45it/s, loss=0.4631]"
     ]
    },
    {
     "name": "stdout",
     "output_type": "stream",
     "text": [
      "New best model saved to 'runs/adam_from_epoch71/best_model.pth'\n",
      "--------------------------------------------------\n",
      "Epoch 80/100\n"
     ]
    },
    {
     "name": "stderr",
     "output_type": "stream",
     "text": [
      "Training: 100%|██████████| 1725/1725 [00:41<00:00, 41.38it/s, loss=0.3619]\n",
      "Evaluating: 100%|██████████| 150/150 [00:01<00:00, 130.79it/s, loss=0.3690]\n",
      "Training:   0%|          | 3/1725 [00:00<01:04, 26.89it/s, loss=0.3982]"
     ]
    },
    {
     "name": "stdout",
     "output_type": "stream",
     "text": [
      "\n",
      "Epoch Summary:\n",
      "\tTrain Loss: 0.3619 | Train Acc: 87.64%\n",
      "\tValid Loss: 0.3690 | Valid Acc: 88.43%\n",
      "\tLearning Rate: 0.000750\n",
      "--------------------------------------------------\n",
      "Epoch 81/100\n"
     ]
    },
    {
     "name": "stderr",
     "output_type": "stream",
     "text": [
      "Training: 100%|██████████| 1725/1725 [00:41<00:00, 41.52it/s, loss=0.3586]\n",
      "Evaluating: 100%|██████████| 150/150 [00:01<00:00, 133.87it/s, loss=0.3484]\n",
      "Training:   0%|          | 2/1725 [00:00<01:33, 18.38it/s, loss=0.3679]"
     ]
    },
    {
     "name": "stdout",
     "output_type": "stream",
     "text": [
      "\n",
      "Epoch Summary:\n",
      "\tTrain Loss: 0.3586 | Train Acc: 87.80%\n",
      "\tValid Loss: 0.3484 | Valid Acc: 88.70%\n",
      "\tLearning Rate: 0.000703\n",
      "--------------------------------------------------\n",
      "Epoch 82/100\n"
     ]
    },
    {
     "name": "stderr",
     "output_type": "stream",
     "text": [
      "Training: 100%|██████████| 1725/1725 [00:41<00:00, 41.56it/s, loss=0.3516]\n",
      "Evaluating: 100%|██████████| 150/150 [00:01<00:00, 129.99it/s, loss=0.3779]\n",
      "Training:   0%|          | 5/1725 [00:00<00:41, 41.91it/s, loss=0.3533]"
     ]
    },
    {
     "name": "stdout",
     "output_type": "stream",
     "text": [
      "\n",
      "Epoch Summary:\n",
      "\tTrain Loss: 0.3516 | Train Acc: 88.08%\n",
      "\tValid Loss: 0.3779 | Valid Acc: 88.36%\n",
      "\tLearning Rate: 0.000655\n",
      "--------------------------------------------------\n",
      "Epoch 83/100\n"
     ]
    },
    {
     "name": "stderr",
     "output_type": "stream",
     "text": [
      "Training: 100%|██████████| 1725/1725 [00:41<00:00, 41.60it/s, loss=0.3441]\n",
      "Evaluating: 100%|██████████| 150/150 [00:01<00:00, 129.88it/s, loss=0.3628]\n",
      "Training:   0%|          | 2/1725 [00:00<01:38, 17.53it/s, loss=0.3940]"
     ]
    },
    {
     "name": "stdout",
     "output_type": "stream",
     "text": [
      "\n",
      "Epoch Summary:\n",
      "\tTrain Loss: 0.3441 | Train Acc: 88.40%\n",
      "\tValid Loss: 0.3628 | Valid Acc: 88.72%\n",
      "\tLearning Rate: 0.000604\n",
      "--------------------------------------------------\n",
      "Epoch 84/100\n"
     ]
    },
    {
     "name": "stderr",
     "output_type": "stream",
     "text": [
      "Training: 100%|██████████| 1725/1725 [00:41<00:00, 41.31it/s, loss=0.3405]\n",
      "Evaluating: 100%|██████████| 150/150 [00:01<00:00, 131.88it/s, loss=0.3658]\n",
      "Training:   0%|          | 3/1725 [00:00<01:02, 27.68it/s, loss=0.3569]"
     ]
    },
    {
     "name": "stdout",
     "output_type": "stream",
     "text": [
      "\n",
      "Epoch Summary:\n",
      "\tTrain Loss: 0.3405 | Train Acc: 88.39%\n",
      "\tValid Loss: 0.3658 | Valid Acc: 88.63%\n",
      "\tLearning Rate: 0.000552\n",
      "--------------------------------------------------\n",
      "Epoch 85/100\n"
     ]
    },
    {
     "name": "stderr",
     "output_type": "stream",
     "text": [
      "Training: 100%|██████████| 1725/1725 [00:41<00:00, 41.37it/s, loss=0.3318]\n",
      "Evaluating: 100%|██████████| 150/150 [00:01<00:00, 132.09it/s, loss=0.3608]\n",
      "Training:   0%|          | 4/1725 [00:00<00:49, 34.77it/s, loss=0.2715]"
     ]
    },
    {
     "name": "stdout",
     "output_type": "stream",
     "text": [
      "\n",
      "Epoch Summary:\n",
      "\tTrain Loss: 0.3318 | Train Acc: 88.75%\n",
      "\tValid Loss: 0.3608 | Valid Acc: 88.84%\n",
      "\tLearning Rate: 0.000500\n",
      "--------------------------------------------------\n",
      "Epoch 86/100\n"
     ]
    },
    {
     "name": "stderr",
     "output_type": "stream",
     "text": [
      "Training: 100%|██████████| 1725/1725 [00:41<00:00, 41.72it/s, loss=0.3244]\n",
      "Evaluating: 100%|██████████| 150/150 [00:01<00:00, 126.94it/s, loss=0.3501]\n"
     ]
    },
    {
     "name": "stdout",
     "output_type": "stream",
     "text": [
      "\n",
      "Epoch Summary:\n",
      "\tTrain Loss: 0.3244 | Train Acc: 89.07%\n",
      "\tValid Loss: 0.3501 | Valid Acc: 88.94%\n",
      "\tLearning Rate: 0.000448\n"
     ]
    },
    {
     "name": "stderr",
     "output_type": "stream",
     "text": [
      "Training:   0%|          | 4/1725 [00:00<00:43, 39.16it/s, loss=0.3508]"
     ]
    },
    {
     "name": "stdout",
     "output_type": "stream",
     "text": [
      "New best model saved to 'runs/adam_from_epoch71/best_model.pth'\n",
      "--------------------------------------------------\n",
      "Epoch 87/100\n"
     ]
    },
    {
     "name": "stderr",
     "output_type": "stream",
     "text": [
      "Training: 100%|██████████| 1725/1725 [00:41<00:00, 41.61it/s, loss=0.3224]\n",
      "Evaluating: 100%|██████████| 150/150 [00:01<00:00, 128.16it/s, loss=0.3450]\n"
     ]
    },
    {
     "name": "stdout",
     "output_type": "stream",
     "text": [
      "\n",
      "Epoch Summary:\n",
      "\tTrain Loss: 0.3224 | Train Acc: 89.13%\n",
      "\tValid Loss: 0.3450 | Valid Acc: 89.25%\n",
      "\tLearning Rate: 0.000396\n"
     ]
    },
    {
     "name": "stderr",
     "output_type": "stream",
     "text": [
      "Training:   0%|          | 3/1725 [00:00<00:58, 29.58it/s, loss=0.3255]"
     ]
    },
    {
     "name": "stdout",
     "output_type": "stream",
     "text": [
      "New best model saved to 'runs/adam_from_epoch71/best_model.pth'\n",
      "--------------------------------------------------\n",
      "Epoch 88/100\n"
     ]
    },
    {
     "name": "stderr",
     "output_type": "stream",
     "text": [
      "Training: 100%|██████████| 1725/1725 [00:41<00:00, 41.39it/s, loss=0.3191]\n",
      "Evaluating: 100%|██████████| 150/150 [00:01<00:00, 129.16it/s, loss=0.3586]\n",
      "Training:   0%|          | 3/1725 [00:00<01:01, 28.08it/s, loss=0.2828]"
     ]
    },
    {
     "name": "stdout",
     "output_type": "stream",
     "text": [
      "\n",
      "Epoch Summary:\n",
      "\tTrain Loss: 0.3191 | Train Acc: 89.21%\n",
      "\tValid Loss: 0.3586 | Valid Acc: 88.76%\n",
      "\tLearning Rate: 0.000346\n",
      "--------------------------------------------------\n",
      "Epoch 89/100\n"
     ]
    },
    {
     "name": "stderr",
     "output_type": "stream",
     "text": [
      "Training: 100%|██████████| 1725/1725 [00:41<00:00, 41.47it/s, loss=0.3135]\n",
      "Evaluating: 100%|██████████| 150/150 [00:01<00:00, 130.74it/s, loss=0.3506]\n",
      "Training:   0%|          | 3/1725 [00:00<01:00, 28.59it/s, loss=0.3598]"
     ]
    },
    {
     "name": "stdout",
     "output_type": "stream",
     "text": [
      "\n",
      "Epoch Summary:\n",
      "\tTrain Loss: 0.3135 | Train Acc: 89.43%\n",
      "\tValid Loss: 0.3506 | Valid Acc: 89.00%\n",
      "\tLearning Rate: 0.000297\n",
      "--------------------------------------------------\n",
      "Epoch 90/100\n"
     ]
    },
    {
     "name": "stderr",
     "output_type": "stream",
     "text": [
      "Training: 100%|██████████| 1725/1725 [00:41<00:00, 41.58it/s, loss=0.3075]\n",
      "Evaluating: 100%|██████████| 150/150 [00:01<00:00, 126.74it/s, loss=0.3581]\n",
      "Training:   0%|          | 5/1725 [00:00<00:46, 37.11it/s, loss=0.2962]"
     ]
    },
    {
     "name": "stdout",
     "output_type": "stream",
     "text": [
      "\n",
      "Epoch Summary:\n",
      "\tTrain Loss: 0.3075 | Train Acc: 89.59%\n",
      "\tValid Loss: 0.3581 | Valid Acc: 89.17%\n",
      "\tLearning Rate: 0.000250\n",
      "--------------------------------------------------\n",
      "Epoch 91/100\n"
     ]
    },
    {
     "name": "stderr",
     "output_type": "stream",
     "text": [
      "Training: 100%|██████████| 1725/1725 [00:41<00:00, 41.46it/s, loss=0.3031]\n",
      "Evaluating: 100%|██████████| 150/150 [00:01<00:00, 132.59it/s, loss=0.3553]\n"
     ]
    },
    {
     "name": "stdout",
     "output_type": "stream",
     "text": [
      "\n",
      "Epoch Summary:\n",
      "\tTrain Loss: 0.3031 | Train Acc: 89.77%\n",
      "\tValid Loss: 0.3553 | Valid Acc: 89.30%\n",
      "\tLearning Rate: 0.000206\n"
     ]
    },
    {
     "name": "stderr",
     "output_type": "stream",
     "text": [
      "Training:   0%|          | 4/1725 [00:00<00:51, 33.57it/s, loss=0.3255]"
     ]
    },
    {
     "name": "stdout",
     "output_type": "stream",
     "text": [
      "New best model saved to 'runs/adam_from_epoch71/best_model.pth'\n",
      "--------------------------------------------------\n",
      "Epoch 92/100\n"
     ]
    },
    {
     "name": "stderr",
     "output_type": "stream",
     "text": [
      "Training: 100%|██████████| 1725/1725 [00:41<00:00, 41.54it/s, loss=0.2988]\n",
      "Evaluating: 100%|██████████| 150/150 [00:01<00:00, 126.73it/s, loss=0.3432]\n"
     ]
    },
    {
     "name": "stdout",
     "output_type": "stream",
     "text": [
      "\n",
      "Epoch Summary:\n",
      "\tTrain Loss: 0.2988 | Train Acc: 89.95%\n",
      "\tValid Loss: 0.3432 | Valid Acc: 89.49%\n",
      "\tLearning Rate: 0.000166\n"
     ]
    },
    {
     "name": "stderr",
     "output_type": "stream",
     "text": [
      "Training:   0%|          | 4/1725 [00:00<00:49, 34.59it/s, loss=0.3909]"
     ]
    },
    {
     "name": "stdout",
     "output_type": "stream",
     "text": [
      "New best model saved to 'runs/adam_from_epoch71/best_model.pth'\n",
      "--------------------------------------------------\n",
      "Epoch 93/100\n"
     ]
    },
    {
     "name": "stderr",
     "output_type": "stream",
     "text": [
      "Training: 100%|██████████| 1725/1725 [00:41<00:00, 41.59it/s, loss=0.2967]\n",
      "Evaluating: 100%|██████████| 150/150 [00:01<00:00, 133.14it/s, loss=0.3421]\n"
     ]
    },
    {
     "name": "stdout",
     "output_type": "stream",
     "text": [
      "\n",
      "Epoch Summary:\n",
      "\tTrain Loss: 0.2967 | Train Acc: 89.99%\n",
      "\tValid Loss: 0.3421 | Valid Acc: 89.76%\n",
      "\tLearning Rate: 0.000129\n"
     ]
    },
    {
     "name": "stderr",
     "output_type": "stream",
     "text": [
      "Training:   0%|          | 5/1725 [00:00<00:41, 41.92it/s, loss=0.2885]"
     ]
    },
    {
     "name": "stdout",
     "output_type": "stream",
     "text": [
      "New best model saved to 'runs/adam_from_epoch71/best_model.pth'\n",
      "--------------------------------------------------\n",
      "Epoch 94/100\n"
     ]
    },
    {
     "name": "stderr",
     "output_type": "stream",
     "text": [
      "Training: 100%|██████████| 1725/1725 [00:41<00:00, 41.35it/s, loss=0.2931]\n",
      "Evaluating: 100%|██████████| 150/150 [00:01<00:00, 133.32it/s, loss=0.3403]\n",
      "Training:   0%|          | 2/1725 [00:00<01:32, 18.60it/s, loss=0.3210]"
     ]
    },
    {
     "name": "stdout",
     "output_type": "stream",
     "text": [
      "\n",
      "Epoch Summary:\n",
      "\tTrain Loss: 0.2931 | Train Acc: 90.18%\n",
      "\tValid Loss: 0.3403 | Valid Acc: 89.39%\n",
      "\tLearning Rate: 0.000096\n",
      "--------------------------------------------------\n",
      "Epoch 95/100\n"
     ]
    },
    {
     "name": "stderr",
     "output_type": "stream",
     "text": [
      "Training: 100%|██████████| 1725/1725 [00:41<00:00, 41.31it/s, loss=0.2911]\n",
      "Evaluating: 100%|██████████| 150/150 [00:01<00:00, 130.07it/s, loss=0.3346]\n",
      "Training:   0%|          | 3/1725 [00:00<01:02, 27.51it/s, loss=0.2786]"
     ]
    },
    {
     "name": "stdout",
     "output_type": "stream",
     "text": [
      "\n",
      "Epoch Summary:\n",
      "\tTrain Loss: 0.2911 | Train Acc: 90.23%\n",
      "\tValid Loss: 0.3346 | Valid Acc: 89.66%\n",
      "\tLearning Rate: 0.000067\n",
      "--------------------------------------------------\n",
      "Epoch 96/100\n"
     ]
    },
    {
     "name": "stderr",
     "output_type": "stream",
     "text": [
      "Training: 100%|██████████| 1725/1725 [00:41<00:00, 41.12it/s, loss=0.2873]\n",
      "Evaluating: 100%|██████████| 150/150 [00:01<00:00, 125.72it/s, loss=0.3400]\n",
      "Training:   0%|          | 4/1725 [00:00<00:51, 33.65it/s, loss=0.2288]"
     ]
    },
    {
     "name": "stdout",
     "output_type": "stream",
     "text": [
      "\n",
      "Epoch Summary:\n",
      "\tTrain Loss: 0.2873 | Train Acc: 90.33%\n",
      "\tValid Loss: 0.3400 | Valid Acc: 89.73%\n",
      "\tLearning Rate: 0.000043\n",
      "--------------------------------------------------\n",
      "Epoch 97/100\n"
     ]
    },
    {
     "name": "stderr",
     "output_type": "stream",
     "text": [
      "Training: 100%|██████████| 1725/1725 [00:41<00:00, 41.39it/s, loss=0.2881]\n",
      "Evaluating: 100%|██████████| 150/150 [00:01<00:00, 132.87it/s, loss=0.3418]\n",
      "Training:   0%|          | 2/1725 [00:00<01:33, 18.45it/s, loss=0.2276]"
     ]
    },
    {
     "name": "stdout",
     "output_type": "stream",
     "text": [
      "\n",
      "Epoch Summary:\n",
      "\tTrain Loss: 0.2881 | Train Acc: 90.35%\n",
      "\tValid Loss: 0.3418 | Valid Acc: 89.74%\n",
      "\tLearning Rate: 0.000025\n",
      "--------------------------------------------------\n",
      "Epoch 98/100\n"
     ]
    },
    {
     "name": "stderr",
     "output_type": "stream",
     "text": [
      "Training: 100%|██████████| 1725/1725 [00:41<00:00, 41.45it/s, loss=0.2877]\n",
      "Evaluating: 100%|██████████| 150/150 [00:01<00:00, 127.40it/s, loss=0.3411]\n"
     ]
    },
    {
     "name": "stdout",
     "output_type": "stream",
     "text": [
      "\n",
      "Epoch Summary:\n",
      "\tTrain Loss: 0.2877 | Train Acc: 90.40%\n",
      "\tValid Loss: 0.3411 | Valid Acc: 89.78%\n",
      "\tLearning Rate: 0.000011\n"
     ]
    },
    {
     "name": "stderr",
     "output_type": "stream",
     "text": [
      "Training:   0%|          | 5/1725 [00:00<00:40, 42.90it/s, loss=0.2778]"
     ]
    },
    {
     "name": "stdout",
     "output_type": "stream",
     "text": [
      "New best model saved to 'runs/adam_from_epoch71/best_model.pth'\n",
      "--------------------------------------------------\n",
      "Epoch 99/100\n"
     ]
    },
    {
     "name": "stderr",
     "output_type": "stream",
     "text": [
      "Training: 100%|██████████| 1725/1725 [00:41<00:00, 41.53it/s, loss=0.2866]\n",
      "Evaluating: 100%|██████████| 150/150 [00:01<00:00, 136.97it/s, loss=0.3424]\n",
      "Training:   0%|          | 3/1725 [00:00<00:57, 29.92it/s, loss=0.2510]"
     ]
    },
    {
     "name": "stdout",
     "output_type": "stream",
     "text": [
      "\n",
      "Epoch Summary:\n",
      "\tTrain Loss: 0.2866 | Train Acc: 90.30%\n",
      "\tValid Loss: 0.3424 | Valid Acc: 89.76%\n",
      "\tLearning Rate: 0.000003\n",
      "--------------------------------------------------\n",
      "Epoch 100/100\n"
     ]
    },
    {
     "name": "stderr",
     "output_type": "stream",
     "text": [
      "Training: 100%|██████████| 1725/1725 [00:41<00:00, 41.56it/s, loss=0.2859]\n",
      "Evaluating: 100%|██████████| 150/150 [00:01<00:00, 129.41it/s, loss=0.3412]\n"
     ]
    },
    {
     "name": "stdout",
     "output_type": "stream",
     "text": [
      "\n",
      "Epoch Summary:\n",
      "\tTrain Loss: 0.2859 | Train Acc: 90.34%\n",
      "\tValid Loss: 0.3412 | Valid Acc: 89.80%\n",
      "\tLearning Rate: 0.000000\n",
      "New best model saved to 'runs/adam_from_epoch71/best_model.pth'\n",
      "--------------------------------------------------\n",
      "Training Finished!\n"
     ]
    }
   ],
   "source": [
    "EPOCHS = 100            # Train up to a total of 90 epochs\n",
    "\n",
    "# Configure and assign the CosineAnnealingLR scheduler\n",
    "# It will run for the remaining epochs (100 - 70 = 30 epochs)\n",
    "\n",
    "remaining_epochs = EPOCHS - start_epoch + 1\n",
    "scheduler = CosineAnnealingLR(optimizer, T_max=remaining_epochs, eta_min=1e-7)\n",
    "\n",
    "print(f\"Starting training from epoch {start_epoch}...\")\n",
    "\n",
    "for epoch in range(start_epoch, EPOCHS + 1):\n",
    "    print(\"-\" * 50)\n",
    "    print(f\"Epoch {epoch}/{EPOCHS}\")\n",
    "    \n",
    "    # Run training and validation\n",
    "    train_loss, train_acc = train_epoch(model, train_dataloader, criterion, optimizer, DEVICE)\n",
    "    history['train_loss'].append(train_loss)\n",
    "    history['train_acc'].append(train_acc)\n",
    "    \n",
    "    val_loss, val_acc = evaluate_epoch(model, valid_dataloader, criterion, DEVICE)\n",
    "    history['val_loss'].append(val_loss)\n",
    "    history['val_acc'].append(val_acc)\n",
    "    \n",
    "    scheduler.step()\n",
    "    \n",
    "    # Get current LR to print it\n",
    "    current_lr = optimizer.param_groups[0]['lr']\n",
    "    \n",
    "    # summary\n",
    "    print(f\"\\nEpoch Summary:\")\n",
    "    print(f\"\\tTrain Loss: {train_loss:.4f} | Train Acc: {train_acc*100:.2f}%\")\n",
    "    print(f\"\\tValid Loss: {val_loss:.4f} | Valid Acc: {val_acc*100:.2f}%\")\n",
    "    print(f\"\\tLearning Rate: {current_lr:.6f}\")\n",
    "\n",
    "    # Save best model to the experiment folder\n",
    "    if val_acc > best_val_accuracy:\n",
    "        best_val_accuracy = val_acc\n",
    "        best_model_path = os.path.join(EXPERIMENT_DIR, 'best_model.pth')\n",
    "        torch.save(model.state_dict(), best_model_path)\n",
    "        print(f\"New best model saved to '{best_model_path}'\")\n",
    "\n",
    "print(\"-\" * 50)\n",
    "print(\"Training Finished!\")\n",
    "        \n",
    "        \n",
    "# Save final history to the experiment folder\n",
    "for key, value in history.items():\n",
    "    file_path = os.path.join(METRICS_DIR, f\"{key}.pkl\")\n",
    "    save_list_to_file(value, file_path)"
   ]
  },
  {
   "cell_type": "code",
   "execution_count": null,
   "metadata": {},
   "outputs": [],
   "source": []
  },
  {
   "cell_type": "code",
   "execution_count": 14,
   "metadata": {},
   "outputs": [],
   "source": [
    "current_checkpoint = {\n",
    "    'epoch': epoch,\n",
    "    'model_state_dict': model.state_dict(),\n",
    "    'optimizer_state_dict': optimizer.state_dict(),\n",
    "    'scheduler_state_dict': scheduler.state_dict(),\n",
    "    'history': history,\n",
    "    'best_val_accuracy': best_val_accuracy\n",
    "}\n",
    "\n",
    "torch.save(current_checkpoint, os.path.join(EXPERIMENT_DIR, 'checkpoint.pth'))"
   ]
  },
  {
   "cell_type": "code",
   "execution_count": null,
   "metadata": {},
   "outputs": [],
   "source": []
  },
  {
   "cell_type": "code",
   "execution_count": 18,
   "metadata": {},
   "outputs": [
    {
     "data": {
      "image/png": "[encoded data removed]",
      "text/plain": [
       "<Figure size 1500x500 with 2 Axes>"
      ]
     },
     "metadata": {},
     "output_type": "display_data"
    }
   ],
   "source": [
    "import matplotlib.pyplot as plt\n",
    "\n",
    "train_losses = history['train_loss']\n",
    "train_accuracies = history['train_acc']\n",
    "val_losses = history['val_loss']\n",
    "val_accuracies = history['val_acc']\n",
    "    \n",
    "\n",
    "fig, (ax1, ax2) = plt.subplots(1, 2, figsize=(15, 5))\n",
    "\n",
    "# Plotting Accuracy\n",
    "ax1.plot(train_accuracies, label='Train Accuracy', color='blue')\n",
    "ax1.plot(val_accuracies, label='Validation Accuracy', color='orange')\n",
    "ax1.set_title('Model Accuracy')\n",
    "ax1.set_xlabel('Epochs')\n",
    "ax1.set_ylabel('Accuracy')\n",
    "ax1.legend()\n",
    "ax1.grid(True)\n",
    "\n",
    "# Plotting Loss\n",
    "ax2.plot(train_losses, label='Train Loss', color='blue')\n",
    "ax2.plot(val_losses, label='Validation Loss', color='orange')\n",
    "ax2.set_title('Model Loss')\n",
    "ax2.set_xlabel('Epochs')\n",
    "ax2.set_ylabel('Loss')\n",
    "ax2.legend()\n",
    "ax2.grid(True)\n",
    "\n",
    "plt.show()"
   ]
  },
  {
   "cell_type": "code",
   "execution_count": 23,
   "metadata": {},
   "outputs": [
    {
     "name": "stdout",
     "output_type": "stream",
     "text": [
      "Best model loaded and ready for testing.\n"
     ]
    }
   ],
   "source": [
    "best_model = ClassificationNet(vocab_size=vocab_size, num_class=num_classes).to(DEVICE)\n",
    "best_model.load_state_dict(torch.load('runs/adam_from_epoch71/best_model.pth'))\n",
    "print(\"Best model loaded and ready for testing.\")"
   ]
  },
  {
   "cell_type": "code",
   "execution_count": 24,
   "metadata": {},
   "outputs": [
    {
     "name": "stderr",
     "output_type": "stream",
     "text": [
      "Evaluating: 100%|██████████| 119/119 [00:00<00:00, 172.21it/s, loss=0.3704]\n"
     ]
    }
   ],
   "source": [
    "test_loss, test_acc = evaluate_epoch(best_model, test_dataloader, criterion, DEVICE)"
   ]
  },
  {
   "cell_type": "code",
   "execution_count": 25,
   "metadata": {},
   "outputs": [
    {
     "name": "stdout",
     "output_type": "stream",
     "text": [
      "--------------------------------------------------\n",
      "Final Test Results:\n",
      "\tTest Loss: 0.3704\n",
      "\tTest Accuracy: 89.37%\n",
      "--------------------------------------------------\n"
     ]
    }
   ],
   "source": [
    "print(\"-\" * 50)\n",
    "print(\"Final Test Results:\")\n",
    "print(f\"\\tTest Loss: {test_loss:.4f}\")\n",
    "print(f\"\\tTest Accuracy: {test_acc*100:.2f}%\")\n",
    "print(\"-\" * 50)"
   ]
  },
  {
   "cell_type": "code",
   "execution_count": null,
   "metadata": {},
   "outputs": [],
   "source": []
  }
 ],
 "metadata": {
  "kernelspec": {
   "display_name": "Python 3",
   "language": "python",
   "name": "python3"
  },
  "language_info": {
   "codemirror_mode": {
    "name": "ipython",
    "version": 3
   },
   "file_extension": ".py",
   "mimetype": "text/x-python",
   "name": "python",
   "nbconvert_exporter": "python",
   "pygments_lexer": "ipython3",
   "version": "3.8.10"
  }
 },
 "nbformat": 4,
 "nbformat_minor": 2
}
