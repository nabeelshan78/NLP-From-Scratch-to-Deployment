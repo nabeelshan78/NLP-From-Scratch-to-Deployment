{
 "cells": [
  {
   "cell_type": "code",
   "execution_count": 15,
   "metadata": {},
   "outputs": [],
   "source": [
    "# !pip install torch==2.2.2 torchtext==0.17.2 nltk\n",
    "# !pip install torchdata==0.7.1\n",
    "# !pip install pyarrow"
   ]
  },
  {
   "cell_type": "code",
   "execution_count": 16,
   "metadata": {},
   "outputs": [],
   "source": [
    "import torch\n",
    "import os\n",
    "import pickle\n",
    "from model import ClassificationNet, train_epoch, evaluate_epoch, save_list_to_file, load_list_from_file\n",
    "from torch.optim.lr_scheduler import CosineAnnealingLR"
   ]
  },
  {
   "cell_type": "code",
   "execution_count": 17,
   "metadata": {},
   "outputs": [
    {
     "name": "stdout",
     "output_type": "stream",
     "text": [
      "Imported successfully!\n",
      "Running on device: cuda\n",
      "Loading data from Parquet files...\n",
      "Vocabulary Size: 95811\n",
      "\n",
      "Verifying by fetching one batch from train_dataloader...\n",
      "Labels batch shape: torch.Size([64])\n",
      "Texts batch shape: torch.Size([64, 84])\n"
     ]
    }
   ],
   "source": [
    "from dataloader import get_dataloaders, DEVICE\n",
    "\n",
    "print(\"Imported successfully!\")\n",
    "print(f\"Running on device: {DEVICE}\")\n",
    "\n",
    "BATCH_SIZE = 64\n",
    "train_dataloader, valid_dataloader, test_dataloader, vocab = get_dataloaders(batch_size=BATCH_SIZE)\n",
    "\n",
    "# --- Verification Step ---\n",
    "print(\"\\nVerifying by fetching one batch from train_dataloader...\")\n",
    "labels, texts = next(iter(train_dataloader))\n",
    "\n",
    "print(f\"Labels batch shape: {labels.shape}\")\n",
    "print(f\"Texts batch shape: {texts.shape}\")"
   ]
  },
  {
   "cell_type": "code",
   "execution_count": 18,
   "metadata": {},
   "outputs": [],
   "source": [
    "vocab_size = len(vocab)\n",
    "num_classes = 4"
   ]
  },
  {
   "cell_type": "code",
   "execution_count": 19,
   "metadata": {},
   "outputs": [
    {
     "name": "stdout",
     "output_type": "stream",
     "text": [
      "Experiment artifacts will be saved in: runs/adam_from_epoch141\n",
      "Metrics will be saved in: runs/adam_from_epoch141/metrics\n"
     ]
    }
   ],
   "source": [
    "EXPERIMENT_DIR = \"runs/adam_from_epoch141\"\n",
    "METRICS_DIR = os.path.join(EXPERIMENT_DIR, \"metrics\") \n",
    "os.makedirs(EXPERIMENT_DIR, exist_ok=True)\n",
    "os.makedirs(METRICS_DIR, exist_ok=True) \n",
    "\n",
    "print(f\"Experiment artifacts will be saved in: {EXPERIMENT_DIR}\")\n",
    "print(f\"Metrics will be saved in: {METRICS_DIR}\")"
   ]
  },
  {
   "cell_type": "code",
   "execution_count": null,
   "metadata": {},
   "outputs": [],
   "source": []
  },
  {
   "cell_type": "code",
   "execution_count": 20,
   "metadata": {},
   "outputs": [],
   "source": [
    "model = ClassificationNet(vocab_size=vocab_size, num_class=num_classes).to(DEVICE)\n",
    "optimizer = torch.optim.Adam(model.parameters(), lr=0.0002)\n",
    "criterion = torch.nn.CrossEntropyLoss()"
   ]
  },
  {
   "cell_type": "code",
   "execution_count": 21,
   "metadata": {},
   "outputs": [],
   "source": [
    "# define tits parameters after loading the checkpoint\n",
    "scheduler = None"
   ]
  },
  {
   "cell_type": "code",
   "execution_count": 22,
   "metadata": {},
   "outputs": [],
   "source": [
    "start_epoch = 1\n",
    "best_val_accuracy = 0.0\n",
    "history = {'train_loss': [], 'train_acc': [], 'val_loss': [], 'val_acc': []}"
   ]
  },
  {
   "cell_type": "code",
   "execution_count": 23,
   "metadata": {},
   "outputs": [],
   "source": [
    "BASE_CHECKPOINT_PATH = 'runs/adam_from_epoch121/checkpoint.pth'"
   ]
  },
  {
   "cell_type": "code",
   "execution_count": 24,
   "metadata": {},
   "outputs": [
    {
     "name": "stdout",
     "output_type": "stream",
     "text": [
      "Found base checkpoint. Initializing model with weights from 'runs/adam_from_epoch121/checkpoint.pth'...\n"
     ]
    }
   ],
   "source": [
    "if os.path.exists(BASE_CHECKPOINT_PATH):\n",
    "    print(f\"Found base checkpoint. Initializing model with weights from '{BASE_CHECKPOINT_PATH}'...\")\n",
    "    checkpoint = torch.load(BASE_CHECKPOINT_PATH)\n",
    "    \n",
    "    model.load_state_dict(torch.load('runs/adam_from_epoch121/best_model.pth'))\n",
    "    optimizer.load_state_dict(checkpoint['optimizer_state_dict'])\n",
    "    \n",
    "    for param_group in optimizer.param_groups:\n",
    "        param_group['lr'] = 0.00025\n",
    "        \n",
    "    start_epoch = checkpoint['epoch'] + 1\n",
    "    history = checkpoint['history']                       # Continue history\n",
    "    best_val_accuracy = checkpoint['best_val_accuracy']\n",
    "    \n",
    "else:\n",
    "    print(\"No checkpoints found. Starting a completely new training run.\")"
   ]
  },
  {
   "cell_type": "code",
   "execution_count": 25,
   "metadata": {},
   "outputs": [
    {
     "data": {
      "text/plain": [
       "141"
      ]
     },
     "execution_count": 25,
     "metadata": {},
     "output_type": "execute_result"
    }
   ],
   "source": [
    "start_epoch"
   ]
  },
  {
   "cell_type": "code",
   "execution_count": 26,
   "metadata": {},
   "outputs": [],
   "source": [
    "EPOCHS = 160\n",
    "\n",
    "remaining_epochs = EPOCHS - start_epoch + 1\n",
    "scheduler = CosineAnnealingLR(optimizer, T_max=remaining_epochs, eta_min=1e-7)"
   ]
  },
  {
   "cell_type": "code",
   "execution_count": 27,
   "metadata": {},
   "outputs": [
    {
     "data": {
      "text/plain": [
       "20"
      ]
     },
     "execution_count": 27,
     "metadata": {},
     "output_type": "execute_result"
    }
   ],
   "source": [
    "remaining_epochs"
   ]
  },
  {
   "cell_type": "code",
   "execution_count": 28,
   "metadata": {},
   "outputs": [
    {
     "data": {
      "text/plain": [
       "0.00025"
      ]
     },
     "execution_count": 28,
     "metadata": {},
     "output_type": "execute_result"
    }
   ],
   "source": [
    "optimizer.param_groups[0]['lr']"
   ]
  },
  {
   "cell_type": "code",
   "execution_count": 29,
   "metadata": {
    "scrolled": true
   },
   "outputs": [
    {
     "name": "stderr",
     "output_type": "stream",
     "text": [
      "\r",
      "Training:   0%|          | 0/1725 [00:00<?, ?it/s]"
     ]
    },
    {
     "name": "stdout",
     "output_type": "stream",
     "text": [
      "Starting training from epoch 141...\n",
      "--------------------------------------------------\n",
      "Epoch 141/160\n"
     ]
    },
    {
     "name": "stderr",
     "output_type": "stream",
     "text": [
      "Training: 100%|██████████| 1725/1725 [00:42<00:00, 41.00it/s, loss=0.2508]\n",
      "Evaluating: 100%|██████████| 150/150 [00:01<00:00, 129.62it/s, loss=0.2402]\n",
      "Training:   0%|          | 3/1725 [00:00<01:07, 25.58it/s, loss=0.2639]"
     ]
    },
    {
     "name": "stdout",
     "output_type": "stream",
     "text": [
      "\n",
      "Epoch Summary:\n",
      "\tTrain Loss: 0.2508 | Train Acc: 91.58%\n",
      "\tValid Loss: 0.2402 | Valid Acc: 92.17%\n",
      "\tLearning Rate: 0.000248\n",
      "--------------------------------------------------\n",
      "Epoch 142/160\n"
     ]
    },
    {
     "name": "stderr",
     "output_type": "stream",
     "text": [
      "Training: 100%|██████████| 1725/1725 [00:41<00:00, 41.31it/s, loss=0.2487]\n",
      "Evaluating: 100%|██████████| 150/150 [00:01<00:00, 132.78it/s, loss=0.2491]\n",
      "Training:   0%|          | 3/1725 [00:00<01:04, 26.71it/s, loss=0.2517]"
     ]
    },
    {
     "name": "stdout",
     "output_type": "stream",
     "text": [
      "\n",
      "Epoch Summary:\n",
      "\tTrain Loss: 0.2487 | Train Acc: 91.67%\n",
      "\tValid Loss: 0.2491 | Valid Acc: 92.09%\n",
      "\tLearning Rate: 0.000244\n",
      "--------------------------------------------------\n",
      "Epoch 143/160\n"
     ]
    },
    {
     "name": "stderr",
     "output_type": "stream",
     "text": [
      "Training: 100%|██████████| 1725/1725 [00:41<00:00, 41.35it/s, loss=0.2478]\n",
      "Evaluating: 100%|██████████| 150/150 [00:01<00:00, 129.39it/s, loss=0.2455]\n",
      "Training:   0%|          | 2/1725 [00:00<01:33, 18.48it/s, loss=0.2511]"
     ]
    },
    {
     "name": "stdout",
     "output_type": "stream",
     "text": [
      "\n",
      "Epoch Summary:\n",
      "\tTrain Loss: 0.2478 | Train Acc: 91.77%\n",
      "\tValid Loss: 0.2455 | Valid Acc: 92.23%\n",
      "\tLearning Rate: 0.000236\n",
      "--------------------------------------------------\n",
      "Epoch 144/160\n"
     ]
    },
    {
     "name": "stderr",
     "output_type": "stream",
     "text": [
      "Training: 100%|██████████| 1725/1725 [00:41<00:00, 41.23it/s, loss=0.2477]\n",
      "Evaluating: 100%|██████████| 150/150 [00:01<00:00, 127.07it/s, loss=0.2530]\n",
      "Training:   0%|          | 3/1725 [00:00<01:08, 25.31it/s, loss=0.2955]"
     ]
    },
    {
     "name": "stdout",
     "output_type": "stream",
     "text": [
      "\n",
      "Epoch Summary:\n",
      "\tTrain Loss: 0.2477 | Train Acc: 91.71%\n",
      "\tValid Loss: 0.2530 | Valid Acc: 91.79%\n",
      "\tLearning Rate: 0.000226\n",
      "--------------------------------------------------\n",
      "Epoch 145/160\n"
     ]
    },
    {
     "name": "stderr",
     "output_type": "stream",
     "text": [
      "Training: 100%|██████████| 1725/1725 [00:41<00:00, 41.21it/s, loss=0.2448]\n",
      "Evaluating: 100%|██████████| 150/150 [00:01<00:00, 121.78it/s, loss=0.2527]\n",
      "Training:   0%|          | 2/1725 [00:00<01:26, 19.91it/s, loss=0.2096]"
     ]
    },
    {
     "name": "stdout",
     "output_type": "stream",
     "text": [
      "\n",
      "Epoch Summary:\n",
      "\tTrain Loss: 0.2448 | Train Acc: 91.78%\n",
      "\tValid Loss: 0.2527 | Valid Acc: 92.16%\n",
      "\tLearning Rate: 0.000213\n",
      "--------------------------------------------------\n",
      "Epoch 146/160\n"
     ]
    },
    {
     "name": "stderr",
     "output_type": "stream",
     "text": [
      "Training: 100%|██████████| 1725/1725 [00:42<00:00, 41.07it/s, loss=0.2440]\n",
      "Evaluating: 100%|██████████| 150/150 [00:01<00:00, 127.05it/s, loss=0.2462]\n",
      "Training:   0%|          | 2/1725 [00:00<01:40, 17.12it/s, loss=0.2811]"
     ]
    },
    {
     "name": "stdout",
     "output_type": "stream",
     "text": [
      "\n",
      "Epoch Summary:\n",
      "\tTrain Loss: 0.2440 | Train Acc: 91.87%\n",
      "\tValid Loss: 0.2462 | Valid Acc: 92.23%\n",
      "\tLearning Rate: 0.000198\n",
      "--------------------------------------------------\n",
      "Epoch 147/160\n"
     ]
    },
    {
     "name": "stderr",
     "output_type": "stream",
     "text": [
      "Training: 100%|██████████| 1725/1725 [00:41<00:00, 41.34it/s, loss=0.2423]\n",
      "Evaluating: 100%|██████████| 150/150 [00:01<00:00, 127.47it/s, loss=0.2412]\n",
      "Training:   0%|          | 2/1725 [00:00<01:27, 19.63it/s, loss=0.2466]"
     ]
    },
    {
     "name": "stdout",
     "output_type": "stream",
     "text": [
      "\n",
      "Epoch Summary:\n",
      "\tTrain Loss: 0.2423 | Train Acc: 91.90%\n",
      "\tValid Loss: 0.2412 | Valid Acc: 92.34%\n",
      "\tLearning Rate: 0.000182\n",
      "--------------------------------------------------\n",
      "Epoch 148/160\n"
     ]
    },
    {
     "name": "stderr",
     "output_type": "stream",
     "text": [
      "Training: 100%|██████████| 1725/1725 [00:41<00:00, 41.62it/s, loss=0.2429]\n",
      "Evaluating: 100%|██████████| 150/150 [00:01<00:00, 136.13it/s, loss=0.2406]\n",
      "Training:   0%|          | 3/1725 [00:00<01:08, 25.20it/s, loss=0.1928]"
     ]
    },
    {
     "name": "stdout",
     "output_type": "stream",
     "text": [
      "\n",
      "Epoch Summary:\n",
      "\tTrain Loss: 0.2429 | Train Acc: 91.93%\n",
      "\tValid Loss: 0.2406 | Valid Acc: 92.35%\n",
      "\tLearning Rate: 0.000164\n",
      "--------------------------------------------------\n",
      "Epoch 149/160\n"
     ]
    },
    {
     "name": "stderr",
     "output_type": "stream",
     "text": [
      "Training: 100%|██████████| 1725/1725 [00:41<00:00, 41.36it/s, loss=0.2401]\n",
      "Evaluating: 100%|██████████| 150/150 [00:01<00:00, 128.74it/s, loss=0.2464]\n",
      "Training:   0%|          | 4/1725 [00:00<00:44, 38.77it/s, loss=0.2201]"
     ]
    },
    {
     "name": "stdout",
     "output_type": "stream",
     "text": [
      "\n",
      "Epoch Summary:\n",
      "\tTrain Loss: 0.2401 | Train Acc: 91.97%\n",
      "\tValid Loss: 0.2464 | Valid Acc: 92.40%\n",
      "\tLearning Rate: 0.000145\n",
      "--------------------------------------------------\n",
      "Epoch 150/160\n"
     ]
    },
    {
     "name": "stderr",
     "output_type": "stream",
     "text": [
      "Training: 100%|██████████| 1725/1725 [00:41<00:00, 41.58it/s, loss=0.2399]\n",
      "Evaluating: 100%|██████████| 150/150 [00:01<00:00, 132.48it/s, loss=0.2427]\n",
      "Training:   0%|          | 2/1725 [00:00<01:40, 17.15it/s, loss=0.2676]"
     ]
    },
    {
     "name": "stdout",
     "output_type": "stream",
     "text": [
      "\n",
      "Epoch Summary:\n",
      "\tTrain Loss: 0.2399 | Train Acc: 92.00%\n",
      "\tValid Loss: 0.2427 | Valid Acc: 92.42%\n",
      "\tLearning Rate: 0.000125\n",
      "--------------------------------------------------\n",
      "Epoch 151/160\n"
     ]
    },
    {
     "name": "stderr",
     "output_type": "stream",
     "text": [
      "Training: 100%|██████████| 1725/1725 [00:41<00:00, 41.57it/s, loss=0.2371]\n",
      "Evaluating: 100%|██████████| 150/150 [00:01<00:00, 136.07it/s, loss=0.2385]\n"
     ]
    },
    {
     "name": "stdout",
     "output_type": "stream",
     "text": [
      "\n",
      "Epoch Summary:\n",
      "\tTrain Loss: 0.2371 | Train Acc: 92.08%\n",
      "\tValid Loss: 0.2385 | Valid Acc: 92.54%\n",
      "\tLearning Rate: 0.000106\n"
     ]
    },
    {
     "name": "stderr",
     "output_type": "stream",
     "text": [
      "Training:   0%|          | 5/1725 [00:00<00:41, 41.42it/s, loss=0.2049]"
     ]
    },
    {
     "name": "stdout",
     "output_type": "stream",
     "text": [
      "New best model saved to 'runs/adam_from_epoch141/best_model.pth'\n",
      "--------------------------------------------------\n",
      "Epoch 152/160\n"
     ]
    },
    {
     "name": "stderr",
     "output_type": "stream",
     "text": [
      "Training: 100%|██████████| 1725/1725 [00:41<00:00, 41.60it/s, loss=0.2379]\n",
      "Evaluating: 100%|██████████| 150/150 [00:01<00:00, 130.55it/s, loss=0.2441]\n",
      "Training:   0%|          | 4/1725 [00:00<00:44, 38.76it/s, loss=0.2841]"
     ]
    },
    {
     "name": "stdout",
     "output_type": "stream",
     "text": [
      "\n",
      "Epoch Summary:\n",
      "\tTrain Loss: 0.2379 | Train Acc: 92.06%\n",
      "\tValid Loss: 0.2441 | Valid Acc: 92.29%\n",
      "\tLearning Rate: 0.000086\n",
      "--------------------------------------------------\n",
      "Epoch 153/160\n"
     ]
    },
    {
     "name": "stderr",
     "output_type": "stream",
     "text": [
      "Training: 100%|██████████| 1725/1725 [00:41<00:00, 41.60it/s, loss=0.2359]\n",
      "Evaluating: 100%|██████████| 150/150 [00:01<00:00, 130.76it/s, loss=0.2394]\n",
      "Training:   0%|          | 4/1725 [00:00<00:47, 36.51it/s, loss=0.2099]"
     ]
    },
    {
     "name": "stdout",
     "output_type": "stream",
     "text": [
      "\n",
      "Epoch Summary:\n",
      "\tTrain Loss: 0.2359 | Train Acc: 92.05%\n",
      "\tValid Loss: 0.2394 | Valid Acc: 92.39%\n",
      "\tLearning Rate: 0.000068\n",
      "--------------------------------------------------\n",
      "Epoch 154/160\n"
     ]
    },
    {
     "name": "stderr",
     "output_type": "stream",
     "text": [
      "Training: 100%|██████████| 1725/1725 [00:41<00:00, 41.48it/s, loss=0.2354]\n",
      "Evaluating: 100%|██████████| 150/150 [00:01<00:00, 131.66it/s, loss=0.2405]\n",
      "Training:   0%|          | 3/1725 [00:00<01:02, 27.46it/s, loss=0.2422]"
     ]
    },
    {
     "name": "stdout",
     "output_type": "stream",
     "text": [
      "\n",
      "Epoch Summary:\n",
      "\tTrain Loss: 0.2354 | Train Acc: 92.11%\n",
      "\tValid Loss: 0.2405 | Valid Acc: 92.49%\n",
      "\tLearning Rate: 0.000052\n",
      "--------------------------------------------------\n",
      "Epoch 155/160\n"
     ]
    },
    {
     "name": "stderr",
     "output_type": "stream",
     "text": [
      "Training: 100%|██████████| 1725/1725 [00:41<00:00, 41.60it/s, loss=0.2336]\n",
      "Evaluating: 100%|██████████| 150/150 [00:01<00:00, 135.62it/s, loss=0.2408]\n",
      "Training:   0%|          | 5/1725 [00:00<00:37, 46.09it/s, loss=0.2367]"
     ]
    },
    {
     "name": "stdout",
     "output_type": "stream",
     "text": [
      "\n",
      "Epoch Summary:\n",
      "\tTrain Loss: 0.2336 | Train Acc: 92.16%\n",
      "\tValid Loss: 0.2408 | Valid Acc: 92.41%\n",
      "\tLearning Rate: 0.000037\n",
      "--------------------------------------------------\n",
      "Epoch 156/160\n"
     ]
    },
    {
     "name": "stderr",
     "output_type": "stream",
     "text": [
      "Training: 100%|██████████| 1725/1725 [00:41<00:00, 41.52it/s, loss=0.2327]\n",
      "Evaluating: 100%|██████████| 150/150 [00:01<00:00, 128.58it/s, loss=0.2410]\n"
     ]
    },
    {
     "name": "stdout",
     "output_type": "stream",
     "text": [
      "\n",
      "Epoch Summary:\n",
      "\tTrain Loss: 0.2327 | Train Acc: 92.14%\n",
      "\tValid Loss: 0.2410 | Valid Acc: 92.59%\n",
      "\tLearning Rate: 0.000024\n"
     ]
    },
    {
     "name": "stderr",
     "output_type": "stream",
     "text": [
      "Training:   0%|          | 5/1725 [00:00<00:39, 43.01it/s, loss=0.2018]"
     ]
    },
    {
     "name": "stdout",
     "output_type": "stream",
     "text": [
      "New best model saved to 'runs/adam_from_epoch141/best_model.pth'\n",
      "--------------------------------------------------\n",
      "Epoch 157/160\n"
     ]
    },
    {
     "name": "stderr",
     "output_type": "stream",
     "text": [
      "Training: 100%|██████████| 1725/1725 [00:41<00:00, 41.28it/s, loss=0.2350]\n",
      "Evaluating: 100%|██████████| 150/150 [00:01<00:00, 132.62it/s, loss=0.2386]\n"
     ]
    },
    {
     "name": "stdout",
     "output_type": "stream",
     "text": [
      "\n",
      "Epoch Summary:\n",
      "\tTrain Loss: 0.2350 | Train Acc: 92.19%\n",
      "\tValid Loss: 0.2386 | Valid Acc: 92.60%\n",
      "\tLearning Rate: 0.000014\n"
     ]
    },
    {
     "name": "stderr",
     "output_type": "stream",
     "text": [
      "Training:   0%|          | 4/1725 [00:00<00:45, 37.97it/s, loss=0.2791]"
     ]
    },
    {
     "name": "stdout",
     "output_type": "stream",
     "text": [
      "New best model saved to 'runs/adam_from_epoch141/best_model.pth'\n",
      "--------------------------------------------------\n",
      "Epoch 158/160\n"
     ]
    },
    {
     "name": "stderr",
     "output_type": "stream",
     "text": [
      "Training: 100%|██████████| 1725/1725 [00:41<00:00, 41.43it/s, loss=0.2345]\n",
      "Evaluating: 100%|██████████| 150/150 [00:01<00:00, 133.19it/s, loss=0.2385]\n",
      "Training:   0%|          | 3/1725 [00:00<01:05, 26.26it/s, loss=0.1975]"
     ]
    },
    {
     "name": "stdout",
     "output_type": "stream",
     "text": [
      "\n",
      "Epoch Summary:\n",
      "\tTrain Loss: 0.2345 | Train Acc: 92.19%\n",
      "\tValid Loss: 0.2385 | Valid Acc: 92.59%\n",
      "\tLearning Rate: 0.000006\n",
      "--------------------------------------------------\n",
      "Epoch 159/160\n"
     ]
    },
    {
     "name": "stderr",
     "output_type": "stream",
     "text": [
      "Training: 100%|██████████| 1725/1725 [00:41<00:00, 41.70it/s, loss=0.2333]\n",
      "Evaluating: 100%|██████████| 150/150 [00:01<00:00, 135.35it/s, loss=0.2389]\n"
     ]
    },
    {
     "name": "stdout",
     "output_type": "stream",
     "text": [
      "\n",
      "Epoch Summary:\n",
      "\tTrain Loss: 0.2333 | Train Acc: 92.16%\n",
      "\tValid Loss: 0.2389 | Valid Acc: 92.61%\n",
      "\tLearning Rate: 0.000002\n"
     ]
    },
    {
     "name": "stderr",
     "output_type": "stream",
     "text": [
      "Training:   0%|          | 4/1725 [00:00<00:43, 39.39it/s, loss=0.2539]"
     ]
    },
    {
     "name": "stdout",
     "output_type": "stream",
     "text": [
      "New best model saved to 'runs/adam_from_epoch141/best_model.pth'\n",
      "--------------------------------------------------\n",
      "Epoch 160/160\n"
     ]
    },
    {
     "name": "stderr",
     "output_type": "stream",
     "text": [
      "Training: 100%|██████████| 1725/1725 [00:41<00:00, 41.44it/s, loss=0.2329]\n",
      "Evaluating: 100%|██████████| 150/150 [00:01<00:00, 126.92it/s, loss=0.2391]\n"
     ]
    },
    {
     "name": "stdout",
     "output_type": "stream",
     "text": [
      "\n",
      "Epoch Summary:\n",
      "\tTrain Loss: 0.2329 | Train Acc: 92.20%\n",
      "\tValid Loss: 0.2391 | Valid Acc: 92.60%\n",
      "\tLearning Rate: 0.000000\n",
      "--------------------------------------------------\n",
      "Training Finished!\n"
     ]
    }
   ],
   "source": [
    "print(f\"Starting training from epoch {start_epoch}...\")\n",
    "\n",
    "for epoch in range(start_epoch, EPOCHS + 1):\n",
    "    print(\"-\" * 50)\n",
    "    print(f\"Epoch {epoch}/{EPOCHS}\")\n",
    "    \n",
    "    # Run training and validation\n",
    "    train_loss, train_acc = train_epoch(model, train_dataloader, criterion, optimizer, DEVICE)\n",
    "    history['train_loss'].append(train_loss)\n",
    "    history['train_acc'].append(train_acc)\n",
    "    \n",
    "    val_loss, val_acc = evaluate_epoch(model, valid_dataloader, criterion, DEVICE)\n",
    "    history['val_loss'].append(val_loss)\n",
    "    history['val_acc'].append(val_acc)\n",
    "    \n",
    "    scheduler.step()\n",
    "    \n",
    "    # Get current LR to print it\n",
    "    current_lr = optimizer.param_groups[0]['lr']\n",
    "    \n",
    "    # summary\n",
    "    print(f\"\\nEpoch Summary:\")\n",
    "    print(f\"\\tTrain Loss: {train_loss:.4f} | Train Acc: {train_acc*100:.2f}%\")\n",
    "    print(f\"\\tValid Loss: {val_loss:.4f} | Valid Acc: {val_acc*100:.2f}%\")\n",
    "    print(f\"\\tLearning Rate: {current_lr:.6f}\")\n",
    "\n",
    "    # Save best model to the experiment folder\n",
    "    if val_acc > best_val_accuracy:\n",
    "        best_val_accuracy = val_acc\n",
    "        best_model_path = os.path.join(EXPERIMENT_DIR, 'best_model.pth')\n",
    "        torch.save(model.state_dict(), best_model_path)\n",
    "        print(f\"New best model saved to '{best_model_path}'\")\n",
    "\n",
    "print(\"-\" * 50)\n",
    "print(\"Training Finished!\")\n",
    "        \n",
    "        \n",
    "# Save final history to the experiment folder\n",
    "for key, value in history.items():\n",
    "    file_path = os.path.join(METRICS_DIR, f\"{key}.pkl\")\n",
    "    save_list_to_file(value, file_path)"
   ]
  },
  {
   "cell_type": "code",
   "execution_count": null,
   "metadata": {},
   "outputs": [],
   "source": []
  },
  {
   "cell_type": "code",
   "execution_count": 30,
   "metadata": {},
   "outputs": [],
   "source": [
    "current_checkpoint = {\n",
    "    'epoch': epoch,\n",
    "    'model_state_dict': model.state_dict(),\n",
    "    'optimizer_state_dict': optimizer.state_dict(),\n",
    "    'scheduler_state_dict': scheduler.state_dict(),\n",
    "    'history': history,\n",
    "    'best_val_accuracy': best_val_accuracy\n",
    "}\n",
    "\n",
    "torch.save(current_checkpoint, os.path.join(EXPERIMENT_DIR, 'checkpoint.pth'))"
   ]
  },
  {
   "cell_type": "code",
   "execution_count": null,
   "metadata": {},
   "outputs": [],
   "source": []
  },
  {
   "cell_type": "code",
   "execution_count": 31,
   "metadata": {},
   "outputs": [
    {
     "data": {
      "image/png": "[encoded data removed]",
      "text/plain": [
       "<Figure size 1500x500 with 2 Axes>"
      ]
     },
     "metadata": {},
     "output_type": "display_data"
    }
   ],
   "source": [
    "import matplotlib.pyplot as plt\n",
    "\n",
    "train_losses = history['train_loss']\n",
    "train_accuracies = history['train_acc']\n",
    "val_losses = history['val_loss']\n",
    "val_accuracies = history['val_acc']\n",
    "    \n",
    "\n",
    "fig, (ax1, ax2) = plt.subplots(1, 2, figsize=(15, 5))\n",
    "\n",
    "# Plotting Accuracy\n",
    "ax1.plot(train_accuracies, label='Train Accuracy', color='blue')\n",
    "ax1.plot(val_accuracies, label='Validation Accuracy', color='orange')\n",
    "ax1.set_title('Model Accuracy')\n",
    "ax1.set_xlabel('Epochs')\n",
    "ax1.set_ylabel('Accuracy')\n",
    "ax1.legend()\n",
    "ax1.grid(True)\n",
    "\n",
    "# Plotting Loss\n",
    "ax2.plot(train_losses, label='Train Loss', color='blue')\n",
    "ax2.plot(val_losses, label='Validation Loss', color='orange')\n",
    "ax2.set_title('Model Loss')\n",
    "ax2.set_xlabel('Epochs')\n",
    "ax2.set_ylabel('Loss')\n",
    "ax2.legend()\n",
    "ax2.grid(True)\n",
    "\n",
    "plt.show()"
   ]
  },
  {
   "cell_type": "code",
   "execution_count": 32,
   "metadata": {},
   "outputs": [
    {
     "name": "stdout",
     "output_type": "stream",
     "text": [
      "Best model loaded and ready for testing.\n"
     ]
    }
   ],
   "source": [
    "best_model = ClassificationNet(vocab_size=vocab_size, num_class=num_classes).to(DEVICE)\n",
    "best_model.load_state_dict(torch.load('runs/adam_from_epoch141/best_model.pth'))\n",
    "print(\"Best model loaded and ready for testing.\")"
   ]
  },
  {
   "cell_type": "code",
   "execution_count": 33,
   "metadata": {},
   "outputs": [
    {
     "name": "stderr",
     "output_type": "stream",
     "text": [
      "Evaluating: 100%|██████████| 119/119 [00:00<00:00, 172.19it/s, loss=0.3365]\n"
     ]
    }
   ],
   "source": [
    "test_loss, test_acc = evaluate_epoch(best_model, test_dataloader, criterion, DEVICE)"
   ]
  },
  {
   "cell_type": "code",
   "execution_count": 34,
   "metadata": {},
   "outputs": [
    {
     "name": "stdout",
     "output_type": "stream",
     "text": [
      "--------------------------------------------------\n",
      "Final Test Results:\n",
      "\tTest Loss: 0.3365\n",
      "\tTest Accuracy: 90.29%\n",
      "--------------------------------------------------\n"
     ]
    }
   ],
   "source": [
    "print(\"-\" * 50)\n",
    "print(\"Final Test Results:\")\n",
    "print(f\"\\tTest Loss: {test_loss:.4f}\")\n",
    "print(f\"\\tTest Accuracy: {test_acc*100:.2f}%\")\n",
    "print(\"-\" * 50)"
   ]
  },
  {
   "cell_type": "code",
   "execution_count": null,
   "metadata": {},
   "outputs": [],
   "source": []
  }
 ],
 "metadata": {
  "kernelspec": {
   "display_name": "Python 3",
   "language": "python",
   "name": "python3"
  },
  "language_info": {
   "codemirror_mode": {
    "name": "ipython",
    "version": 3
   },
   "file_extension": ".py",
   "mimetype": "text/x-python",
   "name": "python",
   "nbconvert_exporter": "python",
   "pygments_lexer": "ipython3",
   "version": "3.8.10"
  }
 },
 "nbformat": 4,
 "nbformat_minor": 2
}
