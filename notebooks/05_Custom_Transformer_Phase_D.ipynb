{
 "cells": [
  {
   "cell_type": "code",
   "execution_count": 1,
   "metadata": {},
   "outputs": [],
   "source": [
    "# !pip install torch==2.2.2 torchtext==0.17.2 nltk\n",
    "# !pip install torchdata==0.7.1\n",
    "# !pip install pyarrow"
   ]
  },
  {
   "cell_type": "code",
   "execution_count": 1,
   "metadata": {},
   "outputs": [],
   "source": [
    "import torch\n",
    "import os\n",
    "import pickle\n",
    "from model import ClassificationNet, train_epoch, evaluate_epoch, save_list_to_file, load_list_from_file\n",
    "from torch.optim.lr_scheduler import CosineAnnealingLR"
   ]
  },
  {
   "cell_type": "code",
   "execution_count": 2,
   "metadata": {},
   "outputs": [
    {
     "name": "stdout",
     "output_type": "stream",
     "text": [
      "Imported successfully!\n",
      "Running on device: cuda\n",
      "Loading data from Parquet files...\n",
      "Vocabulary Size: 95811\n",
      "\n",
      "Verifying by fetching one batch from train_dataloader...\n",
      "Labels batch shape: torch.Size([64])\n",
      "Texts batch shape: torch.Size([64, 65])\n"
     ]
    }
   ],
   "source": [
    "from dataloader import get_dataloaders, DEVICE\n",
    "\n",
    "print(\"Imported successfully!\")\n",
    "print(f\"Running on device: {DEVICE}\")\n",
    "\n",
    "BATCH_SIZE = 64\n",
    "train_dataloader, valid_dataloader, test_dataloader, vocab = get_dataloaders(batch_size=BATCH_SIZE)\n",
    "\n",
    "# --- Verification Step ---\n",
    "print(\"\\nVerifying by fetching one batch from train_dataloader...\")\n",
    "labels, texts = next(iter(train_dataloader))\n",
    "\n",
    "print(f\"Labels batch shape: {labels.shape}\")\n",
    "print(f\"Texts batch shape: {texts.shape}\")"
   ]
  },
  {
   "cell_type": "code",
   "execution_count": 3,
   "metadata": {},
   "outputs": [],
   "source": [
    "vocab_size = len(vocab)\n",
    "num_classes = 4"
   ]
  },
  {
   "cell_type": "code",
   "execution_count": 4,
   "metadata": {},
   "outputs": [
    {
     "name": "stdout",
     "output_type": "stream",
     "text": [
      "Experiment artifacts will be saved in: runs/adam_from_epoch101\n",
      "Metrics will be saved in: runs/adam_from_epoch101/metrics\n"
     ]
    }
   ],
   "source": [
    "EXPERIMENT_DIR = \"runs/adam_from_epoch101\"\n",
    "METRICS_DIR = os.path.join(EXPERIMENT_DIR, \"metrics\") \n",
    "os.makedirs(EXPERIMENT_DIR, exist_ok=True)\n",
    "os.makedirs(METRICS_DIR, exist_ok=True) \n",
    "\n",
    "print(f\"Experiment artifacts will be saved in: {EXPERIMENT_DIR}\")\n",
    "print(f\"Metrics will be saved in: {METRICS_DIR}\")"
   ]
  },
  {
   "cell_type": "code",
   "execution_count": null,
   "metadata": {},
   "outputs": [],
   "source": []
  },
  {
   "cell_type": "code",
   "execution_count": 5,
   "metadata": {},
   "outputs": [],
   "source": [
    "model = ClassificationNet(vocab_size=vocab_size, num_class=num_classes).to(DEVICE)\n",
    "optimizer = torch.optim.Adam(model.parameters(), lr=0.0001)\n",
    "criterion = torch.nn.CrossEntropyLoss()"
   ]
  },
  {
   "cell_type": "code",
   "execution_count": 6,
   "metadata": {},
   "outputs": [],
   "source": [
    "# define tits parameters after loading the checkpoint\n",
    "scheduler = None"
   ]
  },
  {
   "cell_type": "code",
   "execution_count": 7,
   "metadata": {},
   "outputs": [],
   "source": [
    "start_epoch = 1\n",
    "best_val_accuracy = 0.0\n",
    "history = {'train_loss': [], 'train_acc': [], 'val_loss': [], 'val_acc': []}"
   ]
  },
  {
   "cell_type": "code",
   "execution_count": 8,
   "metadata": {},
   "outputs": [],
   "source": [
    "BASE_CHECKPOINT_PATH = 'runs/adam_from_epoch71/checkpoint.pth'"
   ]
  },
  {
   "cell_type": "code",
   "execution_count": 10,
   "metadata": {},
   "outputs": [
    {
     "name": "stdout",
     "output_type": "stream",
     "text": [
      "Found base checkpoint. Initializing model with weights from 'runs/adam_from_epoch71/checkpoint.pth'...\n",
      "Resetting learning rate to 0.00075 for the new schedule...\n"
     ]
    }
   ],
   "source": [
    "if os.path.exists(BASE_CHECKPOINT_PATH):\n",
    "    print(f\"Found base checkpoint. Initializing model with weights from '{BASE_CHECKPOINT_PATH}'...\")\n",
    "    checkpoint = torch.load(BASE_CHECKPOINT_PATH)\n",
    "    \n",
    "    model.load_state_dict(checkpoint['model_state_dict']) # Load weights only\n",
    "    optimizer.load_state_dict(checkpoint['optimizer_state_dict'])\n",
    "    \n",
    "    print(\"Resetting learning rate to 0.00075 for the new schedule...\")\n",
    "    for param_group in optimizer.param_groups:\n",
    "        param_group['lr'] = 0.00075\n",
    "        \n",
    "    start_epoch = checkpoint['epoch'] + 1\n",
    "    history = checkpoint['history']                       # Continue history\n",
    "    best_val_accuracy = checkpoint['best_val_accuracy']\n",
    "    \n",
    "else:\n",
    "    print(\"No checkpoints found. Starting a completely new training run.\")"
   ]
  },
  {
   "cell_type": "code",
   "execution_count": 11,
   "metadata": {},
   "outputs": [
    {
     "data": {
      "text/plain": [
       "101"
      ]
     },
     "execution_count": 11,
     "metadata": {},
     "output_type": "execute_result"
    }
   ],
   "source": [
    "start_epoch"
   ]
  },
  {
   "cell_type": "code",
   "execution_count": 12,
   "metadata": {},
   "outputs": [],
   "source": [
    "EPOCHS = 120\n",
    "\n",
    "remaining_epochs = EPOCHS - start_epoch + 1\n",
    "scheduler = CosineAnnealingLR(optimizer, T_max=remaining_epochs, eta_min=1e-7)"
   ]
  },
  {
   "cell_type": "code",
   "execution_count": 13,
   "metadata": {},
   "outputs": [
    {
     "data": {
      "text/plain": [
       "20"
      ]
     },
     "execution_count": 13,
     "metadata": {},
     "output_type": "execute_result"
    }
   ],
   "source": [
    "remaining_epochs"
   ]
  },
  {
   "cell_type": "code",
   "execution_count": 14,
   "metadata": {},
   "outputs": [
    {
     "data": {
      "text/plain": [
       "0.00075"
      ]
     },
     "execution_count": 14,
     "metadata": {},
     "output_type": "execute_result"
    }
   ],
   "source": [
    "optimizer.param_groups[0]['lr']"
   ]
  },
  {
   "cell_type": "code",
   "execution_count": 15,
   "metadata": {
    "scrolled": true
   },
   "outputs": [
    {
     "name": "stderr",
     "output_type": "stream",
     "text": [
      "\r",
      "Training:   0%|          | 0/1725 [00:00<?, ?it/s]"
     ]
    },
    {
     "name": "stdout",
     "output_type": "stream",
     "text": [
      "Starting training from epoch 101...\n",
      "--------------------------------------------------\n",
      "Epoch 101/120\n"
     ]
    },
    {
     "name": "stderr",
     "output_type": "stream",
     "text": [
      "Training: 100%|██████████| 1725/1725 [00:41<00:00, 41.08it/s, loss=0.3017]\n",
      "Evaluating: 100%|██████████| 150/150 [00:01<00:00, 139.14it/s, loss=0.3062]\n"
     ]
    },
    {
     "name": "stdout",
     "output_type": "stream",
     "text": [
      "\n",
      "Epoch Summary:\n",
      "\tTrain Loss: 0.3017 | Train Acc: 89.79%\n",
      "\tValid Loss: 0.3062 | Valid Acc: 90.79%\n",
      "\tLearning Rate: 0.000745\n"
     ]
    },
    {
     "name": "stderr",
     "output_type": "stream",
     "text": [
      "Training:   0%|          | 4/1725 [00:00<00:49, 34.57it/s, loss=0.2568]"
     ]
    },
    {
     "name": "stdout",
     "output_type": "stream",
     "text": [
      "New best model saved to 'runs/adam_from_epoch101/best_model.pth'\n",
      "--------------------------------------------------\n",
      "Epoch 102/120\n"
     ]
    },
    {
     "name": "stderr",
     "output_type": "stream",
     "text": [
      "Training: 100%|██████████| 1725/1725 [00:41<00:00, 41.37it/s, loss=0.3089]\n",
      "Evaluating: 100%|██████████| 150/150 [00:01<00:00, 131.02it/s, loss=0.3152]\n",
      "Training:   0%|          | 4/1725 [00:00<00:44, 38.83it/s, loss=0.2686]"
     ]
    },
    {
     "name": "stdout",
     "output_type": "stream",
     "text": [
      "\n",
      "Epoch Summary:\n",
      "\tTrain Loss: 0.3089 | Train Acc: 89.64%\n",
      "\tValid Loss: 0.3152 | Valid Acc: 90.19%\n",
      "\tLearning Rate: 0.000732\n",
      "--------------------------------------------------\n",
      "Epoch 103/120\n"
     ]
    },
    {
     "name": "stderr",
     "output_type": "stream",
     "text": [
      "Training: 100%|██████████| 1725/1725 [00:41<00:00, 41.43it/s, loss=0.3098]\n",
      "Evaluating: 100%|██████████| 150/150 [00:01<00:00, 134.67it/s, loss=0.2976]\n",
      "Training:   0%|          | 2/1725 [00:00<01:30, 19.00it/s, loss=0.3527]"
     ]
    },
    {
     "name": "stdout",
     "output_type": "stream",
     "text": [
      "\n",
      "Epoch Summary:\n",
      "\tTrain Loss: 0.3098 | Train Acc: 89.50%\n",
      "\tValid Loss: 0.2976 | Valid Acc: 90.79%\n",
      "\tLearning Rate: 0.000709\n",
      "--------------------------------------------------\n",
      "Epoch 104/120\n"
     ]
    },
    {
     "name": "stderr",
     "output_type": "stream",
     "text": [
      "Training: 100%|██████████| 1725/1725 [00:41<00:00, 41.53it/s, loss=0.3122]\n",
      "Evaluating: 100%|██████████| 150/150 [00:01<00:00, 135.82it/s, loss=0.3236]\n",
      "Training:   0%|          | 4/1725 [00:00<00:45, 37.53it/s, loss=0.3753]"
     ]
    },
    {
     "name": "stdout",
     "output_type": "stream",
     "text": [
      "\n",
      "Epoch Summary:\n",
      "\tTrain Loss: 0.3122 | Train Acc: 89.51%\n",
      "\tValid Loss: 0.3236 | Valid Acc: 89.86%\n",
      "\tLearning Rate: 0.000678\n",
      "--------------------------------------------------\n",
      "Epoch 105/120\n"
     ]
    },
    {
     "name": "stderr",
     "output_type": "stream",
     "text": [
      "Training: 100%|██████████| 1725/1725 [00:41<00:00, 41.53it/s, loss=0.3089]\n",
      "Evaluating: 100%|██████████| 150/150 [00:01<00:00, 131.41it/s, loss=0.3214]\n",
      "Training:   0%|          | 4/1725 [00:00<00:45, 38.21it/s, loss=0.3181]"
     ]
    },
    {
     "name": "stdout",
     "output_type": "stream",
     "text": [
      "\n",
      "Epoch Summary:\n",
      "\tTrain Loss: 0.3089 | Train Acc: 89.60%\n",
      "\tValid Loss: 0.3214 | Valid Acc: 90.17%\n",
      "\tLearning Rate: 0.000640\n",
      "--------------------------------------------------\n",
      "Epoch 106/120\n"
     ]
    },
    {
     "name": "stderr",
     "output_type": "stream",
     "text": [
      "Training: 100%|██████████| 1725/1725 [00:41<00:00, 41.38it/s, loss=0.3011]\n",
      "Evaluating: 100%|██████████| 150/150 [00:01<00:00, 137.64it/s, loss=0.3192]\n",
      "Training:   0%|          | 3/1725 [00:00<01:01, 27.83it/s, loss=0.3187]"
     ]
    },
    {
     "name": "stdout",
     "output_type": "stream",
     "text": [
      "\n",
      "Epoch Summary:\n",
      "\tTrain Loss: 0.3011 | Train Acc: 89.91%\n",
      "\tValid Loss: 0.3192 | Valid Acc: 90.27%\n",
      "\tLearning Rate: 0.000545\n",
      "--------------------------------------------------\n",
      "Epoch 108/120\n"
     ]
    },
    {
     "name": "stderr",
     "output_type": "stream",
     "text": [
      "Training:  81%|████████▏ | 1403/1725 [00:34<00:07, 41.29it/s, loss=0.2958]IOPub message rate exceeded.\n",
      "The notebook server will temporarily stop sending output\n",
      "to the client in order to avoid crashing it.\n",
      "To change this limit, set the config variable\n",
      "`--NotebookApp.iopub_msg_rate_limit`.\n",
      "\n",
      "Current values:\n",
      "NotebookApp.iopub_msg_rate_limit=1000.0 (msgs/sec)\n",
      "NotebookApp.rate_limit_window=3.0 (secs)\n",
      "\n",
      "Training: 100%|██████████| 1725/1725 [00:41<00:00, 41.48it/s, loss=0.2861]\n",
      "Evaluating: 100%|██████████| 150/150 [00:01<00:00, 140.19it/s, loss=0.3080]\n",
      "Training:   0%|          | 4/1725 [00:00<00:48, 35.77it/s, loss=0.2521]"
     ]
    },
    {
     "name": "stdout",
     "output_type": "stream",
     "text": [
      "\n",
      "Epoch Summary:\n",
      "\tTrain Loss: 0.2861 | Train Acc: 90.42%\n",
      "\tValid Loss: 0.3080 | Valid Acc: 90.77%\n",
      "\tLearning Rate: 0.000375\n",
      "--------------------------------------------------\n",
      "Epoch 111/120\n"
     ]
    },
    {
     "name": "stderr",
     "output_type": "stream",
     "text": [
      "Training: 100%|██████████| 1725/1725 [00:41<00:00, 41.44it/s, loss=0.2805]\n",
      "Evaluating: 100%|██████████| 150/150 [00:01<00:00, 140.96it/s, loss=0.3004]\n"
     ]
    },
    {
     "name": "stdout",
     "output_type": "stream",
     "text": [
      "\n",
      "Epoch Summary:\n",
      "\tTrain Loss: 0.2805 | Train Acc: 90.61%\n",
      "\tValid Loss: 0.3004 | Valid Acc: 91.15%\n",
      "\tLearning Rate: 0.000316\n"
     ]
    },
    {
     "name": "stderr",
     "output_type": "stream",
     "text": [
      "Training:   0%|          | 3/1725 [00:00<00:58, 29.57it/s, loss=0.2085]"
     ]
    },
    {
     "name": "stdout",
     "output_type": "stream",
     "text": [
      "New best model saved to 'runs/adam_from_epoch101/best_model.pth'\n",
      "--------------------------------------------------\n",
      "Epoch 112/120\n"
     ]
    },
    {
     "name": "stderr",
     "output_type": "stream",
     "text": [
      "Training: 100%|██████████| 1725/1725 [00:41<00:00, 41.38it/s, loss=0.2757]\n",
      "Evaluating: 100%|██████████| 150/150 [00:01<00:00, 126.71it/s, loss=0.2945]\n"
     ]
    },
    {
     "name": "stdout",
     "output_type": "stream",
     "text": [
      "\n",
      "Epoch Summary:\n",
      "\tTrain Loss: 0.2757 | Train Acc: 90.81%\n",
      "\tValid Loss: 0.2945 | Valid Acc: 91.23%\n",
      "\tLearning Rate: 0.000259\n"
     ]
    },
    {
     "name": "stderr",
     "output_type": "stream",
     "text": [
      "Training:   0%|          | 3/1725 [00:00<01:03, 27.27it/s, loss=0.2310]"
     ]
    },
    {
     "name": "stdout",
     "output_type": "stream",
     "text": [
      "New best model saved to 'runs/adam_from_epoch101/best_model.pth'\n",
      "--------------------------------------------------\n",
      "Epoch 113/120\n"
     ]
    },
    {
     "name": "stderr",
     "output_type": "stream",
     "text": [
      "Training: 100%|██████████| 1725/1725 [00:41<00:00, 41.32it/s, loss=0.2723]\n",
      "Evaluating: 100%|██████████| 150/150 [00:01<00:00, 131.93it/s, loss=0.2883]\n"
     ]
    },
    {
     "name": "stdout",
     "output_type": "stream",
     "text": [
      "\n",
      "Epoch Summary:\n",
      "\tTrain Loss: 0.2723 | Train Acc: 90.88%\n",
      "\tValid Loss: 0.2883 | Valid Acc: 91.43%\n",
      "\tLearning Rate: 0.000205\n"
     ]
    },
    {
     "name": "stderr",
     "output_type": "stream",
     "text": [
      "Training:   0%|          | 5/1725 [00:00<00:40, 42.91it/s, loss=0.2461]"
     ]
    },
    {
     "name": "stdout",
     "output_type": "stream",
     "text": [
      "New best model saved to 'runs/adam_from_epoch101/best_model.pth'\n",
      "--------------------------------------------------\n",
      "Epoch 114/120\n"
     ]
    },
    {
     "name": "stderr",
     "output_type": "stream",
     "text": [
      "Training: 100%|██████████| 1725/1725 [00:41<00:00, 41.38it/s, loss=0.2699]\n",
      "Evaluating: 100%|██████████| 150/150 [00:01<00:00, 132.18it/s, loss=0.2895]\n",
      "Training:   0%|          | 3/1725 [00:00<01:08, 25.31it/s, loss=0.2987]"
     ]
    },
    {
     "name": "stdout",
     "output_type": "stream",
     "text": [
      "\n",
      "Epoch Summary:\n",
      "\tTrain Loss: 0.2699 | Train Acc: 91.04%\n",
      "\tValid Loss: 0.2895 | Valid Acc: 91.22%\n",
      "\tLearning Rate: 0.000155\n",
      "--------------------------------------------------\n",
      "Epoch 115/120\n"
     ]
    },
    {
     "name": "stderr",
     "output_type": "stream",
     "text": [
      "Training: 100%|██████████| 1725/1725 [00:41<00:00, 41.40it/s, loss=0.2679]\n",
      "Evaluating: 100%|██████████| 150/150 [00:01<00:00, 130.37it/s, loss=0.2916]\n",
      "Training:   0%|          | 4/1725 [00:00<00:45, 38.22it/s, loss=0.2730]"
     ]
    },
    {
     "name": "stdout",
     "output_type": "stream",
     "text": [
      "\n",
      "Epoch Summary:\n",
      "\tTrain Loss: 0.2679 | Train Acc: 91.02%\n",
      "\tValid Loss: 0.2916 | Valid Acc: 91.32%\n",
      "\tLearning Rate: 0.000110\n",
      "--------------------------------------------------\n",
      "Epoch 116/120\n"
     ]
    },
    {
     "name": "stderr",
     "output_type": "stream",
     "text": [
      "Training: 100%|██████████| 1725/1725 [00:41<00:00, 41.20it/s, loss=0.2642]\n",
      "Evaluating: 100%|██████████| 150/150 [00:01<00:00, 139.07it/s, loss=0.2949]\n",
      "Training:   0%|          | 4/1725 [00:00<00:44, 39.02it/s, loss=0.2518]"
     ]
    },
    {
     "name": "stdout",
     "output_type": "stream",
     "text": [
      "\n",
      "Epoch Summary:\n",
      "\tTrain Loss: 0.2642 | Train Acc: 91.25%\n",
      "\tValid Loss: 0.2949 | Valid Acc: 91.17%\n",
      "\tLearning Rate: 0.000072\n",
      "--------------------------------------------------\n",
      "Epoch 117/120\n"
     ]
    },
    {
     "name": "stderr",
     "output_type": "stream",
     "text": [
      "Training: 100%|██████████| 1725/1725 [00:41<00:00, 41.51it/s, loss=0.2626]\n",
      "Evaluating: 100%|██████████| 150/150 [00:01<00:00, 131.73it/s, loss=0.2920]\n",
      "Training:   0%|          | 4/1725 [00:00<00:43, 39.31it/s, loss=0.2304]"
     ]
    },
    {
     "name": "stdout",
     "output_type": "stream",
     "text": [
      "\n",
      "Epoch Summary:\n",
      "\tTrain Loss: 0.2626 | Train Acc: 91.25%\n",
      "\tValid Loss: 0.2920 | Valid Acc: 91.34%\n",
      "\tLearning Rate: 0.000041\n",
      "--------------------------------------------------\n",
      "Epoch 118/120\n"
     ]
    },
    {
     "name": "stderr",
     "output_type": "stream",
     "text": [
      "Training: 100%|██████████| 1725/1725 [00:41<00:00, 41.35it/s, loss=0.2627]\n",
      "Evaluating: 100%|██████████| 150/150 [00:01<00:00, 134.02it/s, loss=0.2921]\n",
      "Training:   0%|          | 3/1725 [00:00<01:05, 26.36it/s, loss=0.2952]"
     ]
    },
    {
     "name": "stdout",
     "output_type": "stream",
     "text": [
      "\n",
      "Epoch Summary:\n",
      "\tTrain Loss: 0.2627 | Train Acc: 91.11%\n",
      "\tValid Loss: 0.2921 | Valid Acc: 91.23%\n",
      "\tLearning Rate: 0.000018\n",
      "--------------------------------------------------\n",
      "Epoch 119/120\n"
     ]
    },
    {
     "name": "stderr",
     "output_type": "stream",
     "text": [
      "Training: 100%|██████████| 1725/1725 [00:41<00:00, 41.18it/s, loss=0.2608]\n",
      "Evaluating: 100%|██████████| 150/150 [00:01<00:00, 127.76it/s, loss=0.2917]\n",
      "Training:   0%|          | 3/1725 [00:00<01:00, 28.39it/s, loss=0.2743]"
     ]
    },
    {
     "name": "stdout",
     "output_type": "stream",
     "text": [
      "\n",
      "Epoch Summary:\n",
      "\tTrain Loss: 0.2608 | Train Acc: 91.29%\n",
      "\tValid Loss: 0.2917 | Valid Acc: 91.26%\n",
      "\tLearning Rate: 0.000005\n",
      "--------------------------------------------------\n",
      "Epoch 120/120\n"
     ]
    },
    {
     "name": "stderr",
     "output_type": "stream",
     "text": [
      "Training: 100%|██████████| 1725/1725 [00:41<00:00, 41.34it/s, loss=0.2603]\n",
      "Evaluating: 100%|██████████| 150/150 [00:01<00:00, 125.32it/s, loss=0.2914]\n"
     ]
    },
    {
     "name": "stdout",
     "output_type": "stream",
     "text": [
      "\n",
      "Epoch Summary:\n",
      "\tTrain Loss: 0.2603 | Train Acc: 91.35%\n",
      "\tValid Loss: 0.2914 | Valid Acc: 91.28%\n",
      "\tLearning Rate: 0.000000\n",
      "--------------------------------------------------\n",
      "Training Finished!\n"
     ]
    }
   ],
   "source": [
    "print(f\"Starting training from epoch {start_epoch}...\")\n",
    "\n",
    "for epoch in range(start_epoch, EPOCHS + 1):\n",
    "    print(\"-\" * 50)\n",
    "    print(f\"Epoch {epoch}/{EPOCHS}\")\n",
    "    \n",
    "    # Run training and validation\n",
    "    train_loss, train_acc = train_epoch(model, train_dataloader, criterion, optimizer, DEVICE)\n",
    "    history['train_loss'].append(train_loss)\n",
    "    history['train_acc'].append(train_acc)\n",
    "    \n",
    "    val_loss, val_acc = evaluate_epoch(model, valid_dataloader, criterion, DEVICE)\n",
    "    history['val_loss'].append(val_loss)\n",
    "    history['val_acc'].append(val_acc)\n",
    "    \n",
    "    scheduler.step()\n",
    "    \n",
    "    # Get current LR to print it\n",
    "    current_lr = optimizer.param_groups[0]['lr']\n",
    "    \n",
    "    # summary\n",
    "    print(f\"\\nEpoch Summary:\")\n",
    "    print(f\"\\tTrain Loss: {train_loss:.4f} | Train Acc: {train_acc*100:.2f}%\")\n",
    "    print(f\"\\tValid Loss: {val_loss:.4f} | Valid Acc: {val_acc*100:.2f}%\")\n",
    "    print(f\"\\tLearning Rate: {current_lr:.6f}\")\n",
    "\n",
    "    # Save best model to the experiment folder\n",
    "    if val_acc > best_val_accuracy:\n",
    "        best_val_accuracy = val_acc\n",
    "        best_model_path = os.path.join(EXPERIMENT_DIR, 'best_model.pth')\n",
    "        torch.save(model.state_dict(), best_model_path)\n",
    "        print(f\"New best model saved to '{best_model_path}'\")\n",
    "\n",
    "print(\"-\" * 50)\n",
    "print(\"Training Finished!\")\n",
    "        \n",
    "        \n",
    "# Save final history to the experiment folder\n",
    "for key, value in history.items():\n",
    "    file_path = os.path.join(METRICS_DIR, f\"{key}.pkl\")\n",
    "    save_list_to_file(value, file_path)"
   ]
  },
  {
   "cell_type": "code",
   "execution_count": null,
   "metadata": {},
   "outputs": [],
   "source": []
  },
  {
   "cell_type": "code",
   "execution_count": 16,
   "metadata": {},
   "outputs": [],
   "source": [
    "current_checkpoint = {\n",
    "    'epoch': epoch,\n",
    "    'model_state_dict': model.state_dict(),\n",
    "    'optimizer_state_dict': optimizer.state_dict(),\n",
    "    'scheduler_state_dict': scheduler.state_dict(),\n",
    "    'history': history,\n",
    "    'best_val_accuracy': best_val_accuracy\n",
    "}\n",
    "\n",
    "torch.save(current_checkpoint, os.path.join(EXPERIMENT_DIR, 'checkpoint.pth'))"
   ]
  },
  {
   "cell_type": "code",
   "execution_count": null,
   "metadata": {},
   "outputs": [],
   "source": []
  },
  {
   "cell_type": "code",
   "execution_count": 17,
   "metadata": {},
   "outputs": [
    {
     "data": {
      "image/png": "[encoded data removed]",
      "text/plain": [
       "<Figure size 1500x500 with 2 Axes>"
      ]
     },
     "metadata": {},
     "output_type": "display_data"
    }
   ],
   "source": [
    "import matplotlib.pyplot as plt\n",
    "\n",
    "train_losses = history['train_loss']\n",
    "train_accuracies = history['train_acc']\n",
    "val_losses = history['val_loss']\n",
    "val_accuracies = history['val_acc']\n",
    "    \n",
    "\n",
    "fig, (ax1, ax2) = plt.subplots(1, 2, figsize=(15, 5))\n",
    "\n",
    "# Plotting Accuracy\n",
    "ax1.plot(train_accuracies, label='Train Accuracy', color='blue')\n",
    "ax1.plot(val_accuracies, label='Validation Accuracy', color='orange')\n",
    "ax1.set_title('Model Accuracy')\n",
    "ax1.set_xlabel('Epochs')\n",
    "ax1.set_ylabel('Accuracy')\n",
    "ax1.legend()\n",
    "ax1.grid(True)\n",
    "\n",
    "# Plotting Loss\n",
    "ax2.plot(train_losses, label='Train Loss', color='blue')\n",
    "ax2.plot(val_losses, label='Validation Loss', color='orange')\n",
    "ax2.set_title('Model Loss')\n",
    "ax2.set_xlabel('Epochs')\n",
    "ax2.set_ylabel('Loss')\n",
    "ax2.legend()\n",
    "ax2.grid(True)\n",
    "\n",
    "plt.show()"
   ]
  },
  {
   "cell_type": "code",
   "execution_count": 18,
   "metadata": {},
   "outputs": [
    {
     "name": "stdout",
     "output_type": "stream",
     "text": [
      "Best model loaded and ready for testing.\n"
     ]
    }
   ],
   "source": [
    "best_model = ClassificationNet(vocab_size=vocab_size, num_class=num_classes).to(DEVICE)\n",
    "best_model.load_state_dict(torch.load('runs/adam_from_epoch101/best_model.pth'))\n",
    "print(\"Best model loaded and ready for testing.\")"
   ]
  },
  {
   "cell_type": "code",
   "execution_count": 19,
   "metadata": {},
   "outputs": [
    {
     "name": "stderr",
     "output_type": "stream",
     "text": [
      "Evaluating: 100%|██████████| 119/119 [00:00<00:00, 170.55it/s, loss=0.3435]\n"
     ]
    }
   ],
   "source": [
    "test_loss, test_acc = evaluate_epoch(best_model, test_dataloader, criterion, DEVICE)"
   ]
  },
  {
   "cell_type": "code",
   "execution_count": 20,
   "metadata": {},
   "outputs": [
    {
     "name": "stdout",
     "output_type": "stream",
     "text": [
      "--------------------------------------------------\n",
      "Final Test Results:\n",
      "\tTest Loss: 0.3435\n",
      "\tTest Accuracy: 89.99%\n",
      "--------------------------------------------------\n"
     ]
    }
   ],
   "source": [
    "print(\"-\" * 50)\n",
    "print(\"Final Test Results:\")\n",
    "print(f\"\\tTest Loss: {test_loss:.4f}\")\n",
    "print(f\"\\tTest Accuracy: {test_acc*100:.2f}%\")\n",
    "print(\"-\" * 50)"
   ]
  },
  {
   "cell_type": "code",
   "execution_count": null,
   "metadata": {},
   "outputs": [],
   "source": []
  }
 ],
 "metadata": {
  "kernelspec": {
   "display_name": "Python 3",
   "language": "python",
   "name": "python3"
  },
  "language_info": {
   "codemirror_mode": {
    "name": "ipython",
    "version": 3
   },
   "file_extension": ".py",
   "mimetype": "text/x-python",
   "name": "python",
   "nbconvert_exporter": "python",
   "pygments_lexer": "ipython3",
   "version": "3.8.10"
  }
 },
 "nbformat": 4,
 "nbformat_minor": 2
}
