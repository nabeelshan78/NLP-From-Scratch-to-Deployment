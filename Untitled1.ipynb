{
 "cells": [
  {
   "cell_type": "code",
   "execution_count": 1,
   "metadata": {},
   "outputs": [],
   "source": [
    "# !pip install torch==2.2.2 torchtext==0.17.2 nltk\n",
    "# !pip install torchdata==0.7.1\n",
    "# !pip install pyarrow"
   ]
  },
  {
   "cell_type": "code",
   "execution_count": 2,
   "metadata": {},
   "outputs": [],
   "source": [
    "import torch\n",
    "import os\n",
    "import pickle\n",
    "from model import ClassificationNet, train_epoch, evaluate_epoch, save_list_to_file, load_list_from_file"
   ]
  },
  {
   "cell_type": "code",
   "execution_count": 3,
   "metadata": {},
   "outputs": [
    {
     "name": "stdout",
     "output_type": "stream",
     "text": [
      "Imported successfully!\n",
      "Running on device: cuda\n",
      "Loading data from Parquet files...\n",
      "Vocabulary Size: 95811\n",
      "\n",
      "Verifying by fetching one batch from train_dataloader...\n",
      "Labels batch shape: torch.Size([64])\n",
      "Texts batch shape: torch.Size([64, 72])\n"
     ]
    }
   ],
   "source": [
    "from dataloader import get_dataloaders, DEVICE\n",
    "\n",
    "print(\"Imported successfully!\")\n",
    "print(f\"Running on device: {DEVICE}\")\n",
    "\n",
    "BATCH_SIZE = 64\n",
    "train_dataloader, valid_dataloader, test_dataloader, vocab = get_dataloaders(batch_size=BATCH_SIZE)\n",
    "\n",
    "# --- Verification Step ---\n",
    "print(\"\\nVerifying by fetching one batch from train_dataloader...\")\n",
    "labels, texts = next(iter(train_dataloader))\n",
    "\n",
    "print(f\"Labels batch shape: {labels.shape}\")\n",
    "print(f\"Texts batch shape: {texts.shape}\")"
   ]
  },
  {
   "cell_type": "code",
   "execution_count": 4,
   "metadata": {},
   "outputs": [],
   "source": [
    "vocab_size = len(vocab)\n",
    "num_classes = 4"
   ]
  },
  {
   "cell_type": "code",
   "execution_count": 5,
   "metadata": {},
   "outputs": [
    {
     "name": "stdout",
     "output_type": "stream",
     "text": [
      "Experiment artifacts will be saved in: runs/adam_from_epoch71\n",
      "Metrics will be saved in: runs/adam_from_epoch71/metrics\n"
     ]
    }
   ],
   "source": [
    "EXPERIMENT_DIR = \"runs/adam_from_epoch71\"\n",
    "METRICS_DIR = os.path.join(EXPERIMENT_DIR, \"metrics\") \n",
    "os.makedirs(EXPERIMENT_DIR, exist_ok=True)\n",
    "os.makedirs(METRICS_DIR, exist_ok=True) \n",
    "\n",
    "print(f\"Experiment artifacts will be saved in: {EXPERIMENT_DIR}\")\n",
    "print(f\"Metrics will be saved in: {METRICS_DIR}\")"
   ]
  },
  {
   "cell_type": "code",
   "execution_count": null,
   "metadata": {},
   "outputs": [],
   "source": []
  },
  {
   "cell_type": "code",
   "execution_count": 6,
   "metadata": {},
   "outputs": [],
   "source": [
    "model = ClassificationNet(vocab_size=vocab_size, num_class=num_classes).to(DEVICE)\n",
    "optimizer = torch.optim.Adam(model.parameters(), lr=0.001)\n",
    "criterion = torch.nn.CrossEntropyLoss()\n",
    "scheduler = torch.optim.lr_scheduler.StepLR(optimizer, step_size=4, gamma=0.1)"
   ]
  },
  {
   "cell_type": "code",
   "execution_count": null,
   "metadata": {},
   "outputs": [],
   "source": []
  },
  {
   "cell_type": "code",
   "execution_count": 7,
   "metadata": {},
   "outputs": [],
   "source": [
    "start_epoch = 1\n",
    "best_val_accuracy = 0.0\n",
    "history = {'train_loss': [], 'train_acc': [], 'val_loss': [], 'val_acc': []}"
   ]
  },
  {
   "cell_type": "code",
   "execution_count": 8,
   "metadata": {},
   "outputs": [],
   "source": [
    "BASE_CHECKPOINT_PATH = 'runs/adam_from_epoch51/checkpoint.pth'"
   ]
  },
  {
   "cell_type": "code",
   "execution_count": 9,
   "metadata": {},
   "outputs": [
    {
     "name": "stdout",
     "output_type": "stream",
     "text": [
      "Found base checkpoint. Initializing model with weights from 'runs/adam_from_epoch51/checkpoint.pth'...\n"
     ]
    }
   ],
   "source": [
    "if os.path.exists(BASE_CHECKPOINT_PATH):\n",
    "    print(f\"Found base checkpoint. Initializing model with weights from '{BASE_CHECKPOINT_PATH}'...\")\n",
    "    checkpoint = torch.load(BASE_CHECKPOINT_PATH)\n",
    "    model.load_state_dict(checkpoint['model_state_dict']) # Load weights only\n",
    "    optimizer.load_state_dict(checkpoint['optimizer_state_dict'])\n",
    "    \n",
    "    if 'scheduler_state_dict' in checkpoint:\n",
    "        scheduler.load_state_dict(checkpoint['scheduler_state_dict'])\n",
    "        print(\"Scheduler state loaded.\")\n",
    "        \n",
    "    start_epoch = checkpoint['epoch'] + 1\n",
    "    history = checkpoint['history']                       # Continue history\n",
    "    best_val_accuracy = checkpoint['best_val_accuracy']\n",
    "else:\n",
    "    print(\"No checkpoints found. Starting a completely new training run.\")"
   ]
  },
  {
   "cell_type": "code",
   "execution_count": 10,
   "metadata": {
    "scrolled": true
   },
   "outputs": [
    {
     "name": "stderr",
     "output_type": "stream",
     "text": [
      "\r",
      "Training:   0%|          | 0/1725 [00:00<?, ?it/s]"
     ]
    },
    {
     "name": "stdout",
     "output_type": "stream",
     "text": [
      "Starting training from epoch 71...\n",
      "--------------------------------------------------\n",
      "Epoch 71/90\n"
     ]
    },
    {
     "name": "stderr",
     "output_type": "stream",
     "text": [
      "Training: 100%|██████████| 1725/1725 [00:42<00:00, 40.40it/s, loss=0.4482]\n",
      "Evaluating: 100%|██████████| 150/150 [00:01<00:00, 127.30it/s, loss=0.4059]\n"
     ]
    },
    {
     "name": "stdout",
     "output_type": "stream",
     "text": [
      "\n",
      "Epoch Summary:\n",
      "\tTrain Loss: 0.4482 | Train Acc: 84.59%\n",
      "\tValid Loss: 0.4059 | Valid Acc: 87.05%\n",
      "\tLearning Rate: 0.001000\n"
     ]
    },
    {
     "name": "stderr",
     "output_type": "stream",
     "text": [
      "Training:   0%|          | 5/1725 [00:00<00:41, 41.72it/s, loss=0.3902]"
     ]
    },
    {
     "name": "stdout",
     "output_type": "stream",
     "text": [
      "New best model saved to 'runs/adam_from_epoch71/best_model.pth'\n",
      "--------------------------------------------------\n",
      "Epoch 72/90\n"
     ]
    },
    {
     "name": "stderr",
     "output_type": "stream",
     "text": [
      "Training: 100%|██████████| 1725/1725 [00:41<00:00, 41.63it/s, loss=0.4442]\n",
      "Evaluating: 100%|██████████| 150/150 [00:01<00:00, 130.68it/s, loss=0.4310]\n",
      "Training:   0%|          | 4/1725 [00:00<00:45, 37.87it/s, loss=0.4421]"
     ]
    },
    {
     "name": "stdout",
     "output_type": "stream",
     "text": [
      "\n",
      "Epoch Summary:\n",
      "\tTrain Loss: 0.4442 | Train Acc: 84.62%\n",
      "\tValid Loss: 0.4310 | Valid Acc: 86.85%\n",
      "\tLearning Rate: 0.001000\n",
      "--------------------------------------------------\n",
      "Epoch 73/90\n"
     ]
    },
    {
     "name": "stderr",
     "output_type": "stream",
     "text": [
      "Training: 100%|██████████| 1725/1725 [00:41<00:00, 41.42it/s, loss=0.4230]\n",
      "Evaluating: 100%|██████████| 150/150 [00:01<00:00, 132.96it/s, loss=0.4063]\n"
     ]
    },
    {
     "name": "stdout",
     "output_type": "stream",
     "text": [
      "\n",
      "Epoch Summary:\n",
      "\tTrain Loss: 0.4230 | Train Acc: 85.46%\n",
      "\tValid Loss: 0.4063 | Valid Acc: 87.33%\n",
      "\tLearning Rate: 0.001000\n"
     ]
    },
    {
     "name": "stderr",
     "output_type": "stream",
     "text": [
      "Training:   0%|          | 5/1725 [00:00<00:39, 43.75it/s, loss=0.4898]"
     ]
    },
    {
     "name": "stdout",
     "output_type": "stream",
     "text": [
      "New best model saved to 'runs/adam_from_epoch71/best_model.pth'\n",
      "--------------------------------------------------\n",
      "Epoch 74/90\n"
     ]
    },
    {
     "name": "stderr",
     "output_type": "stream",
     "text": [
      "Training: 100%|██████████| 1725/1725 [00:41<00:00, 41.49it/s, loss=0.4211]\n",
      "Evaluating: 100%|██████████| 150/150 [00:01<00:00, 130.66it/s, loss=0.3909]\n"
     ]
    },
    {
     "name": "stdout",
     "output_type": "stream",
     "text": [
      "\n",
      "Epoch Summary:\n",
      "\tTrain Loss: 0.4211 | Train Acc: 85.57%\n",
      "\tValid Loss: 0.3909 | Valid Acc: 87.43%\n",
      "\tLearning Rate: 0.000100\n"
     ]
    },
    {
     "name": "stderr",
     "output_type": "stream",
     "text": [
      "Training:   0%|          | 3/1725 [00:00<01:02, 27.77it/s, loss=0.3838]"
     ]
    },
    {
     "name": "stdout",
     "output_type": "stream",
     "text": [
      "New best model saved to 'runs/adam_from_epoch71/best_model.pth'\n",
      "--------------------------------------------------\n",
      "Epoch 75/90\n"
     ]
    },
    {
     "name": "stderr",
     "output_type": "stream",
     "text": [
      "Training: 100%|██████████| 1725/1725 [00:41<00:00, 41.57it/s, loss=0.3934]\n",
      "Evaluating: 100%|██████████| 150/150 [00:01<00:00, 134.57it/s, loss=0.3830]\n"
     ]
    },
    {
     "name": "stdout",
     "output_type": "stream",
     "text": [
      "\n",
      "Epoch Summary:\n",
      "\tTrain Loss: 0.3934 | Train Acc: 86.40%\n",
      "\tValid Loss: 0.3830 | Valid Acc: 88.10%\n",
      "\tLearning Rate: 0.000100\n"
     ]
    },
    {
     "name": "stderr",
     "output_type": "stream",
     "text": [
      "Training:   0%|          | 3/1725 [00:00<01:00, 28.32it/s, loss=0.4608]"
     ]
    },
    {
     "name": "stdout",
     "output_type": "stream",
     "text": [
      "New best model saved to 'runs/adam_from_epoch71/best_model.pth'\n",
      "--------------------------------------------------\n",
      "Epoch 76/90\n"
     ]
    },
    {
     "name": "stderr",
     "output_type": "stream",
     "text": [
      "Training: 100%|██████████| 1725/1725 [00:41<00:00, 41.47it/s, loss=0.3847]\n",
      "Evaluating: 100%|██████████| 150/150 [00:01<00:00, 132.62it/s, loss=0.3743]\n"
     ]
    },
    {
     "name": "stdout",
     "output_type": "stream",
     "text": [
      "\n",
      "Epoch Summary:\n",
      "\tTrain Loss: 0.3847 | Train Acc: 86.71%\n",
      "\tValid Loss: 0.3743 | Valid Acc: 88.25%\n",
      "\tLearning Rate: 0.000100\n"
     ]
    },
    {
     "name": "stderr",
     "output_type": "stream",
     "text": [
      "Training:   0%|          | 5/1725 [00:00<00:42, 40.50it/s, loss=0.3942]"
     ]
    },
    {
     "name": "stdout",
     "output_type": "stream",
     "text": [
      "New best model saved to 'runs/adam_from_epoch71/best_model.pth'\n",
      "--------------------------------------------------\n",
      "Epoch 77/90\n"
     ]
    },
    {
     "name": "stderr",
     "output_type": "stream",
     "text": [
      "Training: 100%|██████████| 1725/1725 [00:41<00:00, 41.35it/s, loss=0.3803]\n",
      "Evaluating: 100%|██████████| 150/150 [00:01<00:00, 134.22it/s, loss=0.3778]\n",
      "Training:   0%|          | 2/1725 [00:00<01:56, 14.83it/s, loss=0.3994]"
     ]
    },
    {
     "name": "stdout",
     "output_type": "stream",
     "text": [
      "\n",
      "Epoch Summary:\n",
      "\tTrain Loss: 0.3803 | Train Acc: 86.97%\n",
      "\tValid Loss: 0.3778 | Valid Acc: 88.09%\n",
      "\tLearning Rate: 0.000100\n",
      "--------------------------------------------------\n",
      "Epoch 78/90\n"
     ]
    },
    {
     "name": "stderr",
     "output_type": "stream",
     "text": [
      "Training: 100%|██████████| 1725/1725 [00:41<00:00, 41.53it/s, loss=0.3757]\n",
      "Evaluating: 100%|██████████| 150/150 [00:01<00:00, 131.81it/s, loss=0.3654]\n"
     ]
    },
    {
     "name": "stdout",
     "output_type": "stream",
     "text": [
      "\n",
      "Epoch Summary:\n",
      "\tTrain Loss: 0.3757 | Train Acc: 87.11%\n",
      "\tValid Loss: 0.3654 | Valid Acc: 88.35%\n",
      "\tLearning Rate: 0.000010\n"
     ]
    },
    {
     "name": "stderr",
     "output_type": "stream",
     "text": [
      "Training:   0%|          | 5/1725 [00:00<00:41, 41.25it/s, loss=0.3878]"
     ]
    },
    {
     "name": "stdout",
     "output_type": "stream",
     "text": [
      "New best model saved to 'runs/adam_from_epoch71/best_model.pth'\n",
      "--------------------------------------------------\n",
      "Epoch 79/90\n"
     ]
    },
    {
     "name": "stderr",
     "output_type": "stream",
     "text": [
      "Training: 100%|██████████| 1725/1725 [00:41<00:00, 41.58it/s, loss=0.3705]\n",
      "Evaluating: 100%|██████████| 150/150 [00:01<00:00, 131.86it/s, loss=0.3672]\n"
     ]
    },
    {
     "name": "stdout",
     "output_type": "stream",
     "text": [
      "\n",
      "Epoch Summary:\n",
      "\tTrain Loss: 0.3705 | Train Acc: 87.26%\n",
      "\tValid Loss: 0.3672 | Valid Acc: 88.40%\n",
      "\tLearning Rate: 0.000010\n"
     ]
    },
    {
     "name": "stderr",
     "output_type": "stream",
     "text": [
      "Training:   0%|          | 5/1725 [00:00<00:39, 43.39it/s, loss=0.3385]"
     ]
    },
    {
     "name": "stdout",
     "output_type": "stream",
     "text": [
      "New best model saved to 'runs/adam_from_epoch71/best_model.pth'\n",
      "--------------------------------------------------\n",
      "Epoch 80/90\n"
     ]
    },
    {
     "name": "stderr",
     "output_type": "stream",
     "text": [
      "Training: 100%|██████████| 1725/1725 [00:41<00:00, 41.61it/s, loss=0.3702]\n",
      "Evaluating: 100%|██████████| 150/150 [00:01<00:00, 128.08it/s, loss=0.3684]\n",
      "Training:   0%|          | 5/1725 [00:00<00:38, 44.30it/s, loss=0.4257]"
     ]
    },
    {
     "name": "stdout",
     "output_type": "stream",
     "text": [
      "\n",
      "Epoch Summary:\n",
      "\tTrain Loss: 0.3702 | Train Acc: 87.29%\n",
      "\tValid Loss: 0.3684 | Valid Acc: 88.36%\n",
      "\tLearning Rate: 0.000010\n",
      "--------------------------------------------------\n",
      "Epoch 81/90\n"
     ]
    },
    {
     "name": "stderr",
     "output_type": "stream",
     "text": [
      "Training: 100%|██████████| 1725/1725 [00:41<00:00, 41.49it/s, loss=0.3704]\n",
      "Evaluating: 100%|██████████| 150/150 [00:01<00:00, 138.11it/s, loss=0.3678]\n",
      "Training:   0%|          | 4/1725 [00:00<00:44, 39.01it/s, loss=0.2933]"
     ]
    },
    {
     "name": "stdout",
     "output_type": "stream",
     "text": [
      "\n",
      "Epoch Summary:\n",
      "\tTrain Loss: 0.3704 | Train Acc: 87.35%\n",
      "\tValid Loss: 0.3678 | Valid Acc: 88.35%\n",
      "\tLearning Rate: 0.000010\n",
      "--------------------------------------------------\n",
      "Epoch 82/90\n"
     ]
    },
    {
     "name": "stderr",
     "output_type": "stream",
     "text": [
      "Training: 100%|██████████| 1725/1725 [00:41<00:00, 41.63it/s, loss=0.3695]\n",
      "Evaluating: 100%|██████████| 150/150 [00:01<00:00, 130.84it/s, loss=0.3672]\n",
      "Training:   0%|          | 4/1725 [00:00<00:47, 36.28it/s, loss=0.3528]"
     ]
    },
    {
     "name": "stdout",
     "output_type": "stream",
     "text": [
      "\n",
      "Epoch Summary:\n",
      "\tTrain Loss: 0.3695 | Train Acc: 87.30%\n",
      "\tValid Loss: 0.3672 | Valid Acc: 88.30%\n",
      "\tLearning Rate: 0.000001\n",
      "--------------------------------------------------\n",
      "Epoch 83/90\n"
     ]
    },
    {
     "name": "stderr",
     "output_type": "stream",
     "text": [
      "Training: 100%|██████████| 1725/1725 [00:41<00:00, 41.58it/s, loss=0.3679]\n",
      "Evaluating: 100%|██████████| 150/150 [00:01<00:00, 135.25it/s, loss=0.3671]\n",
      "Training:   0%|          | 3/1725 [00:00<01:06, 26.05it/s, loss=0.3893]"
     ]
    },
    {
     "name": "stdout",
     "output_type": "stream",
     "text": [
      "\n",
      "Epoch Summary:\n",
      "\tTrain Loss: 0.3679 | Train Acc: 87.41%\n",
      "\tValid Loss: 0.3671 | Valid Acc: 88.34%\n",
      "\tLearning Rate: 0.000001\n",
      "--------------------------------------------------\n",
      "Epoch 84/90\n"
     ]
    },
    {
     "name": "stderr",
     "output_type": "stream",
     "text": [
      "Training: 100%|██████████| 1725/1725 [00:41<00:00, 41.57it/s, loss=0.3674]\n",
      "Evaluating: 100%|██████████| 150/150 [00:01<00:00, 128.75it/s, loss=0.3672]\n",
      "Training:   0%|          | 4/1725 [00:00<00:50, 33.92it/s, loss=0.3726]"
     ]
    },
    {
     "name": "stdout",
     "output_type": "stream",
     "text": [
      "\n",
      "Epoch Summary:\n",
      "\tTrain Loss: 0.3674 | Train Acc: 87.43%\n",
      "\tValid Loss: 0.3672 | Valid Acc: 88.39%\n",
      "\tLearning Rate: 0.000001\n",
      "--------------------------------------------------\n",
      "Epoch 85/90\n"
     ]
    },
    {
     "name": "stderr",
     "output_type": "stream",
     "text": [
      "Training: 100%|██████████| 1725/1725 [00:41<00:00, 41.60it/s, loss=0.3698]\n",
      "Evaluating: 100%|██████████| 150/150 [00:01<00:00, 129.10it/s, loss=0.3671]\n",
      "Training:   0%|          | 3/1725 [00:00<01:05, 26.39it/s, loss=0.3080]"
     ]
    },
    {
     "name": "stdout",
     "output_type": "stream",
     "text": [
      "\n",
      "Epoch Summary:\n",
      "\tTrain Loss: 0.3698 | Train Acc: 87.34%\n",
      "\tValid Loss: 0.3671 | Valid Acc: 88.38%\n",
      "\tLearning Rate: 0.000001\n",
      "--------------------------------------------------\n",
      "Epoch 86/90\n"
     ]
    },
    {
     "name": "stderr",
     "output_type": "stream",
     "text": [
      "Training: 100%|██████████| 1725/1725 [00:41<00:00, 41.55it/s, loss=0.3702]\n",
      "Evaluating: 100%|██████████| 150/150 [00:01<00:00, 120.75it/s, loss=0.3675]\n",
      "Training:   0%|          | 3/1725 [00:00<01:01, 28.09it/s, loss=0.3665]"
     ]
    },
    {
     "name": "stdout",
     "output_type": "stream",
     "text": [
      "\n",
      "Epoch Summary:\n",
      "\tTrain Loss: 0.3702 | Train Acc: 87.27%\n",
      "\tValid Loss: 0.3675 | Valid Acc: 88.40%\n",
      "\tLearning Rate: 0.000000\n",
      "--------------------------------------------------\n",
      "Epoch 87/90\n"
     ]
    },
    {
     "name": "stderr",
     "output_type": "stream",
     "text": [
      "Training: 100%|██████████| 1725/1725 [00:41<00:00, 41.61it/s, loss=0.3695]\n",
      "Evaluating: 100%|██████████| 150/150 [00:01<00:00, 132.05it/s, loss=0.3676]\n"
     ]
    },
    {
     "name": "stdout",
     "output_type": "stream",
     "text": [
      "\n",
      "Epoch Summary:\n",
      "\tTrain Loss: 0.3695 | Train Acc: 87.35%\n",
      "\tValid Loss: 0.3676 | Valid Acc: 88.41%\n",
      "\tLearning Rate: 0.000000\n"
     ]
    },
    {
     "name": "stderr",
     "output_type": "stream",
     "text": [
      "Training:   0%|          | 3/1725 [00:00<00:57, 29.73it/s, loss=0.4301]"
     ]
    },
    {
     "name": "stdout",
     "output_type": "stream",
     "text": [
      "New best model saved to 'runs/adam_from_epoch71/best_model.pth'\n",
      "--------------------------------------------------\n",
      "Epoch 88/90\n"
     ]
    },
    {
     "name": "stderr",
     "output_type": "stream",
     "text": [
      "Training: 100%|██████████| 1725/1725 [00:41<00:00, 41.27it/s, loss=0.3680]\n",
      "Evaluating: 100%|██████████| 150/150 [00:01<00:00, 114.77it/s, loss=0.3676]\n",
      "Training:   0%|          | 3/1725 [00:00<01:07, 25.55it/s, loss=0.3287]"
     ]
    },
    {
     "name": "stdout",
     "output_type": "stream",
     "text": [
      "\n",
      "Epoch Summary:\n",
      "\tTrain Loss: 0.3680 | Train Acc: 87.45%\n",
      "\tValid Loss: 0.3676 | Valid Acc: 88.41%\n",
      "\tLearning Rate: 0.000000\n",
      "--------------------------------------------------\n",
      "Epoch 89/90\n"
     ]
    },
    {
     "name": "stderr",
     "output_type": "stream",
     "text": [
      "Training: 100%|██████████| 1725/1725 [00:41<00:00, 41.26it/s, loss=0.3672]\n",
      "Evaluating: 100%|██████████| 150/150 [00:01<00:00, 128.99it/s, loss=0.3676]\n",
      "Training:   0%|          | 2/1725 [00:00<01:30, 19.13it/s, loss=0.4292]"
     ]
    },
    {
     "name": "stdout",
     "output_type": "stream",
     "text": [
      "\n",
      "Epoch Summary:\n",
      "\tTrain Loss: 0.3672 | Train Acc: 87.52%\n",
      "\tValid Loss: 0.3676 | Valid Acc: 88.39%\n",
      "\tLearning Rate: 0.000000\n",
      "--------------------------------------------------\n",
      "Epoch 90/90\n"
     ]
    },
    {
     "name": "stderr",
     "output_type": "stream",
     "text": [
      "Training: 100%|██████████| 1725/1725 [00:41<00:00, 41.47it/s, loss=0.3683]\n",
      "Evaluating: 100%|██████████| 150/150 [00:01<00:00, 135.41it/s, loss=0.3676]\n"
     ]
    },
    {
     "name": "stdout",
     "output_type": "stream",
     "text": [
      "\n",
      "Epoch Summary:\n",
      "\tTrain Loss: 0.3683 | Train Acc: 87.38%\n",
      "\tValid Loss: 0.3676 | Valid Acc: 88.40%\n",
      "\tLearning Rate: 0.000000\n",
      "--------------------------------------------------\n",
      "Training Finished!\n"
     ]
    }
   ],
   "source": [
    "EPOCHS = 90            # Train up to a total of 90 epochs\n",
    "\n",
    "print(f\"Starting training from epoch {start_epoch}...\")\n",
    "\n",
    "for epoch in range(start_epoch, EPOCHS + 1):\n",
    "    print(\"-\" * 50)\n",
    "    print(f\"Epoch {epoch}/{EPOCHS}\")\n",
    "    \n",
    "    # Run training and validation\n",
    "    train_loss, train_acc = train_epoch(model, train_dataloader, criterion, optimizer, DEVICE)\n",
    "    history['train_loss'].append(train_loss)\n",
    "    history['train_acc'].append(train_acc)\n",
    "    \n",
    "    val_loss, val_acc = evaluate_epoch(model, valid_dataloader, criterion, DEVICE)\n",
    "    history['val_loss'].append(val_loss)\n",
    "    history['val_acc'].append(val_acc)\n",
    "    \n",
    "    scheduler.step()\n",
    "    \n",
    "    # Get current LR to print it\n",
    "    current_lr = optimizer.param_groups[0]['lr']\n",
    "    \n",
    "    # summary\n",
    "    print(f\"\\nEpoch Summary:\")\n",
    "    print(f\"\\tTrain Loss: {train_loss:.4f} | Train Acc: {train_acc*100:.2f}%\")\n",
    "    print(f\"\\tValid Loss: {val_loss:.4f} | Valid Acc: {val_acc*100:.2f}%\")\n",
    "    print(f\"\\tLearning Rate: {current_lr:.6f}\")\n",
    "\n",
    "    # Save best model to the experiment folder\n",
    "    if val_acc > best_val_accuracy:\n",
    "        best_val_accuracy = val_acc\n",
    "        best_model_path = os.path.join(EXPERIMENT_DIR, 'best_model.pth')\n",
    "        torch.save(model.state_dict(), best_model_path)\n",
    "        print(f\"New best model saved to '{best_model_path}'\")\n",
    "\n",
    "print(\"-\" * 50)\n",
    "print(\"Training Finished!\")\n",
    "        \n",
    "        \n",
    "# Save final history to the experiment folder\n",
    "for key, value in history.items():\n",
    "    file_path = os.path.join(METRICS_DIR, f\"{key}.pkl\")\n",
    "    save_list_to_file(value, file_path)"
   ]
  },
  {
   "cell_type": "code",
   "execution_count": null,
   "metadata": {},
   "outputs": [],
   "source": []
  },
  {
   "cell_type": "code",
   "execution_count": 12,
   "metadata": {},
   "outputs": [],
   "source": [
    "current_checkpoint = {\n",
    "    'epoch': epoch,\n",
    "    'model_state_dict': model.state_dict(),\n",
    "    'optimizer_state_dict': optimizer.state_dict(),\n",
    "    'scheduler_state_dict': scheduler.state_dict(),\n",
    "    'history': history,\n",
    "    'best_val_accuracy': best_val_accuracy\n",
    "}\n",
    "\n",
    "torch.save(current_checkpoint, os.path.join(EXPERIMENT_DIR, 'checkpoint.pth'))"
   ]
  },
  {
   "cell_type": "code",
   "execution_count": null,
   "metadata": {},
   "outputs": [],
   "source": []
  }
 ],
 "metadata": {
  "kernelspec": {
   "display_name": "Python 3",
   "language": "python",
   "name": "python3"
  },
  "language_info": {
   "codemirror_mode": {
    "name": "ipython",
    "version": 3
   },
   "file_extension": ".py",
   "mimetype": "text/x-python",
   "name": "python",
   "nbconvert_exporter": "python",
   "pygments_lexer": "ipython3",
   "version": "3.8.10"
  }
 },
 "nbformat": 4,
 "nbformat_minor": 2
}
